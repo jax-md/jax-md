{
  "nbformat": 4,
  "nbformat_minor": 0,
  "metadata": {
    "colab": {
      "name": "Sand Castle Demo.ipynb",
      "provenance": [],
      "collapsed_sections": [],
      "authorship_tag": "ABX9TyP7h7ZF+P5Z8I2A58MNBBvI",
      "include_colab_link": true
    },
    "kernelspec": {
      "name": "python3",
      "display_name": "Python 3"
    },
    "language_info": {
      "name": "python"
    },
    "accelerator": "GPU"
  },
  "cells": [
    {
      "cell_type": "markdown",
      "metadata": {
        "id": "view-in-github",
        "colab_type": "text"
      },
      "source": [
        "<a href=\"https://colab.research.google.com/github/google/jax-md/blob/main/notebooks/sand_castle.ipynb\" target=\"_parent\"><img src=\"https://colab.research.google.com/assets/colab-badge.svg\" alt=\"Open In Colab\"/></a>"
      ]
    },
    {
      "cell_type": "code",
      "execution_count": null,
      "metadata": {
        "cellView": "form",
        "id": "TJ8D-gRHPNJJ"
      },
      "outputs": [],
      "source": [
        "#@title Imports & Utils\n",
        "\n",
        "\n",
        "!pip install jax-md\n",
        "!wget https://raw.githubusercontent.com/google/jax-md/main/examples/models/sand_castle.png\n",
        "\n",
        "import imageio\n",
        "import jax.numpy as jnp\n",
        "\n",
        "from IPython.display import set_matplotlib_formats\n",
        "set_matplotlib_formats('pdf', 'svg')\n",
        "import matplotlib.pyplot as plt\n",
        "import seaborn as sns\n",
        "\n",
        "sns.set_style(style='white')\n",
        "background_color = [56 / 256] * 3\n",
        "\n",
        "def make_from_image(filename, size_in_pixels):\n",
        "  position = []\n",
        "  angle = []\n",
        "  color = []\n",
        "\n",
        "  img = imageio.imread(filename)\n",
        "\n",
        "  scale = 2**(1/6)\n",
        "  ratio = jnp.sqrt(1 - 0.25)\n",
        "  for i, y in enumerate(range(0, img.shape[0], size_in_pixels)):\n",
        "    for x in range(0, img.shape[1], size_in_pixels):\n",
        "      r, g, b, a = img[y, x]\n",
        "      if a == 255:\n",
        "        hshift = size_in_pixels * (i % 2) / 2.0\n",
        "        position += [[scale * (x + hshift) / size_in_pixels, scale * (img.shape[0] - y) / size_in_pixels * ratio]]\n",
        "        color += [[r / 255, g / 255, b / 255]]\n",
        "  img_size = jnp.array(img.shape[:2]).T / size_in_pixels * scale\n",
        "  box_size = jnp.max(img_size) * 1.5\n",
        "  position = jnp.array(position, jnp.float64) + box_size / 2.0 - img_size / 2\n",
        "  color = jnp.array(color, jnp.float64)\n",
        "\n",
        "  return box_size, position, color"
      ]
    },
    {
      "cell_type": "markdown",
      "source": [
        "# Sand Castle"
      ],
      "metadata": {
        "id": "6kdBx8FWXf0S"
      }
    },
    {
      "cell_type": "markdown",
      "source": [
        "In this demo we simulate a sand castle and then demolish it using a projectile."
      ],
      "metadata": {
        "id": "r3wrN66gSe2D"
      }
    },
    {
      "cell_type": "markdown",
      "source": [
        "## Load the sand castle"
      ],
      "metadata": {
        "id": "qMnCulYpXmec"
      }
    },
    {
      "cell_type": "code",
      "source": [
        "box, positions, colors = make_from_image('sand_castle.png', 24)"
      ],
      "metadata": {
        "id": "qGPanHcGP4ef"
      },
      "execution_count": null,
      "outputs": []
    },
    {
      "cell_type": "code",
      "source": [
        "from jax_md.colab_tools import renderer\n",
        "\n",
        "renderer.render(box,\n",
        "                renderer.Disk(positions, color=colors))"
      ],
      "metadata": {
        "id": "qW9zGeOEQ5y5"
      },
      "execution_count": null,
      "outputs": []
    },
    {
      "cell_type": "code",
      "source": [
        "print(f'There are {len(positions)} grains.')"
      ],
      "metadata": {
        "id": "pKH8s2-JWZ8S"
      },
      "execution_count": null,
      "outputs": []
    },
    {
      "cell_type": "markdown",
      "source": [
        "## Spaces"
      ],
      "metadata": {
        "id": "JgN7LhJYar8I"
      }
    },
    {
      "cell_type": "code",
      "source": [
        "from jax_md import space\n",
        "\n",
        "displacement_fn, shift_fn = space.periodic(box)"
      ],
      "metadata": {
        "id": "kZG8YcpqTEK7"
      },
      "execution_count": null,
      "outputs": []
    },
    {
      "cell_type": "code",
      "source": [
        "positions[0]"
      ],
      "metadata": {
        "id": "4MSSXHIh-dF1"
      },
      "execution_count": null,
      "outputs": []
    },
    {
      "cell_type": "code",
      "source": [
        "displacement_fn(positions[0], positions[-1])"
      ],
      "metadata": {
        "id": "OHOcJN-7TdFV"
      },
      "execution_count": null,
      "outputs": []
    },
    {
      "cell_type": "code",
      "source": [
        "shift_fn(positions[0], jnp.array([10.0, 0.0]))"
      ],
      "metadata": {
        "id": "Kh-WMJtR-Va2"
      },
      "execution_count": null,
      "outputs": []
    },
    {
      "cell_type": "markdown",
      "source": [
        "## Energy"
      ],
      "metadata": {
        "id": "i0_-6MRza4s9"
      }
    },
    {
      "cell_type": "markdown",
      "source": [
        "\"Energy\" in Physics plays a similar role to \"Loss\" in machine learning. \n",
        "\n",
        "Write down an energy function between two grains of sand, $\\epsilon(r)$. \n",
        "\n",
        "The total energy will be the sum of all pairs of energies.\n",
        "\n",
        "$$E = \\sum_{i,j} \\epsilon(r_{ij})$$\n",
        "\n",
        "where $r_{ij}$ is the distance between grain $i$ and grain $j$.\n"
      ],
      "metadata": {
        "id": "_LC7N1iaa6Wm"
      }
    },
    {
      "cell_type": "markdown",
      "source": [
        "We want to model wet sand:\n",
        "\n",
        "*   Grains are hard (no interpenetration).\n",
        "*   Grains stick together a little bit.\n",
        "*   Grains far away from one another don't notice each other."
      ],
      "metadata": {
        "id": "1-wq2eV5lc7J"
      }
    },
    {
      "cell_type": "code",
      "source": [
        "from jax_md import energy\n",
        "\n",
        "rs = jnp.linspace(0.5, 2.5)\n",
        "plt.plot(rs, energy.lennard_jones(rs))\n",
        "\n",
        "plt.ylim([-1, 1])\n",
        "plt.xlim([0, 2.5])\n",
        "plt.xlabel('$r_{ij}$')\n",
        "plt.ylabel('$\\\\epsilon$')"
      ],
      "metadata": {
        "id": "cBf3flaocGWN"
      },
      "execution_count": null,
      "outputs": []
    },
    {
      "cell_type": "code",
      "source": [
        "sand_energy = energy.lennard_jones_pair(displacement_fn)\n",
        "\n",
        "sand_energy(positions)"
      ],
      "metadata": {
        "id": "jlssetnHTgv7"
      },
      "execution_count": null,
      "outputs": []
    },
    {
      "cell_type": "markdown",
      "source": [
        "## Simulate"
      ],
      "metadata": {
        "id": "NZuAjcdvdB0O"
      }
    },
    {
      "cell_type": "code",
      "source": [
        "from jax import random\n",
        "\n",
        "simulation_steps = 10000\n",
        "write_every = 50\n",
        "key = random.PRNGKey(1)"
      ],
      "metadata": {
        "id": "p-pdHb6umh9v"
      },
      "execution_count": null,
      "outputs": []
    },
    {
      "cell_type": "code",
      "source": [
        "from jax_md import simulate\n",
        "from jax import jit\n",
        "\n",
        "init_fn, step_fn = simulate.nvt_langevin(sand_energy, shift_fn, dt=5e-3, kT=0.0, gamma=1e-2)\n",
        "\n",
        "sand = init_fn(key, positions)\n",
        "step_fn = jit(step_fn)"
      ],
      "metadata": {
        "id": "wvygEvsyUAxQ"
      },
      "execution_count": null,
      "outputs": []
    },
    {
      "cell_type": "code",
      "source": [
        "trajectory = []\n",
        "\n",
        "for i in range(simulation_steps):\n",
        "  if i % write_every == 0:\n",
        "    trajectory += [sand.position]\n",
        "    \n",
        "  sand = step_fn(sand)\n",
        "\n",
        "trajectory = jnp.stack(trajectory)"
      ],
      "metadata": {
        "id": "fznTbnY8UN17"
      },
      "execution_count": null,
      "outputs": []
    },
    {
      "cell_type": "code",
      "source": [
        "renderer.render(box, renderer.Disk(trajectory, color=colors))"
      ],
      "metadata": {
        "id": "VDVSoyliUaPx"
      },
      "execution_count": null,
      "outputs": []
    },
    {
      "cell_type": "markdown",
      "source": [
        "## Simulate slightly faster..."
      ],
      "metadata": {
        "id": "pFK2ESJ2dbu3"
      }
    },
    {
      "cell_type": "code",
      "source": [
        "from jax import lax\n",
        "\n",
        "def simulation_fn(i, sand_trajectory):\n",
        "  sand, trajectory = sand_trajectory\n",
        "\n",
        "  trajectory = trajectory.at[i].set(sand.position)\n",
        "  sand = lax.fori_loop(0, write_every, lambda _, s: step_fn(s), sand)\n",
        "\n",
        "  return sand, trajectory"
      ],
      "metadata": {
        "id": "pd1vEEOeaTAX"
      },
      "execution_count": null,
      "outputs": []
    },
    {
      "cell_type": "code",
      "source": [
        "write_steps = simulation_steps // write_every\n",
        "n = positions.shape[0]\n",
        "\n",
        "sand = init_fn(random.PRNGKey(0), positions)\n",
        "trajectory = jnp.zeros((write_steps, n, 2))\n",
        "sand, trajectory = lax.fori_loop(0, write_steps, simulation_fn, (sand, trajectory))"
      ],
      "metadata": {
        "id": "vPzFJe5ddzTk"
      },
      "execution_count": null,
      "outputs": []
    },
    {
      "cell_type": "code",
      "source": [
        "renderer.render(box, renderer.Disk(trajectory, color=colors))"
      ],
      "metadata": {
        "id": "Gc8faIOTb3-2"
      },
      "execution_count": null,
      "outputs": []
    },
    {
      "cell_type": "markdown",
      "source": [
        "## Let's blow it up!"
      ],
      "metadata": {
        "id": "RD3GM0wdh46k"
      }
    },
    {
      "cell_type": "markdown",
      "source": [
        "### The projectile"
      ],
      "metadata": {
        "id": "ekE9sY0HBhzf"
      }
    },
    {
      "cell_type": "code",
      "source": [
        "projectile = jnp.array([1.0, box / 3.0])\n",
        "\n",
        "radius = jnp.array(2.0)\n",
        "strength = 1000.0\n",
        "velocity = jnp.array([3e-2, 0.0])"
      ],
      "metadata": {
        "id": "ZNllJqaAh9iS"
      },
      "execution_count": null,
      "outputs": []
    },
    {
      "cell_type": "markdown",
      "source": [
        "Model the projectile by adding a term to the energy,\n",
        "\n",
        "$$E = \\sum_{i,j}\\epsilon(r_{ij}) + \\sum_i \\epsilon_p(r_{ip})$$\n",
        "\n",
        "where $r_{ip}$ is the distance between grain $i$ and the projectile."
      ],
      "metadata": {
        "id": "BLZrybcvk16A"
      }
    },
    {
      "cell_type": "markdown",
      "source": [
        "Want the projectile to only repel the sand (no attraction)."
      ],
      "metadata": {
        "id": "l1drK7S3BDy7"
      }
    },
    {
      "cell_type": "code",
      "source": [
        "from jax_md import energy\n",
        "\n",
        "rs = jnp.linspace(0.5, 2.5)\n",
        "plt.plot(rs, energy.lennard_jones(rs))\n",
        "plt.plot(rs, energy.soft_sphere(rs, epsilon=strength))\n",
        "\n",
        "plt.ylim([-1, 10])\n",
        "plt.xlim([0, 2.5])\n",
        "plt.xlabel('$r_{ij}$')\n",
        "plt.ylabel('$\\\\epsilon$')"
      ],
      "metadata": {
        "id": "oaVEccBtA0Ve"
      },
      "execution_count": null,
      "outputs": []
    },
    {
      "cell_type": "code",
      "source": [
        "def projectile_energy(sand, projectile):\n",
        "  distance = jnp.linalg.norm(sand - projectile, axis=-1)\n",
        "  e = energy.soft_sphere(distance, sigma=radius + 1.0, epsilon=strength)\n",
        "  return jnp.sum(e)\n",
        "\n",
        "def total_energy(sand, projectile, **kwargs):\n",
        "  return sand_energy(sand) + projectile_energy(sand, projectile)"
      ],
      "metadata": {
        "id": "Cl1rAhH4l7xT"
      },
      "execution_count": null,
      "outputs": []
    },
    {
      "cell_type": "markdown",
      "source": [
        "### Run the simulation"
      ],
      "metadata": {
        "id": "CEXR9LPgBgzb"
      }
    },
    {
      "cell_type": "code",
      "source": [
        "from jax_md import dataclasses\n",
        "\n",
        "@dataclasses.dataclass\n",
        "class SandCastle:\n",
        "  sand: simulate.NVTLangevinState\n",
        "  projectile: jnp.ndarray"
      ],
      "metadata": {
        "id": "WHdVe6RxBnPm"
      },
      "execution_count": null,
      "outputs": []
    },
    {
      "cell_type": "code",
      "source": [
        "simulation_steps = 10000\n",
        "write_every = 50\n",
        "write_steps = simulation_steps // write_every"
      ],
      "metadata": {
        "id": "Ot1C1QSInSCs"
      },
      "execution_count": null,
      "outputs": []
    },
    {
      "cell_type": "code",
      "source": [
        "from jax_md import simulate\n",
        "\n",
        "init_fn, step_fn = simulate.nvt_langevin(total_energy, shift_fn, dt=5e-3, kT=0.0)"
      ],
      "metadata": {
        "id": "Lmczvx-7nSCu"
      },
      "execution_count": null,
      "outputs": []
    },
    {
      "cell_type": "code",
      "source": [
        "from jax import lax\n",
        "\n",
        "def simulation_fn(i, state_trajectory):\n",
        "  state, traj = state_trajectory\n",
        "\n",
        "  traj = SandCastle(\n",
        "      traj.sand.at[i].set(state.sand.position),\n",
        "      traj.projectile.at[i].set(state.projectile)\n",
        "  )\n",
        "\n",
        "  def total_step_fn(_, state):\n",
        "    return SandCastle(\n",
        "        step_fn(state.sand, projectile=state.projectile),\n",
        "        state.projectile + velocity\n",
        "    )\n",
        "\n",
        "  state = lax.fori_loop(0, write_every, total_step_fn, state)\n",
        "\n",
        "  return state, traj"
      ],
      "metadata": {
        "id": "ekEPzywlqydL"
      },
      "execution_count": null,
      "outputs": []
    },
    {
      "cell_type": "code",
      "source": [
        "n = positions.shape[0]\n",
        "\n",
        "state = SandCastle(\n",
        "    init_fn(key, positions, projectile=projectile),\n",
        "    projectile\n",
        ")\n",
        "trajectory = SandCastle(\n",
        "    jnp.zeros((write_steps, n, 2)),\n",
        "    jnp.zeros((write_steps, 2))\n",
        ")\n",
        "\n",
        "state, trajectory = lax.fori_loop(0, write_steps, simulation_fn, (state, trajectory))"
      ],
      "metadata": {
        "id": "Q6ovE-BKq__5"
      },
      "execution_count": null,
      "outputs": []
    },
    {
      "cell_type": "code",
      "source": [
        "renderer.render(\n",
        "    box,\n",
        "    {\n",
        "        'sand': renderer.Disk(trajectory.sand, color=colors),\n",
        "        'projectile': renderer.Disk(trajectory.projectile[:, None, :], \n",
        "                                    diameter=radius * 2)\n",
        "    }\n",
        ")"
      ],
      "metadata": {
        "id": "weGWOIe5nSCw"
      },
      "execution_count": null,
      "outputs": []
    },
    {
      "cell_type": "markdown",
      "source": [
        "## Scaling Up"
      ],
      "metadata": {
        "id": "bBdrHZWyxx8M"
      }
    },
    {
      "cell_type": "markdown",
      "source": [
        "So far at each step we have been computing the interaction between every pair of grains.\n",
        "\n",
        "But grains that are far apart don't affect each other."
      ],
      "metadata": {
        "id": "Zmws4uWnyo3w"
      }
    },
    {
      "cell_type": "code",
      "source": [
        "box, positions, colors = make_from_image('sand_castle.png', 6)"
      ],
      "metadata": {
        "id": "dzsliLymUwM4"
      },
      "execution_count": null,
      "outputs": []
    },
    {
      "cell_type": "code",
      "source": [
        "len(positions)"
      ],
      "metadata": {
        "id": "fRQzUIb8cWa6"
      },
      "execution_count": null,
      "outputs": []
    },
    {
      "cell_type": "code",
      "source": [
        "from jax_md.colab_tools import renderer\n",
        "\n",
        "renderer.render(box, renderer.Disk(positions, color=colors))"
      ],
      "metadata": {
        "id": "w8V3ZkMfWU22"
      },
      "execution_count": null,
      "outputs": []
    },
    {
      "cell_type": "code",
      "source": [
        "displacement_fn, shift_fn = space.periodic(box)"
      ],
      "metadata": {
        "id": "wZqVC3Hfzh-z"
      },
      "execution_count": null,
      "outputs": []
    },
    {
      "cell_type": "markdown",
      "source": [
        "### Neighbor lists"
      ],
      "metadata": {
        "id": "oVRhRyzTzPyo"
      }
    },
    {
      "cell_type": "code",
      "source": [
        "neighbor_fn, sand_energy = energy.lennard_jones_neighbor_list(displacement_fn, box)"
      ],
      "metadata": {
        "id": "8bDeqtG1ZptU"
      },
      "execution_count": null,
      "outputs": []
    },
    {
      "cell_type": "code",
      "source": [
        "nbrs = neighbor_fn.allocate(positions)"
      ],
      "metadata": {
        "id": "NdJNU_CQcb17"
      },
      "execution_count": null,
      "outputs": []
    },
    {
      "cell_type": "code",
      "source": [
        "nbrs.idx.shape"
      ],
      "metadata": {
        "id": "7lOw_tbpzr2D"
      },
      "execution_count": null,
      "outputs": []
    },
    {
      "cell_type": "code",
      "source": [
        "def total_energy(sand, projectile, neighbor, **kwargs):\n",
        "  return sand_energy(sand, neighbor) + projectile_energy(sand, projectile)"
      ],
      "metadata": {
        "id": "5fTveQ_uz_B3"
      },
      "execution_count": null,
      "outputs": []
    },
    {
      "cell_type": "markdown",
      "source": [
        "### Simulation"
      ],
      "metadata": {
        "id": "vnBzanAr0ASZ"
      }
    },
    {
      "cell_type": "code",
      "source": [
        "simulation_steps = 30000\n",
        "write_every = 400\n",
        "write_steps = simulation_steps // write_every\n",
        "\n",
        "projectile = jnp.array([1.0, box / 3.0])\n",
        "radius = jnp.array(8.0)"
      ],
      "metadata": {
        "id": "S4gCek-t1jO8"
      },
      "execution_count": null,
      "outputs": []
    },
    {
      "cell_type": "code",
      "source": [
        "from jax_md import partition\n",
        "\n",
        "@dataclasses.dataclass\n",
        "class SandCastle:\n",
        "  sand: simulate.NVTLangevinState\n",
        "  projectile: jnp.ndarray\n",
        "  neighbor: partition.NeighborList"
      ],
      "metadata": {
        "id": "grgoCgfTDvC2"
      },
      "execution_count": null,
      "outputs": []
    },
    {
      "cell_type": "code",
      "source": [
        "from jax_md import simulate\n",
        "\n",
        "init_fn, step_fn = simulate.nvt_langevin(total_energy, shift_fn, dt=5e-3, kT=0.0, gamma=1e-2)"
      ],
      "metadata": {
        "id": "9ZfyNC68z_B5"
      },
      "execution_count": null,
      "outputs": []
    },
    {
      "cell_type": "code",
      "source": [
        "from jax import lax\n",
        "\n",
        "def simulation_fn(i, state_trajectory):\n",
        "  state, traj = state_trajectory\n",
        "\n",
        "  traj = SandCastle(\n",
        "     traj.sand.at[i].set(state.sand.position),\n",
        "     traj.projectile.at[i].set(state.projectile),\n",
        "     None \n",
        "  )\n",
        "\n",
        "  def total_step_fn(_, state):\n",
        "    sand = step_fn(state.sand,\n",
        "                   projectile=state.projectile,\n",
        "                   neighbor=state.neighbor)\n",
        "    projectile = state.projectile + velocity\n",
        "    neighbor = state.neighbor.update(state.sand.position)\n",
        "    return SandCastle(sand, projectile, neighbor)\n",
        "\n",
        "  state = lax.fori_loop(0, write_every, total_step_fn, state)\n",
        "\n",
        "  return state, traj"
      ],
      "metadata": {
        "id": "hdlf9Zwsz_B6"
      },
      "execution_count": null,
      "outputs": []
    },
    {
      "cell_type": "code",
      "source": [
        "n = positions.shape[0]\n",
        "\n",
        "state = SandCastle(\n",
        "    init_fn(random.PRNGKey(0), positions, projectile=projectile, neighbor=nbrs),\n",
        "    projectile,\n",
        "    nbrs\n",
        ")\n",
        "trajectory = SandCastle(\n",
        "    jnp.zeros((write_steps, n, 2)),\n",
        "    jnp.zeros((write_steps, 2)),\n",
        "    None\n",
        ")\n",
        "\n",
        "state, trajectory = lax.fori_loop(0, write_steps, simulation_fn, (state, trajectory))"
      ],
      "metadata": {
        "id": "oVSV6Cqdz_B6"
      },
      "execution_count": null,
      "outputs": []
    },
    {
      "cell_type": "code",
      "source": [
        "state.neighbor.did_buffer_overflow"
      ],
      "metadata": {
        "id": "AHMusBd53ZWt"
      },
      "execution_count": null,
      "outputs": []
    },
    {
      "cell_type": "code",
      "source": [
        "renderer.render(\n",
        "    box,\n",
        "    {\n",
        "        'sand': renderer.Disk(trajectory.sand, color=colors),\n",
        "        'projectile': renderer.Disk(trajectory.projectile[:, None, :], \n",
        "                                    diameter=radius * 2)\n",
        "    },\n",
        "    buffer_size=10\n",
        ")"
      ],
      "metadata": {
        "id": "r27FVIBpz_B8"
      },
      "execution_count": null,
      "outputs": []
    }
  ]
}


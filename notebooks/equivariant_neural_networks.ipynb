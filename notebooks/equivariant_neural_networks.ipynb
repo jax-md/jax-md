{
  "cells": [
    {
      "cell_type": "markdown",
      "metadata": {
        "colab_type": "text",
        "id": "view-in-github"
      },
      "source": [
        "<a href=\"https://colab.research.google.com/github/google/jax-md/blob/main/notebooks/equivariant_neural_networks.ipynb\" target=\"_parent\"><img src=\"https://colab.research.google.com/assets/colab-badge.svg\" alt=\"Open In Colab\"/></a>"
      ]
    },
    {
      "cell_type": "code",
      "execution_count": null,
      "metadata": {
        "cellView": "form",
        "id": "odlcm3Jmuglm"
      },
      "outputs": [],
      "source": [
        "%%capture\n",
        "#@title Import & Util\n",
        "\n",
        "!pip install --upgrade pip\n",
        "# Installs the wheel compatible with CUDA 11 and cuDNN 8.2 or newer.\n",
        "# Note: wheels only available on linux.\n",
        "!pip install --upgrade \"jax[cuda]\" -f https://storage.googleapis.com/jax-releases/jax_cuda_releases.html\n",
        "!pip install git+https://github.com/e3nn/e3nn-jax.git\n",
        "!pip install git+https://github.com/google/jax-md.git\n",
        "!pip install dm-haiku\n",
        "!pip install optax\n",
        "\n",
        "import jax.numpy as np\n",
        "from jax import device_put\n",
        "from jax.config import config\n",
        "# TODO: Uncomment this and enable warnings when XLA bug is fixed.\n",
        "import warnings; warnings.simplefilter('ignore')\n",
        "config.update('jax_enable_x64', True)\n",
        "from IPython.display import set_matplotlib_formats\n",
        "set_matplotlib_formats('pdf', 'svg')\n",
        "import matplotlib.pyplot as plt\n",
        "import seaborn as sns\n",
        "import pickle\n",
        "\n",
        "import warnings\n",
        "warnings.simplefilter(\"ignore\")\n",
        "\n",
        "sns.set_style(style='white')\n",
        "background_color = [56 / 256] * 3\n",
        "def plot(x, y, *args):\n",
        "  plt.plot(x, y, *args, linewidth=3)\n",
        "  plt.gca().set_facecolor([1, 1, 1])\n",
        "def draw(R, **kwargs):\n",
        "  if 'c' not in kwargs:\n",
        "    kwargs['color'] = [1, 1, 0.9]\n",
        "  ax = plt.axes(xlim=(0, float(np.max(R[:, 0]))), \n",
        "                ylim=(0, float(np.max(R[:, 1]))))\n",
        "  ax.get_xaxis().set_visible(False)\n",
        "  ax.get_yaxis().set_visible(False)\n",
        "  ax.set_facecolor(background_color)\n",
        "  plt.scatter(R[:, 0], R[:, 1],  marker='o', s=1024, **kwargs)\n",
        "  plt.gcf().patch.set_facecolor(background_color)\n",
        "  plt.gcf().set_size_inches(6, 6)\n",
        "  plt.tight_layout()\n",
        "def draw_big(R, **kwargs):\n",
        "  if 'c' not in kwargs:\n",
        "    kwargs['color'] = [1, 1, 0.9]\n",
        "  fig = plt.figure(dpi=128)\n",
        "  ax = plt.axes(xlim=(0, float(np.max(R[:, 0]))),\n",
        "                ylim=(0, float(np.max(R[:, 1]))))\n",
        "  ax.get_xaxis().set_visible(False)\n",
        "  ax.get_yaxis().set_visible(False)\n",
        "  ax.set_facecolor(background_color)\n",
        "  s = plt.scatter(R[:, 0], R[:, 1], marker='o', s=0.5, **kwargs)\n",
        "  s.set_rasterized(True)\n",
        "  plt.gcf().patch.set_facecolor(background_color)\n",
        "  plt.gcf().set_size_inches(10, 10)\n",
        "  plt.tight_layout()\n",
        "def draw_displacement(R, dR):\n",
        "  plt.quiver(R[:, 0], R[:, 1], dR[:, 0], dR[:, 1], color=[1, 0.5, 0.5])\n",
        "\n",
        "# Progress Bars\n",
        "\n",
        "from IPython.display import HTML, display\n",
        "import time\n",
        "\n",
        "def ProgressIter(iter_fun, iter_len=0):\n",
        "  if not iter_len:\n",
        "    iter_len = len(iter_fun)\n",
        "  out = display(progress(0, iter_len), display_id=True)\n",
        "  for i, it in enumerate(iter_fun):\n",
        "    yield it\n",
        "    out.update(progress(i + 1, iter_len))\n",
        "\n",
        "def progress(value, max):\n",
        "    return HTML(\"\"\"\n",
        "        <progress\n",
        "            value='{value}'\n",
        "            max='{max}',\n",
        "            style='width: 45%'\n",
        "        >\n",
        "            {value}\n",
        "        </progress>\n",
        "    \"\"\".format(value=value, max=max))\n",
        "\n",
        "# Data Loading\n",
        "\n",
        "!wget -O silica_train.npz https://www.dropbox.com/s/3dojk4u4di774ve/silica_train.npz?dl=0\n",
        "!wget https://raw.githubusercontent.com/google/jax-md/main/examples/models/si_equivariant.pickle\n",
        "\n",
        "import numpy as onp\n",
        "\n",
        "with open('silica_train.npz', 'rb') as f:\n",
        "  files = onp.load(f)\n",
        "  Rs, Es, Fs = [device_put(x) for x in (files['arr_0'], files['arr_1'], files['arr_2'])]\n",
        "  test_Rs, test_Es, test_Fs = [device_put(x) for x in (files['arr_3'], files['arr_4'], files['arr_5'])]\n",
        "  test_Rs = test_Rs[:200]\n",
        "  test_Es = test_Es[:200]\n",
        "  test_Fs = test_Fs[:200]\n",
        "\n",
        "def tile(box_size, positions, tiles):\n",
        "  pos = positions\n",
        "  for dx in range(tiles):\n",
        "    for dy in range(tiles):\n",
        "      for dz in range(tiles):\n",
        "        if dx == 0 and dy == 0 and dz == 0:\n",
        "          continue\n",
        "        pos = np.concatenate((pos, positions + box_size * np.array([[dx, dy, dz]])))\n",
        "  box_size = box_size * tiles\n",
        "  pos /= box_size\n",
        "  return box_size, pos"
      ]
    },
    {
      "cell_type": "markdown",
      "metadata": {
        "id": "jz5t4TfsntM6"
      },
      "source": [
        "# Equivariant Talk Demo\n",
        "\n",
        "www.github.com/google/jax-md -> notebooks/equivariant_neural_networks.ipynb"
      ]
    },
    {
      "cell_type": "markdown",
      "metadata": {
        "id": "kzeeKau3n5-i"
      },
      "source": [
        "## Dataset\n",
        "\n",
        "Start with different phases of Silicon computed using DFT."
      ]
    },
    {
      "cell_type": "code",
      "execution_count": null,
      "metadata": {
        "id": "BIpdl_Vyn88U"
      },
      "outputs": [],
      "source": [
        "print(f'Positions: {Rs.shape}')\n",
        "print(f'Energies:  {Es.shape}')\n",
        "print(f'Forces:    {Fs.shape}')"
      ]
    },
    {
      "cell_type": "code",
      "execution_count": null,
      "metadata": {
        "id": "K2WNcewPTWDb"
      },
      "outputs": [],
      "source": [
        "BOX_SIZE = 10.862\n",
        "N = 64"
      ]
    },
    {
      "cell_type": "markdown",
      "metadata": {
        "id": "xLUcAgYKujSM"
      },
      "source": [
        "Instantiate a space with periodic boundary conditions"
      ]
    },
    {
      "cell_type": "code",
      "execution_count": null,
      "metadata": {
        "id": "lmlaNy3zor3L"
      },
      "outputs": [],
      "source": [
        "from jax_md import space\n",
        "displacement, shift = space.periodic(BOX_SIZE)"
      ]
    },
    {
      "cell_type": "code",
      "execution_count": null,
      "metadata": {
        "id": "PBtPJbk8uS4O"
      },
      "outputs": [],
      "source": [
        "displacement(Rs[0, 0], Rs[0, 1])"
      ]
    },
    {
      "cell_type": "code",
      "execution_count": null,
      "metadata": {
        "id": "0z3DbrrkuWz_"
      },
      "outputs": [],
      "source": [
        "from jax import vmap\n",
        "vmap(displacement)(Rs[0], Rs[1]).shape"
      ]
    },
    {
      "cell_type": "markdown",
      "metadata": {
        "id": "P5mBecaeulz_"
      },
      "source": [
        "Construct a neighbor list."
      ]
    },
    {
      "cell_type": "code",
      "execution_count": null,
      "metadata": {
        "id": "jXhAv5_DYdJ9"
      },
      "outputs": [],
      "source": [
        "from jax_md import partition\n",
        "\n",
        "CUTOFF = 3.0\n",
        "neighbor_fn = partition.neighbor_list(displacement, BOX_SIZE, CUTOFF, format=partition.Sparse)"
      ]
    },
    {
      "cell_type": "code",
      "execution_count": null,
      "metadata": {
        "id": "I1fhn4UaooP5"
      },
      "outputs": [],
      "source": [
        "nbrs = neighbor_fn.allocate(Rs[0])"
      ]
    },
    {
      "cell_type": "code",
      "execution_count": null,
      "metadata": {
        "id": "KJULuqzIEnvS"
      },
      "outputs": [],
      "source": [
        "nbrs.idx.shape"
      ]
    },
    {
      "cell_type": "markdown",
      "metadata": {
        "id": "0_JPfVY_urkD"
      },
      "source": [
        "Draw the system."
      ]
    },
    {
      "cell_type": "code",
      "execution_count": null,
      "metadata": {
        "id": "Xai_NCyio0yB"
      },
      "outputs": [],
      "source": [
        "from jax_md.colab_tools import renderer\n",
        "import jax.numpy as jnp\n",
        "\n",
        "red = jnp.array([1.0, 0.2, 0.2])\n",
        "blue = jnp.array([0.2, 0.2, 1.0])\n",
        "\n",
        "renderer.render(BOX_SIZE,\n",
        "                {\n",
        "                    'atoms': renderer.Sphere(Rs[0], color=blue),\n",
        "                    'nbrs': renderer.Bond('atoms', nbrs, color=red)\n",
        "                })"
      ]
    },
    {
      "cell_type": "markdown",
      "metadata": {
        "id": "Kx-HRfIZn3Ub"
      },
      "source": [
        "## Model Definition"
      ]
    },
    {
      "cell_type": "code",
      "execution_count": null,
      "metadata": {
        "id": "ADAyEzwmZR5_"
      },
      "outputs": [],
      "source": [
        "from functools import partial\n",
        "\n",
        "from jax_md import energy\n",
        "\n",
        "import haiku as hk\n",
        "\n",
        "import jraph\n",
        "\n",
        "from jax import nn\n",
        "\n",
        "from e3nn_jax.haiku import FullyConnectedTensorProduct,  Linear\n",
        "from e3nn_jax import spherical_harmonics\n",
        "from e3nn_jax import IrrepsArray\n",
        "from e3nn_jax import gate\n",
        "from e3nn_jax import concatenate\n",
        "\n",
        "Array = space.Array\n",
        "\n",
        "INNER_CUTOFF = 2.7\n",
        "SH_ALGORITHM = ('recursive', 'sparse')\n",
        "\n",
        "def bessel(n: Array, dr: Array) -> Array:\n",
        "  @partial(energy.multiplicative_isotropic_cutoff, \n",
        "           r_onset=INNER_CUTOFF, \n",
        "           r_cutoff=CUTOFF)\n",
        "  def bessel_fn(dr: Array) -> Array:\n",
        "    return 2 / CUTOFF * jnp.sin(jnp.pi * n * dr / CUTOFF) / (dr + 1e-7)\n",
        "  return bessel_fn(dr)\n",
        "bessel = vmap(vmap(bessel, (0, None)), (None, 0))\n",
        "\n",
        "def featurize_edges(dR):\n",
        "  sph = spherical_harmonics('0e + 1o', dR, True, algorithm=SH_ALGORITHM)\n",
        "  be = bessel(jnp.arange(5), space.distance(dR))\n",
        "  prod = jnp.reshape(sph.array[:, :, None] * be[:, None, :], (-1, 20))\n",
        "  return IrrepsArray('5x0e + 5x1o', prod)\n",
        "\n",
        "class GraphNetwork(hk.Module):\n",
        "  def __init__(self, displacement_fn, graph_net_steps):\n",
        "    super(GraphNetwork, self).__init__()\n",
        "    self.displacement = displacement_fn\n",
        "    self.graph_net_steps = graph_net_steps\n",
        "\n",
        "  def __call__(self, position, neighbor, **kwargs):\n",
        "    N = position.shape[0]\n",
        "\n",
        "    # Compute the displacement between each pair of neighbors.\n",
        "    d = vmap(partial(self.displacement, **kwargs))\n",
        "    dR = d(position[neighbor.idx[0, :]], position[neighbor.idx[1, :]])\n",
        "\n",
        "    mask = partition.neighbor_list_mask(neighbor)\n",
        "    dR = jnp.where(mask[:, None], dR, 0)\n",
        "\n",
        "    # Build the jraph graph and featurize the edges.\n",
        "    graph = partition.to_jraph(neighbor, \n",
        "                               nodes=IrrepsArray.zeros('0e', (N,)),\n",
        "                               edges=featurize_edges(dR),\n",
        "                               globals=IrrepsArray.zeros('0e', (1,)))\n",
        "\n",
        "    # Define the embedding layer.\n",
        "    def embed_fn(a, x):\n",
        "      return FullyConnectedTensorProduct('64x0e + 32x1o')(x, a)\n",
        "\n",
        "    # Define the internal update layer.\n",
        "    def update_fn(a, *x):\n",
        "      x = concatenate(x)\n",
        "      y = FullyConnectedTensorProduct('64x0e + 32x0e + 32x1o')(x, a)\n",
        "      y = gate(y)\n",
        "      return FullyConnectedTensorProduct('64x0e + 32x1o')(y, a)\n",
        "\n",
        "    # Define the conditioning tensors for the nodes, edges, and globals.\n",
        "    node_a = IrrepsArray('0e', jnp.ones((N + 1, 1))) \n",
        "    edge_a = spherical_harmonics('1o', dR, True, algorithm=SH_ALGORITHM)\n",
        "    edge_r = bessel(jnp.arange(5), space.distance(dR))\n",
        "    mlp = hk.Sequential([hk.Linear(32, False), \n",
        "                         nn.swish, \n",
        "                         hk.Linear(self.graph_net_steps, False)])\n",
        "    edge_r = vmap(mlp)(edge_r)\n",
        "    global_a = IrrepsArray('2x0e', jnp.ones(2,))\n",
        "\n",
        "    # Embed the features.\n",
        "    embed = jraph.GraphMapFeatures(\n",
        "        embed_node_fn = partial(embed_fn, node_a),\n",
        "        embed_edge_fn = partial(embed_fn, edge_a),\n",
        "        embed_global_fn = partial(embed_fn, global_a)\n",
        "    )\n",
        "    graph = embed(graph)\n",
        "\n",
        "    # Run the graph network for `graph_net_steps` steps.\n",
        "    for i in range(self.graph_net_steps):\n",
        "      gnn = jraph.GraphNetwork(\n",
        "          update_node_fn=partial(update_fn, node_a),\n",
        "          update_edge_fn=partial(update_fn, edge_a * edge_r[:, [i]]),\n",
        "          update_global_fn=partial(update_fn, global_a),\n",
        "          aggregate_edges_for_nodes_fn=jraph.segment_mean,\n",
        "          aggregate_edges_for_globals_fn=jraph.segment_mean,\n",
        "          aggregate_nodes_for_globals_fn=jraph.segment_mean,          \n",
        "      )\n",
        "      graph = gnn(graph)\n",
        "\n",
        "    # Readout the global state into a scalar.\n",
        "    out = FullyConnectedTensorProduct('0e')(graph.globals, global_a)\n",
        "    return N * out.array[0, 0]"
      ]
    },
    {
      "cell_type": "code",
      "execution_count": null,
      "metadata": {
        "id": "giFLQqueYCgc"
      },
      "outputs": [],
      "source": [
        "@hk.without_apply_rng\n",
        "@hk.transform\n",
        "def net(position, neighbor, **kwargs):\n",
        "  return GraphNetwork(displacement, graph_net_steps=2)(position, neighbor, **kwargs)"
      ]
    },
    {
      "cell_type": "markdown",
      "metadata": {
        "id": "hY43qaD-p6EO"
      },
      "source": [
        "## Training"
      ]
    },
    {
      "cell_type": "code",
      "execution_count": null,
      "metadata": {
        "id": "E9P6-LZ4YjOc"
      },
      "outputs": [],
      "source": [
        "from jax import random\n",
        "\n",
        "key = random.PRNGKey(0)\n",
        "nbrs = neighbor_fn.allocate(Rs[0])\n",
        "params = net.init(key, Rs[0], nbrs)"
      ]
    },
    {
      "cell_type": "code",
      "execution_count": null,
      "metadata": {
        "id": "nibSq7i22vE1"
      },
      "outputs": [],
      "source": [
        "net.apply(params, Rs[0], nbrs)"
      ]
    },
    {
      "cell_type": "code",
      "execution_count": null,
      "metadata": {
        "id": "eERjgdtbTEms"
      },
      "outputs": [],
      "source": [
        "from jax import jit\n",
        "from jax import value_and_grad\n",
        "from jax import grad\n",
        "\n",
        "def single_loss_fn(params, position, E_target, F_target):\n",
        "  l_nbrs = nbrs.update(position)\n",
        "  E, G = value_and_grad(net.apply, argnums=1)(params, position, l_nbrs)\n",
        "  return (E - E_target) ** 2, (G + F_target) ** 2\n",
        "\n",
        "@jit\n",
        "def loss_fn(params, position, E_target, F_target):\n",
        "  F_lam = 1.0\n",
        "  v_loss_fn = vmap(single_loss_fn, (None, 0, 0, 0))\n",
        "  E_loss, F_loss = v_loss_fn(params, position, E_target, F_target)\n",
        "  return jnp.sum(E_loss) / (N**2) + F_lam * jnp.sum(F_loss) / (3 * N)"
      ]
    },
    {
      "cell_type": "code",
      "execution_count": null,
      "metadata": {
        "id": "h0Mh2n8ISlfX"
      },
      "outputs": [],
      "source": [
        "import optax\n",
        "\n",
        "BATCH_SIZE = 8\n",
        "TRAINING_STEPS = 100_000\n",
        "\n",
        "schedule = optax.cosine_decay_schedule(1e-3, TRAINING_STEPS)\n",
        "opt = optax.adam(schedule)\n",
        "opt_state = opt.init(params)\n",
        "\n",
        "@jit\n",
        "def update(params, opt_state, position, E_target, F_target):\n",
        "  L = partial(loss_fn, position=position, E_target=E_target, F_target=F_target)\n",
        "  updates, opt_state = opt.update(grad(L)(params), opt_state)\n",
        "  return optax.apply_updates(params, updates), opt_state\n",
        "\n",
        "cur = 0\n",
        "\n",
        "for i in ProgressIter(range(TRAINING_STEPS)):\n",
        "  R_batch = Rs[cur:cur+BATCH_SIZE]\n",
        "  E_batch = Es[cur:cur+BATCH_SIZE]\n",
        "  F_batch = Fs[cur:cur+BATCH_SIZE]\n",
        "  if i % 200 == 0:\n",
        "    print(f'Step: {i}, '\n",
        "          f'Train Loss: {loss_fn(params, Rs[:100], Es[:100], Fs[:100])}, '\n",
        "          f'Test Loss: {loss_fn(params, test_Rs, test_Es, test_Fs)}')\n",
        "  params, opt_state = update(params, opt_state, R_batch, E_batch, F_batch)\n",
        "  cur += BATCH_SIZE\n",
        "  if cur + BATCH_SIZE > len(Rs):\n",
        "    cur = 0"
      ]
    },
    {
      "cell_type": "code",
      "execution_count": null,
      "metadata": {
        "id": "3ci_saFMvmeS"
      },
      "outputs": [],
      "source": [
        "import pickle\n",
        "\n",
        "with open('si_equivariant.pickle', 'wb') as f:\n",
        "  pickle.dump(params, f)"
      ]
    },
    {
      "cell_type": "markdown",
      "metadata": {
        "id": "Fm2RQHilmneO"
      },
      "source": [
        "## Evaluating the potential."
      ]
    },
    {
      "cell_type": "code",
      "execution_count": null,
      "metadata": {
        "id": "zO0FTWbgYgeK"
      },
      "outputs": [],
      "source": [
        "import pickle\n",
        "\n",
        "with open('si_equivariant.pickle', 'rb') as f:\n",
        "  params = pickle.load(f)"
      ]
    },
    {
      "cell_type": "code",
      "execution_count": null,
      "metadata": {
        "id": "3gLQmpyYaNGH"
      },
      "outputs": [],
      "source": [
        "from jax import jit\n",
        "\n",
        "@jit\n",
        "def energy_fn(position, **kwargs):\n",
        "  l_nbrs = nbrs.update(position)\n",
        "  return net.apply(params, position, l_nbrs, **kwargs)\n",
        "\n",
        "pred_Es = vmap(energy_fn)(test_Rs)"
      ]
    },
    {
      "cell_type": "code",
      "execution_count": null,
      "metadata": {
        "id": "Tpttq4ujauq4"
      },
      "outputs": [],
      "source": [
        "plt.plot(pred_Es, test_Es, 'o')"
      ]
    },
    {
      "cell_type": "code",
      "execution_count": null,
      "metadata": {
        "id": "mSYR9842joJ2"
      },
      "outputs": [],
      "source": [
        "jnp.mean(jnp.abs(pred_Es - test_Es)) * 1000 / 64"
      ]
    },
    {
      "cell_type": "code",
      "execution_count": null,
      "metadata": {
        "id": "v9NtN8OXa3cx"
      },
      "outputs": [],
      "source": [
        "from jax import grad\n",
        "\n",
        "grad_fn = grad(energy_fn)\n",
        "pred_Gs = vmap(grad_fn)(test_Rs[:5])\n",
        "plt.plot(-pred_Gs.reshape((-1,)), test_Fs[:5].reshape((-1,)), 'o')"
      ]
    },
    {
      "cell_type": "code",
      "execution_count": null,
      "metadata": {
        "id": "u040oIpjj3XJ"
      },
      "outputs": [],
      "source": [
        "jnp.mean(jnp.abs(-pred_Gs - test_Fs[:5])) * 1000"
      ]
    },
    {
      "cell_type": "markdown",
      "metadata": {
        "id": "N3N1v4Wumve7"
      },
      "source": [
        "## Minimization"
      ]
    },
    {
      "cell_type": "code",
      "execution_count": null,
      "metadata": {
        "id": "6E6KBTAxvcDI"
      },
      "outputs": [],
      "source": [
        "from jax_md import minimize\n",
        "\n",
        "init_fn, step_fn = minimize.fire_descent(energy_fn, shift)"
      ]
    },
    {
      "cell_type": "code",
      "execution_count": null,
      "metadata": {
        "id": "aw15mqL0ZPL1"
      },
      "outputs": [],
      "source": [
        "state = init_fn(Rs[2])\n",
        "\n",
        "positions = []\n",
        "\n",
        "for i in ProgressIter(range(100)):\n",
        "  positions += [state.position]\n",
        "  state = jit(step_fn)(state)"
      ]
    },
    {
      "cell_type": "code",
      "execution_count": null,
      "metadata": {
        "id": "oMpt69nFZbjc"
      },
      "outputs": [],
      "source": [
        "positions = jnp.stack(positions)\n",
        "renderer.render(BOX_SIZE, renderer.Sphere(positions))"
      ]
    },
    {
      "cell_type": "code",
      "execution_count": null,
      "metadata": {
        "id": "QO-VQpGFaRXI"
      },
      "outputs": [],
      "source": [
        "from jax_md import quantity\n",
        "\n",
        "quantity.stress(energy_fn, state.position, BOX_SIZE)"
      ]
    },
    {
      "cell_type": "code",
      "execution_count": null,
      "metadata": {
        "id": "loqPK2rAah9o"
      },
      "outputs": [],
      "source": [
        "from jax_md import elasticity\n",
        "\n",
        "elasticity.athermal_moduli(energy_fn)(state.position, BOX_SIZE)"
      ]
    },
    {
      "cell_type": "markdown",
      "metadata": {
        "id": "v8B8nDGzb-un"
      },
      "source": [
        "## Scaled Up NPT"
      ]
    },
    {
      "cell_type": "code",
      "execution_count": null,
      "metadata": {
        "id": "9uJqhc-eeYTc"
      },
      "outputs": [],
      "source": [
        "LARGE_BOX, R = tile(BOX_SIZE, Rs[2], 3)"
      ]
    },
    {
      "cell_type": "code",
      "execution_count": null,
      "metadata": {
        "id": "LaNBPpwPfRV4"
      },
      "outputs": [],
      "source": [
        "R.shape"
      ]
    },
    {
      "cell_type": "code",
      "execution_count": null,
      "metadata": {
        "id": "XIdw7AvJeiSN"
      },
      "outputs": [],
      "source": [
        "displacement, shift = space.periodic_general(LARGE_BOX)"
      ]
    },
    {
      "cell_type": "code",
      "execution_count": null,
      "metadata": {
        "id": "UcJbnFfdfqzb"
      },
      "outputs": [],
      "source": [
        "@jit\n",
        "def energy_fn(position, neighbor, **kwargs):\n",
        "  return net.apply(params, position, neighbor, **kwargs)"
      ]
    },
    {
      "cell_type": "code",
      "execution_count": null,
      "metadata": {
        "id": "buAEOB7eevte"
      },
      "outputs": [],
      "source": [
        "neighbor_fn = partition.neighbor_list(displacement, \n",
        "                                      LARGE_BOX, \n",
        "                                      r_cutoff=CUTOFF, \n",
        "                                      fractional_coordinates=True,\n",
        "                                      format=partition.Sparse)"
      ]
    },
    {
      "cell_type": "code",
      "execution_count": null,
      "metadata": {
        "id": "OT5kW4BFfDFo"
      },
      "outputs": [],
      "source": [
        "nbrs = neighbor_fn.allocate(R)\n",
        "\n",
        "energy_fn(R, nbrs) / R.shape[0]"
      ]
    },
    {
      "cell_type": "code",
      "execution_count": null,
      "metadata": {
        "id": "izp0YiqbgHsl"
      },
      "outputs": [],
      "source": [
        "# Define Physical Constants\n",
        "\n",
        "K_B = 8.617e-5\n",
        "dt = 1e-3\n",
        "P_start = 0.0  \n",
        "P_end = 0.05\n",
        "kT = K_B * 300\n",
        "Si_mass = 2.81086E-3"
      ]
    },
    {
      "cell_type": "code",
      "execution_count": null,
      "metadata": {
        "id": "IEor_r__gOBV"
      },
      "outputs": [],
      "source": [
        "from jax_md import simulate\n",
        "init_fn, step_fn = simulate.npt_nose_hoover(energy_fn, shift, dt, P_start, kT)"
      ]
    },
    {
      "cell_type": "code",
      "execution_count": null,
      "metadata": {
        "id": "QWQs4bT_gHsl"
      },
      "outputs": [],
      "source": [
        "from jax.lax import fori_loop\n",
        "\n",
        "inner_steps = 20\n",
        "\n",
        "@jit\n",
        "def take_steps(state, nbrs, pressure):\n",
        "  def sim_fn(i, state_nbrs):\n",
        "    state, nbrs = state_nbrs\n",
        "    state = step_fn(state, pressure=pressure, neighbor=nbrs)\n",
        "    nbrs = nbrs.update(state.position, box=state.box)\n",
        "    return state, nbrs  \n",
        "  return fori_loop(0, inner_steps, sim_fn, (state, nbrs))"
      ]
    },
    {
      "cell_type": "code",
      "execution_count": null,
      "metadata": {
        "id": "O4aeGyyxgHsl"
      },
      "outputs": [],
      "source": [
        "@jit\n",
        "def compute_diagnostics(state, nbrs):\n",
        "  temperature = quantity.temperature(momentum=state.momentum, mass=Si_mass) / K_B\n",
        "  kinetic_energy = quantity.kinetic_energy(momentum=state.momentum, mass=Si_mass)\n",
        "  pressure = quantity.pressure(energy_fn, state.position, state.box, kinetic_energy, neighbor=nbrs)\n",
        "  position = space.transform(state.box, state.position)\n",
        "  return temperature, pressure, position"
      ]
    },
    {
      "cell_type": "code",
      "execution_count": null,
      "metadata": {
        "id": "qx2tFIdV9-c8"
      },
      "outputs": [],
      "source": [
        "from jax import random\n",
        "key = random.PRNGKey(0)\n",
        "state = init_fn(key, R, LARGE_BOX, Si_mass, neighbor=nbrs)"
      ]
    },
    {
      "cell_type": "code",
      "execution_count": null,
      "metadata": {
        "id": "Z_4ogivWgHsl"
      },
      "outputs": [],
      "source": [
        "total_steps = 2000\n",
        "times = np.arange(0, total_steps, inner_steps) * dt\n",
        "temperatures = []\n",
        "pressures = []\n",
        "trajectory = []\n",
        "\n",
        "for t in ProgressIter(times):\n",
        "  P_target = P_start if t < times[-1] / 2 else P_end\n",
        "  state, nbrs = take_steps(state, nbrs, P_target)\n",
        "  temperature, pressure, position = compute_diagnostics(state, nbrs)\n",
        "\n",
        "  temperatures += [temperature]\n",
        "  pressures += [pressure]\n",
        "  trajectory += [position]"
      ]
    },
    {
      "cell_type": "code",
      "execution_count": null,
      "metadata": {
        "id": "RUq0R4MpPuCj"
      },
      "outputs": [],
      "source": [
        "nbrs.did_buffer_overflow"
      ]
    },
    {
      "cell_type": "code",
      "execution_count": null,
      "metadata": {
        "id": "RMUc4ZZTPrTu"
      },
      "outputs": [],
      "source": [
        "plot(times, pressures)"
      ]
    },
    {
      "cell_type": "code",
      "execution_count": null,
      "metadata": {
        "id": "ERFl5i2AlgBR"
      },
      "outputs": [],
      "source": [
        "plot(times, temperatures)"
      ]
    },
    {
      "cell_type": "code",
      "execution_count": null,
      "metadata": {
        "id": "ut8YLN1zFnsF"
      },
      "outputs": [],
      "source": [
        "from jax_md import partition\n",
        "trajectory = np.stack(trajectory)\n",
        "\n",
        "renderer.render(LARGE_BOX,\n",
        "                {\n",
        "                    'atoms': renderer.Sphere(trajectory, color=blue),\n",
        "                    'bonds': renderer.Bond('atoms', nbrs, color=red)\n",
        "                },\n",
        "                resolution=(512,512))"
      ]
    },
    {
      "cell_type": "code",
      "execution_count": null,
      "metadata": {
        "id": "Q8wGTbaoojTw"
      },
      "outputs": [],
      "source": []
    }
  ],
  "metadata": {
    "accelerator": "GPU",
    "colab": {
      "collapsed_sections": [
        "hY43qaD-p6EO"
      ],
      "include_colab_link": true,
      "name": "Equivariant Talk Demo.ipynb",
      "private_outputs": true,
      "provenance": []
    },
    "kernelspec": {
      "display_name": "Python 3",
      "name": "python3"
    }
  },
  "nbformat": 4,
  "nbformat_minor": 0
}

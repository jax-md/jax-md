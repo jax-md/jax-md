{
  "cells": [
    {
      "cell_type": "markdown",
      "metadata": {
        "colab_type": "text",
        "id": "view-in-github"
      },
      "source": [
        "<a href=\"https://colab.research.google.com/github/google/jax-md/blob/main/notebooks/tutorial/Chapter_1_Introduction.ipynb\" target=\"_parent\"><img src=\"https://colab.research.google.com/assets/colab-badge.svg\" alt=\"Open In Colab\"/></a>"
      ]
    },
    {
      "cell_type": "code",
      "execution_count": 1,
      "metadata": {
        "cellView": "form",
        "id": "odlcm3Jmuglm"
      },
      "outputs": [],
      "source": [
        "#@title Import & Util\n",
        "\n",
        "# %%capture\n",
        "\n",
        "# !pip install git+https://github.com/google/jax-md\n",
        "\n",
        "import jax.numpy as np\n",
        "from jax import device_put\n",
        "from jax import config\n",
        "# TODO: Uncomment this and enable warnings when XLA bug is fixed.\n",
        "import warnings; warnings.simplefilter('ignore')\n",
        "config.update('jax_enable_x64', True)\n",
        "from IPython.display import set_matplotlib_formats\n",
        "set_matplotlib_formats('pdf', 'svg')\n",
        "import matplotlib.pyplot as plt\n",
        "import seaborn as sns\n",
        "import pickle\n",
        "\n",
        "import warnings\n",
        "warnings.simplefilter(\"ignore\")\n",
        "\n",
        "sns.set_style(style='white')\n",
        "background_color = [56 / 256] * 3\n",
        "def plot(x, y, *args):\n",
        "  plt.plot(x, y, *args, linewidth=3)\n",
        "  plt.gca().set_facecolor([1, 1, 1])\n",
        "def draw(R, **kwargs):\n",
        "  if 'c' not in kwargs:\n",
        "    kwargs['color'] = [1, 1, 0.9]\n",
        "  ax = plt.axes(xlim=(0, float(jnp.max(R[:, 0]))), \n",
        "                ylim=(0, float(jnp.max(R[:, 1]))))\n",
        "  ax.get_xaxis().set_visible(False)\n",
        "  ax.get_yaxis().set_visible(False)\n",
        "  ax.set_facecolor(background_color)\n",
        "  plt.scatter(R[:, 0], R[:, 1],  marker='o', s=1024, **kwargs)\n",
        "  plt.gcf().patch.set_facecolor(background_color)\n",
        "  plt.gcf().set_size_inches(6, 6)\n",
        "  plt.tight_layout()\n",
        "def draw_big(R, **kwargs):\n",
        "  if 'c' not in kwargs:\n",
        "    kwargs['color'] = [1, 1, 0.9]\n",
        "  fig = plt.figure(dpi=128)\n",
        "  ax = plt.axes(xlim=(0, float(jnp.max(R[:, 0]))),\n",
        "                ylim=(0, float(jnp.max(R[:, 1]))))\n",
        "  ax.get_xaxis().set_visible(False)\n",
        "  ax.get_yaxis().set_visible(False)\n",
        "  ax.set_facecolor(background_color)\n",
        "  s = plt.scatter(R[:, 0], R[:, 1], marker='o', s=0.5, **kwargs)\n",
        "  s.set_rasterized(True)\n",
        "  plt.gcf().patch.set_facecolor(background_color)\n",
        "  plt.gcf().set_size_inches(10, 10)\n",
        "  plt.tight_layout()\n",
        "def draw_displacement(R, dR):\n",
        "  plt.quiver(R[:, 0], R[:, 1], dR[:, 0], dR[:, 1], color=[1, 0.5, 0.5])\n",
        "\n",
        "# Progress Bars\n",
        "\n",
        "from IPython.display import HTML, display\n",
        "import time\n",
        "\n",
        "def ProgressIter(iter_fun, iter_len=0):\n",
        "  if not iter_len:\n",
        "    iter_len = len(iter_fun)\n",
        "  out = display(progress(0, iter_len), display_id=True)\n",
        "  for i, it in enumerate(iter_fun):\n",
        "    yield it\n",
        "    out.update(progress(i + 1, iter_len))\n",
        "\n",
        "def progress(value, max):\n",
        "    return HTML(\"\"\"\n",
        "        <progress\n",
        "            value='{value}'\n",
        "            max='{max}',\n",
        "            style='width: 45%'\n",
        "        >\n",
        "            {value}\n",
        "        </progress>\n",
        "    \"\"\".format(value=value, max=max))"
      ]
    },
    {
      "cell_type": "markdown",
      "metadata": {
        "id": "NutOCjdwpneq"
      },
      "source": [
        "# JAX MD Tutorial ([tutorial.jax-md.org](https://tutorial.jax-md.org))"
      ]
    },
    {
      "cell_type": "markdown",
      "metadata": {
        "id": "mCvUpKcXm7MJ"
      },
      "source": [
        "## Chapter 1: Introduction"
      ]
    },
    {
      "cell_type": "markdown",
      "metadata": {
        "id": "9_FfC_k1DMfB"
      },
      "source": [
        "### Energy and Automatic Differentiation"
      ]
    },
    {
      "cell_type": "markdown",
      "metadata": {
        "id": "ISh1a8bK33QZ"
      },
      "source": [
        "$u(r) = \\begin{cases}\\frac13(1 - r)^3 & \\text{if $r < 1$} \\\\ 0 & \\text{otherwise} \\end{cases}$"
      ]
    },
    {
      "cell_type": "code",
      "execution_count": 2,
      "metadata": {
        "id": "uQs4C7ggBxBM"
      },
      "outputs": [
        {
          "name": "stdout",
          "output_type": "stream",
          "text": [
            "0.04166667 * electronvolt\n"
          ]
        }
      ],
      "source": [
        "import jax.numpy as jnp\n",
        "import brainunit as u\n",
        "import brainstate as bst\n",
        "\n",
        "@u.assign_units(r=u.angstrom, result=u.eV)\n",
        "def soft_sphere(r):\n",
        "  return jnp.where(r < 1, \n",
        "                   1/3 * (1 - r) ** 3,\n",
        "                   0.)\n",
        "\n",
        "print(soft_sphere(0.5 * u.angstrom))"
      ]
    },
    {
      "cell_type": "code",
      "execution_count": 3,
      "metadata": {
        "id": "gfEim-vuuXKd"
      },
      "outputs": [
        {
          "data": {
            "application/pdf": "[encoded data removed]",
            "image/svg+xml": [
              "<?xml version=\"1.0\" encoding=\"utf-8\" standalone=\"no\"?>\n",
              "<!DOCTYPE svg PUBLIC \"-//W3C//DTD SVG 1.1//EN\"\n",
              "  \"http://www.w3.org/Graphics/SVG/1.1/DTD/svg11.dtd\">\n",
              "<svg xmlns:xlink=\"http://www.w3.org/1999/xlink\" width=\"411.12625pt\" height=\"313.381524pt\" viewBox=\"0 0 411.12625 313.381524\" xmlns=\"http://www.w3.org/2000/svg\" version=\"1.1\">\n",
              " <metadata>\n",
              "  <rdf:RDF xmlns:dc=\"http://purl.org/dc/elements/1.1/\" xmlns:cc=\"http://creativecommons.org/ns#\" xmlns:rdf=\"http://www.w3.org/1999/02/22-rdf-syntax-ns#\">\n",
              "   <cc:Work>\n",
              "    <dc:type rdf:resource=\"http://purl.org/dc/dcmitype/StillImage\"/>\n",
              "    <dc:date>2025-01-02T22:52:15.180080</dc:date>\n",
              "    <dc:format>image/svg+xml</dc:format>\n",
              "    <dc:creator>\n",
              "     <cc:Agent>\n",
              "      <dc:title>Matplotlib v3.9.3, https://matplotlib.org/</dc:title>\n",
              "     </cc:Agent>\n",
              "    </dc:creator>\n",
              "   </cc:Work>\n",
              "  </rdf:RDF>\n",
              " </metadata>\n",
              " <defs>\n",
              "  <style type=\"text/css\">*{stroke-linejoin: round; stroke-linecap: butt}</style>\n",
              " </defs>\n",
              " <g id=\"figure_1\">\n",
              "  <g id=\"patch_1\">\n",
              "   <path d=\"M 0 313.381524 \n",
              "L 411.12625 313.381524 \n",
              "L 411.12625 0 \n",
              "L 0 0 \n",
              "z\n",
              "\" style=\"fill: #ffffff\"/>\n",
              "  </g>\n",
              "  <g id=\"axes_1\">\n",
              "   <g id=\"patch_2\">\n",
              "    <path d=\"M 46.80625 276.890899 \n",
              "L 403.92625 276.890899 \n",
              "L 403.92625 10.778899 \n",
              "L 46.80625 10.778899 \n",
              "z\n",
              "\" style=\"fill: #ffffff\"/>\n",
              "   </g>\n",
              "   <g id=\"matplotlib.axis_1\">\n",
              "    <g id=\"xtick_1\">\n",
              "     <g id=\"text_1\">\n",
              "      <!-- 0.00 -->\n",
              "      <g style=\"fill: #262626\" transform=\"translate(53.308509 291.048711) scale(0.1 -0.1)\">\n",
              "       <defs>\n",
              "        <path id=\"ArialMT-30\" d=\"M 266 2259 \n",
              "Q 266 3072 433 3567 \n",
              "Q 600 4063 929 4331 \n",
              "Q 1259 4600 1759 4600 \n",
              "Q 2128 4600 2406 4451 \n",
              "Q 2684 4303 2865 4023 \n",
              "Q 3047 3744 3150 3342 \n",
              "Q 3253 2941 3253 2259 \n",
              "Q 3253 1453 3087 958 \n",
              "Q 2922 463 2592 192 \n",
              "Q 2263 -78 1759 -78 \n",
              "Q 1097 -78 719 397 \n",
              "Q 266 969 266 2259 \n",
              "z\n",
              "M 844 2259 \n",
              "Q 844 1131 1108 757 \n",
              "Q 1372 384 1759 384 \n",
              "Q 2147 384 2411 759 \n",
              "Q 2675 1134 2675 2259 \n",
              "Q 2675 3391 2411 3762 \n",
              "Q 2147 4134 1753 4134 \n",
              "Q 1366 4134 1134 3806 \n",
              "Q 844 3388 844 2259 \n",
              "z\n",
              "\" transform=\"scale(0.015625)\"/>\n",
              "        <path id=\"ArialMT-2e\" d=\"M 581 0 \n",
              "L 581 641 \n",
              "L 1222 641 \n",
              "L 1222 0 \n",
              "L 581 0 \n",
              "z\n",
              "\" transform=\"scale(0.015625)\"/>\n",
              "       </defs>\n",
              "       <use xlink:href=\"#ArialMT-30\"/>\n",
              "       <use xlink:href=\"#ArialMT-2e\" x=\"55.615234\"/>\n",
              "       <use xlink:href=\"#ArialMT-30\" x=\"83.398438\"/>\n",
              "       <use xlink:href=\"#ArialMT-30\" x=\"139.013672\"/>\n",
              "      </g>\n",
              "     </g>\n",
              "    </g>\n",
              "    <g id=\"xtick_2\">\n",
              "     <g id=\"text_2\">\n",
              "      <!-- 0.25 -->\n",
              "      <g style=\"fill: #262626\" transform=\"translate(93.890327 291.048711) scale(0.1 -0.1)\">\n",
              "       <defs>\n",
              "        <path id=\"ArialMT-32\" d=\"M 3222 541 \n",
              "L 3222 0 \n",
              "L 194 0 \n",
              "Q 188 203 259 391 \n",
              "Q 375 700 629 1000 \n",
              "Q 884 1300 1366 1694 \n",
              "Q 2113 2306 2375 2664 \n",
              "Q 2638 3022 2638 3341 \n",
              "Q 2638 3675 2398 3904 \n",
              "Q 2159 4134 1775 4134 \n",
              "Q 1369 4134 1125 3890 \n",
              "Q 881 3647 878 3216 \n",
              "L 300 3275 \n",
              "Q 359 3922 746 4261 \n",
              "Q 1134 4600 1788 4600 \n",
              "Q 2447 4600 2831 4234 \n",
              "Q 3216 3869 3216 3328 \n",
              "Q 3216 3053 3103 2787 \n",
              "Q 2991 2522 2730 2228 \n",
              "Q 2469 1934 1863 1422 \n",
              "Q 1356 997 1212 845 \n",
              "Q 1069 694 975 541 \n",
              "L 3222 541 \n",
              "z\n",
              "\" transform=\"scale(0.015625)\"/>\n",
              "        <path id=\"ArialMT-35\" d=\"M 266 1200 \n",
              "L 856 1250 \n",
              "Q 922 819 1161 601 \n",
              "Q 1400 384 1738 384 \n",
              "Q 2144 384 2425 690 \n",
              "Q 2706 997 2706 1503 \n",
              "Q 2706 1984 2436 2262 \n",
              "Q 2166 2541 1728 2541 \n",
              "Q 1456 2541 1237 2417 \n",
              "Q 1019 2294 894 2097 \n",
              "L 366 2166 \n",
              "L 809 4519 \n",
              "L 3088 4519 \n",
              "L 3088 3981 \n",
              "L 1259 3981 \n",
              "L 1013 2750 \n",
              "Q 1425 3038 1878 3038 \n",
              "Q 2478 3038 2890 2622 \n",
              "Q 3303 2206 3303 1553 \n",
              "Q 3303 931 2941 478 \n",
              "Q 2500 -78 1738 -78 \n",
              "Q 1113 -78 717 272 \n",
              "Q 322 622 266 1200 \n",
              "z\n",
              "\" transform=\"scale(0.015625)\"/>\n",
              "       </defs>\n",
              "       <use xlink:href=\"#ArialMT-30\"/>\n",
              "       <use xlink:href=\"#ArialMT-2e\" x=\"55.615234\"/>\n",
              "       <use xlink:href=\"#ArialMT-32\" x=\"83.398438\"/>\n",
              "       <use xlink:href=\"#ArialMT-35\" x=\"139.013672\"/>\n",
              "      </g>\n",
              "     </g>\n",
              "    </g>\n",
              "    <g id=\"xtick_3\">\n",
              "     <g id=\"text_3\">\n",
              "      <!-- 0.50 -->\n",
              "      <g style=\"fill: #262626\" transform=\"translate(134.472145 291.048711) scale(0.1 -0.1)\">\n",
              "       <use xlink:href=\"#ArialMT-30\"/>\n",
              "       <use xlink:href=\"#ArialMT-2e\" x=\"55.615234\"/>\n",
              "       <use xlink:href=\"#ArialMT-35\" x=\"83.398438\"/>\n",
              "       <use xlink:href=\"#ArialMT-30\" x=\"139.013672\"/>\n",
              "      </g>\n",
              "     </g>\n",
              "    </g>\n",
              "    <g id=\"xtick_4\">\n",
              "     <g id=\"text_4\">\n",
              "      <!-- 0.75 -->\n",
              "      <g style=\"fill: #262626\" transform=\"translate(175.053963 291.048711) scale(0.1 -0.1)\">\n",
              "       <defs>\n",
              "        <path id=\"ArialMT-37\" d=\"M 303 3981 \n",
              "L 303 4522 \n",
              "L 3269 4522 \n",
              "L 3269 4084 \n",
              "Q 2831 3619 2401 2847 \n",
              "Q 1972 2075 1738 1259 \n",
              "Q 1569 684 1522 0 \n",
              "L 944 0 \n",
              "Q 953 541 1156 1306 \n",
              "Q 1359 2072 1739 2783 \n",
              "Q 2119 3494 2547 3981 \n",
              "L 303 3981 \n",
              "z\n",
              "\" transform=\"scale(0.015625)\"/>\n",
              "       </defs>\n",
              "       <use xlink:href=\"#ArialMT-30\"/>\n",
              "       <use xlink:href=\"#ArialMT-2e\" x=\"55.615234\"/>\n",
              "       <use xlink:href=\"#ArialMT-37\" x=\"83.398438\"/>\n",
              "       <use xlink:href=\"#ArialMT-35\" x=\"139.013672\"/>\n",
              "      </g>\n",
              "     </g>\n",
              "    </g>\n",
              "    <g id=\"xtick_5\">\n",
              "     <g id=\"text_5\">\n",
              "      <!-- 1.00 -->\n",
              "      <g style=\"fill: #262626\" transform=\"translate(215.635781 291.048711) scale(0.1 -0.1)\">\n",
              "       <defs>\n",
              "        <path id=\"ArialMT-31\" d=\"M 2384 0 \n",
              "L 1822 0 \n",
              "L 1822 3584 \n",
              "Q 1619 3391 1289 3197 \n",
              "Q 959 3003 697 2906 \n",
              "L 697 3450 \n",
              "Q 1169 3672 1522 3987 \n",
              "Q 1875 4303 2022 4600 \n",
              "L 2384 4600 \n",
              "L 2384 0 \n",
              "z\n",
              "\" transform=\"scale(0.015625)\"/>\n",
              "       </defs>\n",
              "       <use xlink:href=\"#ArialMT-31\"/>\n",
              "       <use xlink:href=\"#ArialMT-2e\" x=\"55.615234\"/>\n",
              "       <use xlink:href=\"#ArialMT-30\" x=\"83.398438\"/>\n",
              "       <use xlink:href=\"#ArialMT-30\" x=\"139.013672\"/>\n",
              "      </g>\n",
              "     </g>\n",
              "    </g>\n",
              "    <g id=\"xtick_6\">\n",
              "     <g id=\"text_6\">\n",
              "      <!-- 1.25 -->\n",
              "      <g style=\"fill: #262626\" transform=\"translate(256.217599 291.048711) scale(0.1 -0.1)\">\n",
              "       <use xlink:href=\"#ArialMT-31\"/>\n",
              "       <use xlink:href=\"#ArialMT-2e\" x=\"55.615234\"/>\n",
              "       <use xlink:href=\"#ArialMT-32\" x=\"83.398438\"/>\n",
              "       <use xlink:href=\"#ArialMT-35\" x=\"139.013672\"/>\n",
              "      </g>\n",
              "     </g>\n",
              "    </g>\n",
              "    <g id=\"xtick_7\">\n",
              "     <g id=\"text_7\">\n",
              "      <!-- 1.50 -->\n",
              "      <g style=\"fill: #262626\" transform=\"translate(296.799418 291.048711) scale(0.1 -0.1)\">\n",
              "       <use xlink:href=\"#ArialMT-31\"/>\n",
              "       <use xlink:href=\"#ArialMT-2e\" x=\"55.615234\"/>\n",
              "       <use xlink:href=\"#ArialMT-35\" x=\"83.398438\"/>\n",
              "       <use xlink:href=\"#ArialMT-30\" x=\"139.013672\"/>\n",
              "      </g>\n",
              "     </g>\n",
              "    </g>\n",
              "    <g id=\"xtick_8\">\n",
              "     <g id=\"text_8\">\n",
              "      <!-- 1.75 -->\n",
              "      <g style=\"fill: #262626\" transform=\"translate(337.381236 291.048711) scale(0.1 -0.1)\">\n",
              "       <use xlink:href=\"#ArialMT-31\"/>\n",
              "       <use xlink:href=\"#ArialMT-2e\" x=\"55.615234\"/>\n",
              "       <use xlink:href=\"#ArialMT-37\" x=\"83.398438\"/>\n",
              "       <use xlink:href=\"#ArialMT-35\" x=\"139.013672\"/>\n",
              "      </g>\n",
              "     </g>\n",
              "    </g>\n",
              "    <g id=\"xtick_9\">\n",
              "     <g id=\"text_9\">\n",
              "      <!-- 2.00 -->\n",
              "      <g style=\"fill: #262626\" transform=\"translate(377.963054 291.048711) scale(0.1 -0.1)\">\n",
              "       <use xlink:href=\"#ArialMT-32\"/>\n",
              "       <use xlink:href=\"#ArialMT-2e\" x=\"55.615234\"/>\n",
              "       <use xlink:href=\"#ArialMT-30\" x=\"83.398438\"/>\n",
              "       <use xlink:href=\"#ArialMT-30\" x=\"139.013672\"/>\n",
              "      </g>\n",
              "     </g>\n",
              "    </g>\n",
              "    <g id=\"text_10\">\n",
              "     <!-- Å -->\n",
              "     <g style=\"fill: #262626\" transform=\"translate(222.031094 304.194024) scale(0.1 -0.1)\">\n",
              "      <defs>\n",
              "       <path id=\"ArialMT-c5\" d=\"M -9 0 \n",
              "L 1750 4581 \n",
              "L 2403 4581 \n",
              "L 4278 0 \n",
              "L 3588 0 \n",
              "L 3053 1388 \n",
              "L 1138 1388 \n",
              "L 634 0 \n",
              "L -9 0 \n",
              "z\n",
              "M 1313 1881 \n",
              "L 2866 1881 \n",
              "L 2388 3150 \n",
              "Q 2169 3728 2063 4100 \n",
              "Q 1975 3659 1816 3225 \n",
              "L 1313 1881 \n",
              "z\n",
              "M 1506 5013 \n",
              "Q 1506 5241 1673 5407 \n",
              "Q 1841 5573 2069 5573 \n",
              "Q 2300 5573 2465 5405 \n",
              "Q 2631 5238 2631 5001 \n",
              "Q 2631 4760 2465 4594 \n",
              "Q 2300 4429 2072 4429 \n",
              "Q 1838 4429 1672 4596 \n",
              "Q 1506 4763 1506 5013 \n",
              "z\n",
              "M 1744 5010 \n",
              "Q 1744 4863 1842 4763 \n",
              "Q 1941 4663 2075 4663 \n",
              "Q 2209 4663 2307 4763 \n",
              "Q 2406 4863 2406 5004 \n",
              "Q 2406 5145 2309 5245 \n",
              "Q 2213 5345 2075 5345 \n",
              "Q 1941 5345 1842 5246 \n",
              "Q 1744 5148 1744 5010 \n",
              "z\n",
              "\" transform=\"scale(0.015625)\"/>\n",
              "      </defs>\n",
              "      <use xlink:href=\"#ArialMT-c5\"/>\n",
              "     </g>\n",
              "    </g>\n",
              "   </g>\n",
              "   <g id=\"matplotlib.axis_2\">\n",
              "    <g id=\"ytick_1\">\n",
              "     <g id=\"text_11\">\n",
              "      <!-- 0.00 -->\n",
              "      <g style=\"fill: #262626\" transform=\"translate(20.345313 268.373805) scale(0.1 -0.1)\">\n",
              "       <use xlink:href=\"#ArialMT-30\"/>\n",
              "       <use xlink:href=\"#ArialMT-2e\" x=\"55.615234\"/>\n",
              "       <use xlink:href=\"#ArialMT-30\" x=\"83.398438\"/>\n",
              "       <use xlink:href=\"#ArialMT-30\" x=\"139.013672\"/>\n",
              "      </g>\n",
              "     </g>\n",
              "    </g>\n",
              "    <g id=\"ytick_2\">\n",
              "     <g id=\"text_12\">\n",
              "      <!-- 0.05 -->\n",
              "      <g style=\"fill: #262626\" transform=\"translate(20.345313 232.085806) scale(0.1 -0.1)\">\n",
              "       <use xlink:href=\"#ArialMT-30\"/>\n",
              "       <use xlink:href=\"#ArialMT-2e\" x=\"55.615234\"/>\n",
              "       <use xlink:href=\"#ArialMT-30\" x=\"83.398438\"/>\n",
              "       <use xlink:href=\"#ArialMT-35\" x=\"139.013672\"/>\n",
              "      </g>\n",
              "     </g>\n",
              "    </g>\n",
              "    <g id=\"ytick_3\">\n",
              "     <g id=\"text_13\">\n",
              "      <!-- 0.10 -->\n",
              "      <g style=\"fill: #262626\" transform=\"translate(20.345313 195.797807) scale(0.1 -0.1)\">\n",
              "       <use xlink:href=\"#ArialMT-30\"/>\n",
              "       <use xlink:href=\"#ArialMT-2e\" x=\"55.615234\"/>\n",
              "       <use xlink:href=\"#ArialMT-31\" x=\"83.398438\"/>\n",
              "       <use xlink:href=\"#ArialMT-30\" x=\"139.013672\"/>\n",
              "      </g>\n",
              "     </g>\n",
              "    </g>\n",
              "    <g id=\"ytick_4\">\n",
              "     <g id=\"text_14\">\n",
              "      <!-- 0.15 -->\n",
              "      <g style=\"fill: #262626\" transform=\"translate(20.345313 159.509808) scale(0.1 -0.1)\">\n",
              "       <use xlink:href=\"#ArialMT-30\"/>\n",
              "       <use xlink:href=\"#ArialMT-2e\" x=\"55.615234\"/>\n",
              "       <use xlink:href=\"#ArialMT-31\" x=\"83.398438\"/>\n",
              "       <use xlink:href=\"#ArialMT-35\" x=\"139.013672\"/>\n",
              "      </g>\n",
              "     </g>\n",
              "    </g>\n",
              "    <g id=\"ytick_5\">\n",
              "     <g id=\"text_15\">\n",
              "      <!-- 0.20 -->\n",
              "      <g style=\"fill: #262626\" transform=\"translate(20.345313 123.221809) scale(0.1 -0.1)\">\n",
              "       <use xlink:href=\"#ArialMT-30\"/>\n",
              "       <use xlink:href=\"#ArialMT-2e\" x=\"55.615234\"/>\n",
              "       <use xlink:href=\"#ArialMT-32\" x=\"83.398438\"/>\n",
              "       <use xlink:href=\"#ArialMT-30\" x=\"139.013672\"/>\n",
              "      </g>\n",
              "     </g>\n",
              "    </g>\n",
              "    <g id=\"ytick_6\">\n",
              "     <g id=\"text_16\">\n",
              "      <!-- 0.25 -->\n",
              "      <g style=\"fill: #262626\" transform=\"translate(20.345313 86.93381) scale(0.1 -0.1)\">\n",
              "       <use xlink:href=\"#ArialMT-30\"/>\n",
              "       <use xlink:href=\"#ArialMT-2e\" x=\"55.615234\"/>\n",
              "       <use xlink:href=\"#ArialMT-32\" x=\"83.398438\"/>\n",
              "       <use xlink:href=\"#ArialMT-35\" x=\"139.013672\"/>\n",
              "      </g>\n",
              "     </g>\n",
              "    </g>\n",
              "    <g id=\"ytick_7\">\n",
              "     <g id=\"text_17\">\n",
              "      <!-- 0.30 -->\n",
              "      <g style=\"fill: #262626\" transform=\"translate(20.345313 50.645811) scale(0.1 -0.1)\">\n",
              "       <defs>\n",
              "        <path id=\"ArialMT-33\" d=\"M 269 1209 \n",
              "L 831 1284 \n",
              "Q 928 806 1161 595 \n",
              "Q 1394 384 1728 384 \n",
              "Q 2125 384 2398 659 \n",
              "Q 2672 934 2672 1341 \n",
              "Q 2672 1728 2419 1979 \n",
              "Q 2166 2231 1775 2231 \n",
              "Q 1616 2231 1378 2169 \n",
              "L 1441 2663 \n",
              "Q 1497 2656 1531 2656 \n",
              "Q 1891 2656 2178 2843 \n",
              "Q 2466 3031 2466 3422 \n",
              "Q 2466 3731 2256 3934 \n",
              "Q 2047 4138 1716 4138 \n",
              "Q 1388 4138 1169 3931 \n",
              "Q 950 3725 888 3313 \n",
              "L 325 3413 \n",
              "Q 428 3978 793 4289 \n",
              "Q 1159 4600 1703 4600 \n",
              "Q 2078 4600 2393 4439 \n",
              "Q 2709 4278 2876 4000 \n",
              "Q 3044 3722 3044 3409 \n",
              "Q 3044 3113 2884 2869 \n",
              "Q 2725 2625 2413 2481 \n",
              "Q 2819 2388 3044 2092 \n",
              "Q 3269 1797 3269 1353 \n",
              "Q 3269 753 2831 336 \n",
              "Q 2394 -81 1725 -81 \n",
              "Q 1122 -81 723 278 \n",
              "Q 325 638 269 1209 \n",
              "z\n",
              "\" transform=\"scale(0.015625)\"/>\n",
              "       </defs>\n",
              "       <use xlink:href=\"#ArialMT-30\"/>\n",
              "       <use xlink:href=\"#ArialMT-2e\" x=\"55.615234\"/>\n",
              "       <use xlink:href=\"#ArialMT-33\" x=\"83.398438\"/>\n",
              "       <use xlink:href=\"#ArialMT-30\" x=\"139.013672\"/>\n",
              "      </g>\n",
              "     </g>\n",
              "    </g>\n",
              "    <g id=\"ytick_8\">\n",
              "     <g id=\"text_18\">\n",
              "      <!-- 0.35 -->\n",
              "      <g style=\"fill: #262626\" transform=\"translate(20.345313 14.357812) scale(0.1 -0.1)\">\n",
              "       <use xlink:href=\"#ArialMT-30\"/>\n",
              "       <use xlink:href=\"#ArialMT-2e\" x=\"55.615234\"/>\n",
              "       <use xlink:href=\"#ArialMT-33\" x=\"83.398438\"/>\n",
              "       <use xlink:href=\"#ArialMT-35\" x=\"139.013672\"/>\n",
              "      </g>\n",
              "     </g>\n",
              "    </g>\n",
              "    <g id=\"text_19\">\n",
              "     <!-- eV -->\n",
              "     <g style=\"fill: #262626\" transform=\"translate(14.357813 149.950524) rotate(-90) scale(0.1 -0.1)\">\n",
              "      <defs>\n",
              "       <path id=\"ArialMT-65\" d=\"M 2694 1069 \n",
              "L 3275 997 \n",
              "Q 3138 488 2766 206 \n",
              "Q 2394 -75 1816 -75 \n",
              "Q 1088 -75 661 373 \n",
              "Q 234 822 234 1631 \n",
              "Q 234 2469 665 2931 \n",
              "Q 1097 3394 1784 3394 \n",
              "Q 2450 3394 2872 2941 \n",
              "Q 3294 2488 3294 1666 \n",
              "Q 3294 1616 3291 1516 \n",
              "L 816 1516 \n",
              "Q 847 969 1125 678 \n",
              "Q 1403 388 1819 388 \n",
              "Q 2128 388 2347 550 \n",
              "Q 2566 713 2694 1069 \n",
              "z\n",
              "M 847 1978 \n",
              "L 2700 1978 \n",
              "Q 2663 2397 2488 2606 \n",
              "Q 2219 2931 1791 2931 \n",
              "Q 1403 2931 1139 2672 \n",
              "Q 875 2413 847 1978 \n",
              "z\n",
              "\" transform=\"scale(0.015625)\"/>\n",
              "       <path id=\"ArialMT-56\" d=\"M 1803 0 \n",
              "L 28 4581 \n",
              "L 684 4581 \n",
              "L 1875 1253 \n",
              "Q 2019 853 2116 503 \n",
              "Q 2222 878 2363 1253 \n",
              "L 3600 4581 \n",
              "L 4219 4581 \n",
              "L 2425 0 \n",
              "L 1803 0 \n",
              "z\n",
              "\" transform=\"scale(0.015625)\"/>\n",
              "      </defs>\n",
              "      <use xlink:href=\"#ArialMT-65\"/>\n",
              "      <use xlink:href=\"#ArialMT-56\" x=\"55.615234\"/>\n",
              "     </g>\n",
              "    </g>\n",
              "   </g>\n",
              "   <g id=\"line2d_1\">\n",
              "    <path d=\"M 63.038977 22.874899 \n",
              "L 67.933267 44.103981 \n",
              "L 72.827556 64.053298 \n",
              "L 77.721846 82.762671 \n",
              "L 82.616135 100.271876 \n",
              "L 87.510425 116.620656 \n",
              "L 92.404715 131.848863 \n",
              "L 95.667575 141.398106 \n",
              "L 98.930435 150.478727 \n",
              "L 102.193293 159.102601 \n",
              "L 105.456153 167.281431 \n",
              "L 108.719013 175.027073 \n",
              "L 111.981873 182.351301 \n",
              "L 115.244733 189.265885 \n",
              "L 118.507593 195.782608 \n",
              "L 121.770453 201.913269 \n",
              "L 125.033313 207.669679 \n",
              "L 128.296173 213.063602 \n",
              "L 131.559033 218.106816 \n",
              "L 134.821893 222.81112 \n",
              "L 138.084753 227.188318 \n",
              "L 141.347608 231.250172 \n",
              "L 144.610473 235.008493 \n",
              "L 147.873328 238.47505 \n",
              "L 151.136193 241.661646 \n",
              "L 154.399048 244.580057 \n",
              "L 157.661913 247.242084 \n",
              "L 160.924768 249.6595 \n",
              "L 164.187633 251.844109 \n",
              "L 167.450488 253.807685 \n",
              "L 170.713343 255.562021 \n",
              "L 173.976208 257.118912 \n",
              "L 177.239063 258.490136 \n",
              "L 180.501928 259.68749 \n",
              "L 185.396221 261.18329 \n",
              "L 190.290504 262.354178 \n",
              "L 195.184796 263.239944 \n",
              "L 200.079088 263.88037 \n",
              "L 204.973371 264.315239 \n",
              "L 211.499091 264.644078 \n",
              "L 219.656239 264.784369 \n",
              "L 249.021974 264.794899 \n",
              "L 387.693523 264.794899 \n",
              "L 387.693523 264.794899 \n",
              "\" clip-path=\"url(#p52f3335e82)\" style=\"fill: none; stroke: #1f77b4; stroke-width: 3; stroke-linecap: round\"/>\n",
              "   </g>\n",
              "   <g id=\"patch_3\">\n",
              "    <path d=\"M 46.80625 276.890899 \n",
              "L 46.80625 10.778899 \n",
              "\" style=\"fill: none; stroke: #262626; stroke-width: 0.8; stroke-linejoin: miter; stroke-linecap: square\"/>\n",
              "   </g>\n",
              "   <g id=\"patch_4\">\n",
              "    <path d=\"M 403.92625 276.890899 \n",
              "L 403.92625 10.778899 \n",
              "\" style=\"fill: none; stroke: #262626; stroke-width: 0.8; stroke-linejoin: miter; stroke-linecap: square\"/>\n",
              "   </g>\n",
              "   <g id=\"patch_5\">\n",
              "    <path d=\"M 46.80625 276.890899 \n",
              "L 403.92625 276.890899 \n",
              "\" style=\"fill: none; stroke: #262626; stroke-width: 0.8; stroke-linejoin: miter; stroke-linecap: square\"/>\n",
              "   </g>\n",
              "   <g id=\"patch_6\">\n",
              "    <path d=\"M 46.80625 10.778899 \n",
              "L 403.92625 10.778899 \n",
              "\" style=\"fill: none; stroke: #262626; stroke-width: 0.8; stroke-linejoin: miter; stroke-linecap: square\"/>\n",
              "   </g>\n",
              "  </g>\n",
              " </g>\n",
              " <defs>\n",
              "  <clipPath id=\"p52f3335e82\">\n",
              "   <rect x=\"46.80625\" y=\"10.778899\" width=\"357.12\" height=\"266.112\"/>\n",
              "  </clipPath>\n",
              " </defs>\n",
              "</svg>\n"
            ],
            "text/plain": [
              "<Figure size 640x480 with 1 Axes>"
            ]
          },
          "metadata": {},
          "output_type": "display_data"
        }
      ],
      "source": [
        "r = u.math.linspace(0 * u.angstrom, 2. * u.angstrom, 200)\n",
        "plot(r, soft_sphere(r))"
      ]
    },
    {
      "cell_type": "markdown",
      "metadata": {
        "id": "Eqt0U4tArwlE"
      },
      "source": [
        "We can compute its derivative automatically"
      ]
    },
    {
      "cell_type": "code",
      "execution_count": 4,
      "metadata": {
        "id": "QrOivTPpCJV7"
      },
      "outputs": [
        {
          "name": "stdout",
          "output_type": "stream",
          "text": [
            "-0.25 * intermolecular force\n"
          ]
        }
      ],
      "source": [
        "from brainunit.autograd import grad\n",
        "\n",
        "du_dr = grad(soft_sphere)\n",
        "\n",
        "print(du_dr(0.5 * u.angstrom))"
      ]
    },
    {
      "cell_type": "markdown",
      "metadata": {
        "id": "ws8igUYu20tK"
      },
      "source": [
        "We can vectorize the derivative computation over many radii"
      ]
    },
    {
      "cell_type": "code",
      "execution_count": 5,
      "metadata": {
        "id": "C3sx2gTb23s7"
      },
      "outputs": [
        {
          "data": {
            "application/pdf": "[encoded data removed]",
            "image/svg+xml": [
              "<?xml version=\"1.0\" encoding=\"utf-8\" standalone=\"no\"?>\n",
              "<!DOCTYPE svg PUBLIC \"-//W3C//DTD SVG 1.1//EN\"\n",
              "  \"http://www.w3.org/Graphics/SVG/1.1/DTD/svg11.dtd\">\n",
              "<svg xmlns:xlink=\"http://www.w3.org/1999/xlink\" width=\"392.42pt\" height=\"309.802625pt\" viewBox=\"0 0 392.42 309.802625\" xmlns=\"http://www.w3.org/2000/svg\" version=\"1.1\">\n",
              " <metadata>\n",
              "  <rdf:RDF xmlns:dc=\"http://purl.org/dc/elements/1.1/\" xmlns:cc=\"http://creativecommons.org/ns#\" xmlns:rdf=\"http://www.w3.org/1999/02/22-rdf-syntax-ns#\">\n",
              "   <cc:Work>\n",
              "    <dc:type rdf:resource=\"http://purl.org/dc/dcmitype/StillImage\"/>\n",
              "    <dc:date>2025-01-02T22:52:15.661018</dc:date>\n",
              "    <dc:format>image/svg+xml</dc:format>\n",
              "    <dc:creator>\n",
              "     <cc:Agent>\n",
              "      <dc:title>Matplotlib v3.9.3, https://matplotlib.org/</dc:title>\n",
              "     </cc:Agent>\n",
              "    </dc:creator>\n",
              "   </cc:Work>\n",
              "  </rdf:RDF>\n",
              " </metadata>\n",
              " <defs>\n",
              "  <style type=\"text/css\">*{stroke-linejoin: round; stroke-linecap: butt}</style>\n",
              " </defs>\n",
              " <g id=\"figure_1\">\n",
              "  <g id=\"patch_1\">\n",
              "   <path d=\"M 0 309.802625 \n",
              "L 392.42 309.802625 \n",
              "L 392.42 0 \n",
              "L 0 0 \n",
              "z\n",
              "\" style=\"fill: #ffffff\"/>\n",
              "  </g>\n",
              "  <g id=\"axes_1\">\n",
              "   <g id=\"patch_2\">\n",
              "    <path d=\"M 28.1 273.312 \n",
              "L 385.22 273.312 \n",
              "L 385.22 7.2 \n",
              "L 28.1 7.2 \n",
              "z\n",
              "\" style=\"fill: #ffffff\"/>\n",
              "   </g>\n",
              "   <g id=\"matplotlib.axis_1\">\n",
              "    <g id=\"xtick_1\">\n",
              "     <g id=\"text_1\">\n",
              "      <!-- 0.00 -->\n",
              "      <g style=\"fill: #262626\" transform=\"translate(34.602259 287.469812) scale(0.1 -0.1)\">\n",
              "       <defs>\n",
              "        <path id=\"ArialMT-30\" d=\"M 266 2259 \n",
              "Q 266 3072 433 3567 \n",
              "Q 600 4063 929 4331 \n",
              "Q 1259 4600 1759 4600 \n",
              "Q 2128 4600 2406 4451 \n",
              "Q 2684 4303 2865 4023 \n",
              "Q 3047 3744 3150 3342 \n",
              "Q 3253 2941 3253 2259 \n",
              "Q 3253 1453 3087 958 \n",
              "Q 2922 463 2592 192 \n",
              "Q 2263 -78 1759 -78 \n",
              "Q 1097 -78 719 397 \n",
              "Q 266 969 266 2259 \n",
              "z\n",
              "M 844 2259 \n",
              "Q 844 1131 1108 757 \n",
              "Q 1372 384 1759 384 \n",
              "Q 2147 384 2411 759 \n",
              "Q 2675 1134 2675 2259 \n",
              "Q 2675 3391 2411 3762 \n",
              "Q 2147 4134 1753 4134 \n",
              "Q 1366 4134 1134 3806 \n",
              "Q 844 3388 844 2259 \n",
              "z\n",
              "\" transform=\"scale(0.015625)\"/>\n",
              "        <path id=\"ArialMT-2e\" d=\"M 581 0 \n",
              "L 581 641 \n",
              "L 1222 641 \n",
              "L 1222 0 \n",
              "L 581 0 \n",
              "z\n",
              "\" transform=\"scale(0.015625)\"/>\n",
              "       </defs>\n",
              "       <use xlink:href=\"#ArialMT-30\"/>\n",
              "       <use xlink:href=\"#ArialMT-2e\" x=\"55.615234\"/>\n",
              "       <use xlink:href=\"#ArialMT-30\" x=\"83.398438\"/>\n",
              "       <use xlink:href=\"#ArialMT-30\" x=\"139.013672\"/>\n",
              "      </g>\n",
              "     </g>\n",
              "    </g>\n",
              "    <g id=\"xtick_2\">\n",
              "     <g id=\"text_2\">\n",
              "      <!-- 0.25 -->\n",
              "      <g style=\"fill: #262626\" transform=\"translate(75.184077 287.469812) scale(0.1 -0.1)\">\n",
              "       <defs>\n",
              "        <path id=\"ArialMT-32\" d=\"M 3222 541 \n",
              "L 3222 0 \n",
              "L 194 0 \n",
              "Q 188 203 259 391 \n",
              "Q 375 700 629 1000 \n",
              "Q 884 1300 1366 1694 \n",
              "Q 2113 2306 2375 2664 \n",
              "Q 2638 3022 2638 3341 \n",
              "Q 2638 3675 2398 3904 \n",
              "Q 2159 4134 1775 4134 \n",
              "Q 1369 4134 1125 3890 \n",
              "Q 881 3647 878 3216 \n",
              "L 300 3275 \n",
              "Q 359 3922 746 4261 \n",
              "Q 1134 4600 1788 4600 \n",
              "Q 2447 4600 2831 4234 \n",
              "Q 3216 3869 3216 3328 \n",
              "Q 3216 3053 3103 2787 \n",
              "Q 2991 2522 2730 2228 \n",
              "Q 2469 1934 1863 1422 \n",
              "Q 1356 997 1212 845 \n",
              "Q 1069 694 975 541 \n",
              "L 3222 541 \n",
              "z\n",
              "\" transform=\"scale(0.015625)\"/>\n",
              "        <path id=\"ArialMT-35\" d=\"M 266 1200 \n",
              "L 856 1250 \n",
              "Q 922 819 1161 601 \n",
              "Q 1400 384 1738 384 \n",
              "Q 2144 384 2425 690 \n",
              "Q 2706 997 2706 1503 \n",
              "Q 2706 1984 2436 2262 \n",
              "Q 2166 2541 1728 2541 \n",
              "Q 1456 2541 1237 2417 \n",
              "Q 1019 2294 894 2097 \n",
              "L 366 2166 \n",
              "L 809 4519 \n",
              "L 3088 4519 \n",
              "L 3088 3981 \n",
              "L 1259 3981 \n",
              "L 1013 2750 \n",
              "Q 1425 3038 1878 3038 \n",
              "Q 2478 3038 2890 2622 \n",
              "Q 3303 2206 3303 1553 \n",
              "Q 3303 931 2941 478 \n",
              "Q 2500 -78 1738 -78 \n",
              "Q 1113 -78 717 272 \n",
              "Q 322 622 266 1200 \n",
              "z\n",
              "\" transform=\"scale(0.015625)\"/>\n",
              "       </defs>\n",
              "       <use xlink:href=\"#ArialMT-30\"/>\n",
              "       <use xlink:href=\"#ArialMT-2e\" x=\"55.615234\"/>\n",
              "       <use xlink:href=\"#ArialMT-32\" x=\"83.398438\"/>\n",
              "       <use xlink:href=\"#ArialMT-35\" x=\"139.013672\"/>\n",
              "      </g>\n",
              "     </g>\n",
              "    </g>\n",
              "    <g id=\"xtick_3\">\n",
              "     <g id=\"text_3\">\n",
              "      <!-- 0.50 -->\n",
              "      <g style=\"fill: #262626\" transform=\"translate(115.765895 287.469812) scale(0.1 -0.1)\">\n",
              "       <use xlink:href=\"#ArialMT-30\"/>\n",
              "       <use xlink:href=\"#ArialMT-2e\" x=\"55.615234\"/>\n",
              "       <use xlink:href=\"#ArialMT-35\" x=\"83.398438\"/>\n",
              "       <use xlink:href=\"#ArialMT-30\" x=\"139.013672\"/>\n",
              "      </g>\n",
              "     </g>\n",
              "    </g>\n",
              "    <g id=\"xtick_4\">\n",
              "     <g id=\"text_4\">\n",
              "      <!-- 0.75 -->\n",
              "      <g style=\"fill: #262626\" transform=\"translate(156.347713 287.469812) scale(0.1 -0.1)\">\n",
              "       <defs>\n",
              "        <path id=\"ArialMT-37\" d=\"M 303 3981 \n",
              "L 303 4522 \n",
              "L 3269 4522 \n",
              "L 3269 4084 \n",
              "Q 2831 3619 2401 2847 \n",
              "Q 1972 2075 1738 1259 \n",
              "Q 1569 684 1522 0 \n",
              "L 944 0 \n",
              "Q 953 541 1156 1306 \n",
              "Q 1359 2072 1739 2783 \n",
              "Q 2119 3494 2547 3981 \n",
              "L 303 3981 \n",
              "z\n",
              "\" transform=\"scale(0.015625)\"/>\n",
              "       </defs>\n",
              "       <use xlink:href=\"#ArialMT-30\"/>\n",
              "       <use xlink:href=\"#ArialMT-2e\" x=\"55.615234\"/>\n",
              "       <use xlink:href=\"#ArialMT-37\" x=\"83.398438\"/>\n",
              "       <use xlink:href=\"#ArialMT-35\" x=\"139.013672\"/>\n",
              "      </g>\n",
              "     </g>\n",
              "    </g>\n",
              "    <g id=\"xtick_5\">\n",
              "     <g id=\"text_5\">\n",
              "      <!-- 1.00 -->\n",
              "      <g style=\"fill: #262626\" transform=\"translate(196.929531 287.469812) scale(0.1 -0.1)\">\n",
              "       <defs>\n",
              "        <path id=\"ArialMT-31\" d=\"M 2384 0 \n",
              "L 1822 0 \n",
              "L 1822 3584 \n",
              "Q 1619 3391 1289 3197 \n",
              "Q 959 3003 697 2906 \n",
              "L 697 3450 \n",
              "Q 1169 3672 1522 3987 \n",
              "Q 1875 4303 2022 4600 \n",
              "L 2384 4600 \n",
              "L 2384 0 \n",
              "z\n",
              "\" transform=\"scale(0.015625)\"/>\n",
              "       </defs>\n",
              "       <use xlink:href=\"#ArialMT-31\"/>\n",
              "       <use xlink:href=\"#ArialMT-2e\" x=\"55.615234\"/>\n",
              "       <use xlink:href=\"#ArialMT-30\" x=\"83.398438\"/>\n",
              "       <use xlink:href=\"#ArialMT-30\" x=\"139.013672\"/>\n",
              "      </g>\n",
              "     </g>\n",
              "    </g>\n",
              "    <g id=\"xtick_6\">\n",
              "     <g id=\"text_6\">\n",
              "      <!-- 1.25 -->\n",
              "      <g style=\"fill: #262626\" transform=\"translate(237.511349 287.469812) scale(0.1 -0.1)\">\n",
              "       <use xlink:href=\"#ArialMT-31\"/>\n",
              "       <use xlink:href=\"#ArialMT-2e\" x=\"55.615234\"/>\n",
              "       <use xlink:href=\"#ArialMT-32\" x=\"83.398438\"/>\n",
              "       <use xlink:href=\"#ArialMT-35\" x=\"139.013672\"/>\n",
              "      </g>\n",
              "     </g>\n",
              "    </g>\n",
              "    <g id=\"xtick_7\">\n",
              "     <g id=\"text_7\">\n",
              "      <!-- 1.50 -->\n",
              "      <g style=\"fill: #262626\" transform=\"translate(278.093168 287.469812) scale(0.1 -0.1)\">\n",
              "       <use xlink:href=\"#ArialMT-31\"/>\n",
              "       <use xlink:href=\"#ArialMT-2e\" x=\"55.615234\"/>\n",
              "       <use xlink:href=\"#ArialMT-35\" x=\"83.398438\"/>\n",
              "       <use xlink:href=\"#ArialMT-30\" x=\"139.013672\"/>\n",
              "      </g>\n",
              "     </g>\n",
              "    </g>\n",
              "    <g id=\"xtick_8\">\n",
              "     <g id=\"text_8\">\n",
              "      <!-- 1.75 -->\n",
              "      <g style=\"fill: #262626\" transform=\"translate(318.674986 287.469812) scale(0.1 -0.1)\">\n",
              "       <use xlink:href=\"#ArialMT-31\"/>\n",
              "       <use xlink:href=\"#ArialMT-2e\" x=\"55.615234\"/>\n",
              "       <use xlink:href=\"#ArialMT-37\" x=\"83.398438\"/>\n",
              "       <use xlink:href=\"#ArialMT-35\" x=\"139.013672\"/>\n",
              "      </g>\n",
              "     </g>\n",
              "    </g>\n",
              "    <g id=\"xtick_9\">\n",
              "     <g id=\"text_9\">\n",
              "      <!-- 2.00 -->\n",
              "      <g style=\"fill: #262626\" transform=\"translate(359.256804 287.469812) scale(0.1 -0.1)\">\n",
              "       <use xlink:href=\"#ArialMT-32\"/>\n",
              "       <use xlink:href=\"#ArialMT-2e\" x=\"55.615234\"/>\n",
              "       <use xlink:href=\"#ArialMT-30\" x=\"83.398438\"/>\n",
              "       <use xlink:href=\"#ArialMT-30\" x=\"139.013672\"/>\n",
              "      </g>\n",
              "     </g>\n",
              "    </g>\n",
              "    <g id=\"text_10\">\n",
              "     <!-- Å -->\n",
              "     <g style=\"fill: #262626\" transform=\"translate(203.324844 300.615125) scale(0.1 -0.1)\">\n",
              "      <defs>\n",
              "       <path id=\"ArialMT-c5\" d=\"M -9 0 \n",
              "L 1750 4581 \n",
              "L 2403 4581 \n",
              "L 4278 0 \n",
              "L 3588 0 \n",
              "L 3053 1388 \n",
              "L 1138 1388 \n",
              "L 634 0 \n",
              "L -9 0 \n",
              "z\n",
              "M 1313 1881 \n",
              "L 2866 1881 \n",
              "L 2388 3150 \n",
              "Q 2169 3728 2063 4100 \n",
              "Q 1975 3659 1816 3225 \n",
              "L 1313 1881 \n",
              "z\n",
              "M 1506 5013 \n",
              "Q 1506 5241 1673 5407 \n",
              "Q 1841 5573 2069 5573 \n",
              "Q 2300 5573 2465 5405 \n",
              "Q 2631 5238 2631 5001 \n",
              "Q 2631 4760 2465 4594 \n",
              "Q 2300 4429 2072 4429 \n",
              "Q 1838 4429 1672 4596 \n",
              "Q 1506 4763 1506 5013 \n",
              "z\n",
              "M 1744 5010 \n",
              "Q 1744 4863 1842 4763 \n",
              "Q 1941 4663 2075 4663 \n",
              "Q 2209 4663 2307 4763 \n",
              "Q 2406 4863 2406 5004 \n",
              "Q 2406 5145 2309 5245 \n",
              "Q 2213 5345 2075 5345 \n",
              "Q 1941 5345 1842 5246 \n",
              "Q 1744 5148 1744 5010 \n",
              "z\n",
              "\" transform=\"scale(0.015625)\"/>\n",
              "      </defs>\n",
              "      <use xlink:href=\"#ArialMT-c5\"/>\n",
              "     </g>\n",
              "    </g>\n",
              "   </g>\n",
              "   <g id=\"matplotlib.axis_2\">\n",
              "    <g id=\"ytick_1\">\n",
              "     <g id=\"text_11\">\n",
              "      <!-- 0.0 -->\n",
              "      <g style=\"fill: #262626\" transform=\"translate(7.2 264.794906) scale(0.1 -0.1)\">\n",
              "       <use xlink:href=\"#ArialMT-30\"/>\n",
              "       <use xlink:href=\"#ArialMT-2e\" x=\"55.615234\"/>\n",
              "       <use xlink:href=\"#ArialMT-30\" x=\"83.398438\"/>\n",
              "      </g>\n",
              "     </g>\n",
              "    </g>\n",
              "    <g id=\"ytick_2\">\n",
              "     <g id=\"text_12\">\n",
              "      <!-- 0.2 -->\n",
              "      <g style=\"fill: #262626\" transform=\"translate(7.2 216.410906) scale(0.1 -0.1)\">\n",
              "       <use xlink:href=\"#ArialMT-30\"/>\n",
              "       <use xlink:href=\"#ArialMT-2e\" x=\"55.615234\"/>\n",
              "       <use xlink:href=\"#ArialMT-32\" x=\"83.398438\"/>\n",
              "      </g>\n",
              "     </g>\n",
              "    </g>\n",
              "    <g id=\"ytick_3\">\n",
              "     <g id=\"text_13\">\n",
              "      <!-- 0.4 -->\n",
              "      <g style=\"fill: #262626\" transform=\"translate(7.2 168.026906) scale(0.1 -0.1)\">\n",
              "       <defs>\n",
              "        <path id=\"ArialMT-34\" d=\"M 2069 0 \n",
              "L 2069 1097 \n",
              "L 81 1097 \n",
              "L 81 1613 \n",
              "L 2172 4581 \n",
              "L 2631 4581 \n",
              "L 2631 1613 \n",
              "L 3250 1613 \n",
              "L 3250 1097 \n",
              "L 2631 1097 \n",
              "L 2631 0 \n",
              "L 2069 0 \n",
              "z\n",
              "M 2069 1613 \n",
              "L 2069 3678 \n",
              "L 634 1613 \n",
              "L 2069 1613 \n",
              "z\n",
              "\" transform=\"scale(0.015625)\"/>\n",
              "       </defs>\n",
              "       <use xlink:href=\"#ArialMT-30\"/>\n",
              "       <use xlink:href=\"#ArialMT-2e\" x=\"55.615234\"/>\n",
              "       <use xlink:href=\"#ArialMT-34\" x=\"83.398438\"/>\n",
              "      </g>\n",
              "     </g>\n",
              "    </g>\n",
              "    <g id=\"ytick_4\">\n",
              "     <g id=\"text_14\">\n",
              "      <!-- 0.6 -->\n",
              "      <g style=\"fill: #262626\" transform=\"translate(7.2 119.642906) scale(0.1 -0.1)\">\n",
              "       <defs>\n",
              "        <path id=\"ArialMT-36\" d=\"M 3184 3459 \n",
              "L 2625 3416 \n",
              "Q 2550 3747 2413 3897 \n",
              "Q 2184 4138 1850 4138 \n",
              "Q 1581 4138 1378 3988 \n",
              "Q 1113 3794 959 3422 \n",
              "Q 806 3050 800 2363 \n",
              "Q 1003 2672 1297 2822 \n",
              "Q 1591 2972 1913 2972 \n",
              "Q 2475 2972 2870 2558 \n",
              "Q 3266 2144 3266 1488 \n",
              "Q 3266 1056 3080 686 \n",
              "Q 2894 316 2569 119 \n",
              "Q 2244 -78 1831 -78 \n",
              "Q 1128 -78 684 439 \n",
              "Q 241 956 241 2144 \n",
              "Q 241 3472 731 4075 \n",
              "Q 1159 4600 1884 4600 \n",
              "Q 2425 4600 2770 4297 \n",
              "Q 3116 3994 3184 3459 \n",
              "z\n",
              "M 888 1484 \n",
              "Q 888 1194 1011 928 \n",
              "Q 1134 663 1356 523 \n",
              "Q 1578 384 1822 384 \n",
              "Q 2178 384 2434 671 \n",
              "Q 2691 959 2691 1453 \n",
              "Q 2691 1928 2437 2201 \n",
              "Q 2184 2475 1800 2475 \n",
              "Q 1419 2475 1153 2201 \n",
              "Q 888 1928 888 1484 \n",
              "z\n",
              "\" transform=\"scale(0.015625)\"/>\n",
              "       </defs>\n",
              "       <use xlink:href=\"#ArialMT-30\"/>\n",
              "       <use xlink:href=\"#ArialMT-2e\" x=\"55.615234\"/>\n",
              "       <use xlink:href=\"#ArialMT-36\" x=\"83.398438\"/>\n",
              "      </g>\n",
              "     </g>\n",
              "    </g>\n",
              "    <g id=\"ytick_5\">\n",
              "     <g id=\"text_15\">\n",
              "      <!-- 0.8 -->\n",
              "      <g style=\"fill: #262626\" transform=\"translate(7.2 71.258906) scale(0.1 -0.1)\">\n",
              "       <defs>\n",
              "        <path id=\"ArialMT-38\" d=\"M 1131 2484 \n",
              "Q 781 2613 612 2850 \n",
              "Q 444 3088 444 3419 \n",
              "Q 444 3919 803 4259 \n",
              "Q 1163 4600 1759 4600 \n",
              "Q 2359 4600 2725 4251 \n",
              "Q 3091 3903 3091 3403 \n",
              "Q 3091 3084 2923 2848 \n",
              "Q 2756 2613 2416 2484 \n",
              "Q 2838 2347 3058 2040 \n",
              "Q 3278 1734 3278 1309 \n",
              "Q 3278 722 2862 322 \n",
              "Q 2447 -78 1769 -78 \n",
              "Q 1091 -78 675 323 \n",
              "Q 259 725 259 1325 \n",
              "Q 259 1772 486 2073 \n",
              "Q 713 2375 1131 2484 \n",
              "z\n",
              "M 1019 3438 \n",
              "Q 1019 3113 1228 2906 \n",
              "Q 1438 2700 1772 2700 \n",
              "Q 2097 2700 2305 2904 \n",
              "Q 2513 3109 2513 3406 \n",
              "Q 2513 3716 2298 3927 \n",
              "Q 2084 4138 1766 4138 \n",
              "Q 1444 4138 1231 3931 \n",
              "Q 1019 3725 1019 3438 \n",
              "z\n",
              "M 838 1322 \n",
              "Q 838 1081 952 856 \n",
              "Q 1066 631 1291 507 \n",
              "Q 1516 384 1775 384 \n",
              "Q 2178 384 2440 643 \n",
              "Q 2703 903 2703 1303 \n",
              "Q 2703 1709 2433 1975 \n",
              "Q 2163 2241 1756 2241 \n",
              "Q 1359 2241 1098 1978 \n",
              "Q 838 1716 838 1322 \n",
              "z\n",
              "\" transform=\"scale(0.015625)\"/>\n",
              "       </defs>\n",
              "       <use xlink:href=\"#ArialMT-30\"/>\n",
              "       <use xlink:href=\"#ArialMT-2e\" x=\"55.615234\"/>\n",
              "       <use xlink:href=\"#ArialMT-38\" x=\"83.398438\"/>\n",
              "      </g>\n",
              "     </g>\n",
              "    </g>\n",
              "    <g id=\"ytick_6\">\n",
              "     <g id=\"text_16\">\n",
              "      <!-- 1.0 -->\n",
              "      <g style=\"fill: #262626\" transform=\"translate(7.2 22.874906) scale(0.1 -0.1)\">\n",
              "       <use xlink:href=\"#ArialMT-31\"/>\n",
              "       <use xlink:href=\"#ArialMT-2e\" x=\"55.615234\"/>\n",
              "       <use xlink:href=\"#ArialMT-30\" x=\"83.398438\"/>\n",
              "      </g>\n",
              "     </g>\n",
              "    </g>\n",
              "   </g>\n",
              "   <g id=\"line2d_1\">\n",
              "    <path d=\"M 44.332727 180.575998 \n",
              "L 49.227017 187.652358 \n",
              "L 54.121306 194.302131 \n",
              "L 59.015596 200.538589 \n",
              "L 63.909885 206.374991 \n",
              "L 68.804175 211.824584 \n",
              "L 73.698465 216.900654 \n",
              "L 78.592755 221.616447 \n",
              "L 83.487043 225.985233 \n",
              "L 88.381335 230.020265 \n",
              "L 93.275623 233.7348 \n",
              "L 98.16991 237.142108 \n",
              "L 103.064203 240.255456 \n",
              "L 107.95849 243.088102 \n",
              "L 112.852783 245.653305 \n",
              "L 117.74707 247.964326 \n",
              "L 122.641358 250.034424 \n",
              "L 127.535651 251.876868 \n",
              "L 132.429943 253.504916 \n",
              "L 137.324226 254.931827 \n",
              "L 142.218518 256.170867 \n",
              "L 148.744238 257.553595 \n",
              "L 155.269958 258.657338 \n",
              "L 161.795678 259.51353 \n",
              "L 168.321398 260.153608 \n",
              "L 176.478546 260.697682 \n",
              "L 184.635694 261.014589 \n",
              "L 194.424279 261.181465 \n",
              "L 214.001429 261.216 \n",
              "L 368.987273 261.216 \n",
              "L 368.987273 261.216 \n",
              "\" clip-path=\"url(#p8fae53914e)\" style=\"fill: none; stroke: #1f77b4; stroke-width: 3; stroke-linecap: round\"/>\n",
              "   </g>\n",
              "   <g id=\"line2d_2\">\n",
              "    <path d=\"M 44.332727 19.296 \n",
              "L 50.858447 38.355884 \n",
              "L 57.384166 56.633824 \n",
              "L 63.909885 74.129821 \n",
              "L 70.435605 90.843874 \n",
              "L 76.961325 106.775984 \n",
              "L 81.855615 118.211874 \n",
              "L 86.749903 129.207982 \n",
              "L 91.644195 139.764235 \n",
              "L 96.538483 149.880628 \n",
              "L 101.43277 159.557181 \n",
              "L 106.327063 168.793894 \n",
              "L 111.22135 177.590746 \n",
              "L 116.115643 185.94778 \n",
              "L 121.009931 193.864974 \n",
              "L 125.904223 201.342313 \n",
              "L 130.798506 208.379796 \n",
              "L 135.692798 214.977453 \n",
              "L 140.587091 221.135266 \n",
              "L 145.481383 226.853236 \n",
              "L 150.375666 232.131347 \n",
              "L 155.269958 236.969629 \n",
              "L 160.164251 241.368067 \n",
              "L 163.427106 244.055995 \n",
              "L 166.689971 246.548444 \n",
              "L 169.952826 248.845402 \n",
              "L 173.215691 250.946879 \n",
              "L 176.478546 252.852865 \n",
              "L 179.741401 254.563365 \n",
              "L 183.004266 256.078384 \n",
              "L 186.267121 257.397913 \n",
              "L 189.529986 258.521959 \n",
              "L 192.792841 259.450516 \n",
              "L 196.055706 260.18359 \n",
              "L 199.318561 260.721175 \n",
              "L 202.581426 261.063277 \n",
              "L 205.844281 261.209891 \n",
              "L 236.841454 261.216 \n",
              "L 368.987273 261.216 \n",
              "L 368.987273 261.216 \n",
              "\" clip-path=\"url(#p8fae53914e)\" style=\"fill: none; stroke: #ff7f0e; stroke-width: 3; stroke-linecap: round\"/>\n",
              "   </g>\n",
              "   <g id=\"patch_3\">\n",
              "    <path d=\"M 28.1 273.312 \n",
              "L 28.1 7.2 \n",
              "\" style=\"fill: none; stroke: #262626; stroke-width: 0.8; stroke-linejoin: miter; stroke-linecap: square\"/>\n",
              "   </g>\n",
              "   <g id=\"patch_4\">\n",
              "    <path d=\"M 385.22 273.312 \n",
              "L 385.22 7.2 \n",
              "\" style=\"fill: none; stroke: #262626; stroke-width: 0.8; stroke-linejoin: miter; stroke-linecap: square\"/>\n",
              "   </g>\n",
              "   <g id=\"patch_5\">\n",
              "    <path d=\"M 28.1 273.312 \n",
              "L 385.22 273.312 \n",
              "\" style=\"fill: none; stroke: #262626; stroke-width: 0.8; stroke-linejoin: miter; stroke-linecap: square\"/>\n",
              "   </g>\n",
              "   <g id=\"patch_6\">\n",
              "    <path d=\"M 28.1 7.2 \n",
              "L 385.22 7.2 \n",
              "\" style=\"fill: none; stroke: #262626; stroke-width: 0.8; stroke-linejoin: miter; stroke-linecap: square\"/>\n",
              "   </g>\n",
              "  </g>\n",
              " </g>\n",
              " <defs>\n",
              "  <clipPath id=\"p8fae53914e\">\n",
              "   <rect x=\"28.1\" y=\"7.2\" width=\"357.12\" height=\"266.112\"/>\n",
              "  </clipPath>\n",
              " </defs>\n",
              "</svg>\n"
            ],
            "text/plain": [
              "<Figure size 640x480 with 1 Axes>"
            ]
          },
          "metadata": {},
          "output_type": "display_data"
        }
      ],
      "source": [
        "from jax import vmap\n",
        "\n",
        "du_dr_v = vmap(du_dr)\n",
        "\n",
        "plot(r, soft_sphere(r).mantissa)\n",
        "plot(r, -du_dr_v(r).mantissa)"
      ]
    },
    {
      "cell_type": "markdown",
      "metadata": {
        "id": "b6uiqzqS04EN"
      },
      "source": [
        "### Randomly Initialize a System"
      ]
    },
    {
      "cell_type": "code",
      "execution_count": 6,
      "metadata": {
        "id": "EmDIRcGvBaN6"
      },
      "outputs": [],
      "source": [
        "from jax import random\n",
        "\n",
        "key = random.PRNGKey(1)\n",
        "\n",
        "particle_count = 128\n",
        "number_density = 1.2 / u.angstrom ** 2\n",
        "dim = 2"
      ]
    },
    {
      "cell_type": "code",
      "execution_count": 7,
      "metadata": {
        "id": "BXOafNfpppzn"
      },
      "outputs": [],
      "source": [
        "from jax_md import quantity\n",
        "\n",
        "# number_density = N / V\n",
        "box_size = quantity.box_size_at_number_density(particle_count = particle_count, \n",
        "                                               number_density = number_density, \n",
        "                                               spatial_dimension = dim)\n",
        "\n",
        "R = bst.random._random_for_unit.uniform_for_unit(key, (particle_count, dim), minval=0*u.angstrom, maxval=box_size)"
      ]
    },
    {
      "cell_type": "code",
      "execution_count": 8,
      "metadata": {
        "id": "JkLOwosltvhi"
      },
      "outputs": [],
      "source": [
        "# from jax_md.colab_tools import renderer\n",
        "# renderer.render(box_size, renderer.Disk(R), resolution=(512, 512))"
      ]
    },
    {
      "cell_type": "markdown",
      "metadata": {
        "id": "APxYUxxo7Dzg"
      },
      "source": [
        "### Displacements and Distances\n"
      ]
    },
    {
      "cell_type": "code",
      "execution_count": 9,
      "metadata": {
        "id": "p9fNv_PXCWg3"
      },
      "outputs": [
        {
          "name": "stdout",
          "output_type": "stream",
          "text": [
            "ArrayImpl([ 2.6709671, -4.09407854], dtype=float32) * angstrom\n"
          ]
        }
      ],
      "source": [
        "from jax_md import space\n",
        "\n",
        "displacement, shift = space.periodic(box_size)\n",
        "\n",
        "print(displacement(R[0], R[1]))"
      ]
    },
    {
      "cell_type": "code",
      "execution_count": 10,
      "metadata": {
        "id": "ObwSolXq7R6D"
      },
      "outputs": [
        {
          "name": "stdout",
          "output_type": "stream",
          "text": [
            "4.888307 * angstrom\n"
          ]
        }
      ],
      "source": [
        "metric = space.metric(displacement)\n",
        "\n",
        "print(metric(R[0], R[1]))"
      ]
    },
    {
      "cell_type": "markdown",
      "metadata": {
        "id": "0bmwFmj57HdI"
      },
      "source": [
        "Compute distances between pairs of points"
      ]
    },
    {
      "cell_type": "code",
      "execution_count": 11,
      "metadata": {
        "id": "EX--_0MoDV1m"
      },
      "outputs": [
        {
          "name": "stdout",
          "output_type": "stream",
          "text": [
            "ArrayImpl([[0.       , 4.88830709, 4.64909458],\n",
            "           [4.88830709, 0.       , 4.22363997],\n",
            "           [4.64909458, 4.22363997, 0.       ]], dtype=float32) * angstrom\n"
          ]
        }
      ],
      "source": [
        "v_displacement = space.map_product(displacement)\n",
        "v_metric = space.map_product(metric)\n",
        "\n",
        "print(v_metric(R[:3], R[:3]))"
      ]
    },
    {
      "cell_type": "markdown",
      "metadata": {
        "id": "MXxXuAja7W3-"
      },
      "source": [
        "### Total Energy of a System"
      ]
    },
    {
      "cell_type": "code",
      "execution_count": 12,
      "metadata": {
        "id": "Tl6HLZwfEWcz"
      },
      "outputs": [],
      "source": [
        "def energy_fn(R):\n",
        "  dr = v_metric(R, R)\n",
        "  return 0.5 * u.math.sum(soft_sphere(dr))"
      ]
    },
    {
      "cell_type": "code",
      "execution_count": 13,
      "metadata": {
        "id": "wZrWkqQkEs35"
      },
      "outputs": [
        {
          "name": "stdout",
          "output_type": "stream",
          "text": [
            "29.554453 * electronvolt\n"
          ]
        }
      ],
      "source": [
        "print(energy_fn(R))"
      ]
    },
    {
      "cell_type": "code",
      "execution_count": 14,
      "metadata": {
        "id": "Hp41YZCmEtb6"
      },
      "outputs": [
        {
          "name": "stdout",
          "output_type": "stream",
          "text": [
            "(128, 2)\n"
          ]
        }
      ],
      "source": [
        "print(grad(energy_fn)(R).shape)"
      ]
    },
    {
      "cell_type": "markdown",
      "metadata": {
        "id": "5mVlh-lr5FY0"
      },
      "source": [
        "### Minimization"
      ]
    },
    {
      "cell_type": "code",
      "execution_count": 15,
      "metadata": {
        "id": "vs96hWLR5RxV"
      },
      "outputs": [],
      "source": [
        "from jax_md import minimize\n",
        "\n",
        "init_fn, apply_fn = minimize.fire_descent(energy_fn, shift)"
      ]
    },
    {
      "cell_type": "code",
      "execution_count": 16,
      "metadata": {
        "id": "vZvnzELrV9aR"
      },
      "outputs": [],
      "source": [
        "state = init_fn(R)\n",
        "\n",
        "trajectory = []\n",
        "\n",
        "while u.math.max(u.math.abs(state.force)) > 1e-4 * u.IMF:\n",
        "  state = apply_fn(state)\n",
        "  trajectory += [state.position]"
      ]
    },
    {
      "cell_type": "code",
      "execution_count": 17,
      "metadata": {
        "id": "3yEp3cZ0WtMU"
      },
      "outputs": [],
      "source": [
        "trajectory = u.math.stack(trajectory)\n",
        "\n",
        "# renderer.render(box_size,\n",
        "#                 renderer.Disk(trajectory),\n",
        "#                 resolution=(512, 512))"
      ]
    },
    {
      "cell_type": "markdown",
      "metadata": {
        "id": "rAqamj4fse3W"
      },
      "source": [
        "### Faster Simulation Through Compilation"
      ]
    },
    {
      "cell_type": "code",
      "execution_count": 31,
      "metadata": {
        "id": "c1V8ds1fe7oa"
      },
      "outputs": [],
      "source": [
        "import jax\n",
        "\n",
        "cond_fn = lambda state: u.math.max(u.math.abs(state.force)) > 1e-4 * u.IMF"
      ]
    },
    {
      "cell_type": "code",
      "execution_count": 19,
      "metadata": {
        "id": "9IJL_maT6qUM"
      },
      "outputs": [],
      "source": [
        "def min(R):\n",
        "  init, apply = minimize.fire_descent(energy_fn, shift)\n",
        "\n",
        "  state = init(R)\n",
        "\n",
        "  for _ in range(20):\n",
        "    state = apply(state)\n",
        "\n",
        "  return energy_fn(state.position)"
      ]
    },
    {
      "cell_type": "code",
      "execution_count": 23,
      "metadata": {
        "id": "6ohMuvT38XcP"
      },
      "outputs": [
        {
          "name": "stdout",
          "output_type": "stream",
          "text": [
            "99.6 ms ± 3.47 ms per loop (mean ± std. dev. of 7 runs, 10 loops each)\n"
          ]
        }
      ],
      "source": [
        "%%timeit\n",
        "jax.block_until_ready(min(R))"
      ]
    },
    {
      "cell_type": "code",
      "execution_count": 24,
      "metadata": {
        "id": "ZNMxdujG81-6"
      },
      "outputs": [],
      "source": [
        "from jax import jit\n",
        "\n",
        "# Just-In-Time compile to GPU\n",
        "min = jit(min)"
      ]
    },
    {
      "cell_type": "code",
      "execution_count": 25,
      "metadata": {
        "id": "gDGx3UAE9CIn"
      },
      "outputs": [
        {
          "data": {
            "text/plain": [
              "22.277498 * electronvolt"
            ]
          },
          "execution_count": 25,
          "metadata": {},
          "output_type": "execute_result"
        }
      ],
      "source": [
        "# The first call incurs a compilation cost\n",
        "min(R)"
      ]
    },
    {
      "cell_type": "code",
      "execution_count": 26,
      "metadata": {
        "id": "zOr9jtW48w-s"
      },
      "outputs": [
        {
          "name": "stdout",
          "output_type": "stream",
          "text": [
            "6.15 ms ± 76.2 μs per loop (mean ± std. dev. of 7 runs, 100 loops each)\n"
          ]
        }
      ],
      "source": [
        "%%timeit\n",
        "jax.block_until_ready(min(R))"
      ]
    },
    {
      "cell_type": "code",
      "execution_count": 32,
      "metadata": {
        "id": "ZFBLKVTDZN_z"
      },
      "outputs": [],
      "source": [
        "from jax import lax\n",
        "\n",
        "@jit\n",
        "def min(R):\n",
        "  init_fn, apply_fn = minimize.fire_descent(energy_fn, shift)\n",
        "\n",
        "  state = init_fn(R)\n",
        "  # Using a JAX loop reduces compilation cost\n",
        "  state = lax.while_loop(cond_fun=cond_fn,\n",
        "                         body_fun=apply_fn,\n",
        "                         init_val=state)\n",
        "\n",
        "  return state.position"
      ]
    },
    {
      "cell_type": "code",
      "execution_count": 33,
      "metadata": {
        "id": "FkfvXICRZd3Z"
      },
      "outputs": [],
      "source": [
        "R_is = min(R)"
      ]
    },
    {
      "cell_type": "code",
      "execution_count": 34,
      "metadata": {
        "id": "1yHZHshlZeVw"
      },
      "outputs": [
        {
          "name": "stdout",
          "output_type": "stream",
          "text": [
            "132 ms ± 1.91 ms per loop (mean ± std. dev. of 7 runs, 10 loops each)\n"
          ]
        }
      ],
      "source": [
        "%%timeit\n",
        "jax.block_until_ready(min(R))"
      ]
    },
    {
      "cell_type": "markdown",
      "metadata": {
        "id": "uTQvN6W1pDwU"
      },
      "source": [
        "### Computing Ensemble Averages"
      ]
    },
    {
      "cell_type": "code",
      "execution_count": null,
      "metadata": {
        "id": "cevE_6RspFxI"
      },
      "outputs": [],
      "source": [
        "from jax_md import simulate\n",
        "from jax import lax\n",
        "\n",
        "sim_steps = 10000\n",
        "steps_per_write = 100\n",
        "write_steps = sim_steps // steps_per_write\n",
        "\n",
        "init_fn, step_fn = simulate.nvt_nose_hoover(energy_fn, shift, dt=5e-3, kT=1e-4)\n",
        "\n",
        "@jit\n",
        "def sim(key):\n",
        "  state = init_fn(key, R_is)\n",
        "\n",
        "  def sim_fn(i, state_positions):\n",
        "    state, positions = state_positions\n",
        "    positions = positions.at[i].set(state.position)\n",
        "    state = lax.fori_loop(0, steps_per_write, lambda _, s: step_fn(s), state)\n",
        "    return state, positions\n",
        "\n",
        "  positions = jnp.zeros((write_steps, particle_count, dim))\n",
        "\n",
        "  state, positions = lax.fori_loop(0, write_steps, sim_fn, (state, positions))\n",
        "  return positions"
      ]
    },
    {
      "cell_type": "code",
      "execution_count": null,
      "metadata": {
        "id": "Q5f6jOgfq7zn"
      },
      "outputs": [],
      "source": [
        "key = random.PRNGKey(0)\n",
        "positions = sim(key)"
      ]
    },
    {
      "cell_type": "code",
      "execution_count": null,
      "metadata": {
        "id": "nd6_SDfau6pw"
      },
      "outputs": [],
      "source": [
        "renderer.render(box_size, renderer.Disk(positions))"
      ]
    },
    {
      "cell_type": "code",
      "execution_count": null,
      "metadata": {
        "id": "BD2cSGQvzVR6"
      },
      "outputs": [],
      "source": [
        "v_sim = vmap(sim)\n",
        "\n",
        "keys = random.split(key, 10)\n",
        "positions = v_sim(keys)"
      ]
    },
    {
      "cell_type": "code",
      "execution_count": null,
      "metadata": {
        "id": "oWeBbo5dzZQm"
      },
      "outputs": [],
      "source": [
        "v_displacement = vmap(vmap(displacement))\n",
        "dr = space.distance(v_displacement(positions[:, 0], positions[:, -1]))"
      ]
    },
    {
      "cell_type": "code",
      "execution_count": null,
      "metadata": {
        "id": "Rk2yOUJf0D1C"
      },
      "outputs": [],
      "source": [
        "dr = jnp.mean(dr, axis=0)\n",
        "propensity = dr[:, None] / jnp.max(dr)\n",
        "\n",
        "red = jnp.array([[1.0, 0.2, 0.2]])\n",
        "blue = jnp.array([[0.2, 0.2, 1.0]])\n",
        "\n",
        "color = propensity * red + (1 - propensity) * blue\n",
        "renderer.render(box_size, renderer.Disk(R_is, color=color))"
      ]
    },
    {
      "cell_type": "markdown",
      "metadata": {
        "id": "EeeS0GBb06US"
      },
      "source": [
        "### Going Big with Neighbor Lists"
      ]
    },
    {
      "cell_type": "code",
      "execution_count": null,
      "metadata": {
        "id": "0mqD5mjY08ZC"
      },
      "outputs": [],
      "source": [
        "key = random.PRNGKey(0)\n",
        "\n",
        "particle_count = 128000\n",
        "box_size = quantity.box_size_at_number_density(particle_count    = particle_count, \n",
        "                                               number_density    = 1.0, \n",
        "                                               spatial_dimension = dim)\n",
        "\n",
        "\n",
        "R = random.uniform(key, (particle_count, dim)) * box_size\n",
        "\n",
        "displacement, shift = space.periodic(box_size)\n",
        "\n",
        "renderer.render(box_size,\n",
        "                renderer.Disk(R),\n",
        "                resolution=(512, 512))"
      ]
    },
    {
      "cell_type": "code",
      "execution_count": null,
      "metadata": {
        "id": "7glVkdK31ZqG"
      },
      "outputs": [],
      "source": [
        "from jax_md import energy\n",
        "\n",
        "neighbor_fn, energy_fn = energy.soft_sphere_neighbor_list(displacement, box_size)\n",
        "\n",
        "init_fn, apply_fn = minimize.fire_descent(energy_fn, shift)"
      ]
    },
    {
      "cell_type": "code",
      "execution_count": null,
      "metadata": {
        "id": "HLpaev18txCG"
      },
      "outputs": [],
      "source": [
        "nbrs = neighbor_fn.allocate(R)\n",
        "print(nbrs.idx.shape)"
      ]
    },
    {
      "cell_type": "code",
      "execution_count": null,
      "metadata": {
        "id": "G8cjvj0X2VLG"
      },
      "outputs": [],
      "source": [
        "state = init_fn(R, neighbor=nbrs)\n",
        "\n",
        "def cond_fn(state_and_nbrs):\n",
        "  state, _ = state_and_nbrs\n",
        "  return jnp.any(jnp.abs(state.force) > 1e-4)\n",
        "\n",
        "def step_fn(state_and_nbrs):\n",
        "  state, nbrs = state_and_nbrs\n",
        "  nbrs = nbrs.update(state.position)\n",
        "  state = apply_fn(state, neighbor=nbrs)\n",
        "  return state, nbrs\n",
        "\n",
        "state, nbrs = lax.while_loop(cond_fn,\n",
        "                             step_fn,\n",
        "                             (state, nbrs))\n",
        "\n",
        "renderer.render(box_size,\n",
        "                renderer.Disk(state.position),\n",
        "                resolution=(700, 700))"
      ]
    },
    {
      "cell_type": "code",
      "execution_count": null,
      "metadata": {
        "id": "9lW2Xog9Xjof"
      },
      "outputs": [],
      "source": [
        "nbrs.did_buffer_overflow"
      ]
    },
    {
      "cell_type": "code",
      "execution_count": null,
      "metadata": {
        "id": "Rbd7daL6LM72"
      },
      "outputs": [],
      "source": [
        "nbrs = neighbor_fn.allocate(state.position)"
      ]
    },
    {
      "cell_type": "code",
      "execution_count": null,
      "metadata": {
        "id": "TF5cZhXWLVdd"
      },
      "outputs": [],
      "source": [
        "nbrs.idx.shape"
      ]
    },
    {
      "cell_type": "markdown",
      "metadata": {
        "id": "Cile55odogV_"
      },
      "source": [
        "### Composite Simulations"
      ]
    },
    {
      "cell_type": "code",
      "execution_count": null,
      "metadata": {
        "id": "vanbwHzd4j3n"
      },
      "outputs": [],
      "source": [
        "from jax_md import dataclasses\n",
        "\n",
        "@dataclasses.dataclass\n",
        "class System:\n",
        "  mobile: jnp.ndarray\n",
        "  immobile: jnp.ndarray"
      ]
    },
    {
      "cell_type": "code",
      "execution_count": null,
      "metadata": {
        "id": "h1nytYv-8J_i"
      },
      "outputs": [],
      "source": [
        "key = random.PRNGKey(0)\n",
        "\n",
        "mobile_count = 128\n",
        "immobile_count = 8\n",
        "particle_count = mobile_count + immobile_count\n",
        "\n",
        "box_size = quantity.box_size_at_number_density(particle_count    = particle_count, \n",
        "                                               number_density    = 1.0, \n",
        "                                               spatial_dimension = dim)\n",
        "\n",
        "key, mobile_key, immobile_key = random.split(key, 3)\n",
        "\n",
        "R_mobile = random.uniform(mobile_key, (mobile_count, dim)) * box_size\n",
        "R_immobile = random.uniform(immobile_key, (immobile_count, dim)) * box_size\n",
        "\n",
        "displacement, shift = space.periodic(box_size)\n",
        "\n",
        "renderer.render(box_size,\n",
        "                {\n",
        "                    'mobile': renderer.Disk(R_mobile, color=red[0]),\n",
        "                    'immobile': renderer.Disk(R_immobile, color=blue[0]),\n",
        "                })"
      ]
    },
    {
      "cell_type": "code",
      "execution_count": null,
      "metadata": {
        "id": "uXwWoTgc9cx4"
      },
      "outputs": [],
      "source": [
        "def energy_fn(position):\n",
        "  v_metric = space.metric(space.map_product(displacement))\n",
        "\n",
        "  dr_mobile = v_metric(position.mobile, position.mobile)\n",
        "  E_mobile = jnp.sum(energy.soft_sphere(dr_mobile)) / 2\n",
        "\n",
        "  dr_immobile = v_metric(position.mobile, position.immobile) \n",
        "  E_immobile = jnp.sum(energy.soft_sphere(dr_immobile))\n",
        "\n",
        "  return E_mobile + E_immobile"
      ]
    },
    {
      "cell_type": "code",
      "execution_count": null,
      "metadata": {
        "id": "XGg5nbN1-qxx"
      },
      "outputs": [],
      "source": [
        "pos = System(R_mobile, R_immobile)\n",
        "energy_fn(pos)"
      ]
    },
    {
      "cell_type": "code",
      "execution_count": null,
      "metadata": {
        "id": "IaTbub2u-4do"
      },
      "outputs": [],
      "source": [
        "init_fn, step_fn = minimize.fire_descent(energy_fn, shift)\n",
        "\n",
        "positions = []\n",
        "\n",
        "mass = System(1., 1.)\n",
        "state = init_fn(pos, mass=mass)\n",
        "\n",
        "for i in range(100):\n",
        "  positions += [state.position]\n",
        "  state = step_fn(state)"
      ]
    },
    {
      "cell_type": "code",
      "execution_count": null,
      "metadata": {
        "id": "5X95DFOe7xIN"
      },
      "outputs": [],
      "source": [
        "from jax import tree_map\n",
        "\n",
        "positions = tree_map(lambda *x: jnp.stack(x, axis=0), *positions)\n",
        "\n",
        "renderer.render(box_size,\n",
        "                {\n",
        "                    'mobile': renderer.Disk(positions.mobile, color=red[0]),\n",
        "                    'immobile': renderer.Disk(positions.immobile, color=blue[0]),\n",
        "                })"
      ]
    },
    {
      "cell_type": "markdown",
      "metadata": {
        "id": "sfoTQv1y83rE"
      },
      "source": [
        "#### Immobile particles, two ways:"
      ]
    },
    {
      "cell_type": "code",
      "execution_count": null,
      "metadata": {
        "id": "8A9AZmrc8bXv"
      },
      "outputs": [],
      "source": [
        "system_shift = System(shift, lambda x, dx: x)\n",
        "\n",
        "init_fn, step_fn = minimize.fire_descent(energy_fn, system_shift)\n",
        "\n",
        "positions = []\n",
        "\n",
        "mass = System(1., 1.)\n",
        "state = init_fn(pos, mass=mass)\n",
        "\n",
        "for i in range(100):\n",
        "  positions += [state.position]\n",
        "  state = step_fn(state)"
      ]
    },
    {
      "cell_type": "code",
      "execution_count": null,
      "metadata": {
        "id": "UOtR5pjP8duF"
      },
      "outputs": [],
      "source": [
        "from jax import tree_map\n",
        "\n",
        "positions = tree_map(lambda *x: jnp.stack(x, axis=0), *positions)\n",
        "\n",
        "renderer.render(box_size,\n",
        "                {\n",
        "                    'mobile': renderer.Disk(positions.mobile, color=red[0]),\n",
        "                    'immobile': renderer.Disk(positions.immobile, color=blue[0]),\n",
        "                })"
      ]
    },
    {
      "cell_type": "code",
      "execution_count": null,
      "metadata": {
        "id": "vPNMjyJg9FEp"
      },
      "outputs": [],
      "source": [
        "@simulate.position_step.register(System)\n",
        "def position_step(state, shift_fn, dt, **kwargs):\n",
        "  r = state.position\n",
        "  p = state.momentum\n",
        "  m = state.mass\n",
        "  position = System(\n",
        "      shift_fn(r.mobile, dt * p.mobile / m.mobile), \n",
        "      r.immobile\n",
        "  )\n",
        "  return state.set(position=position)"
      ]
    },
    {
      "cell_type": "code",
      "execution_count": null,
      "metadata": {
        "id": "hVMq_oT--fig"
      },
      "outputs": [],
      "source": [
        "init_fn, step_fn = minimize.fire_descent(energy_fn, shift)\n",
        "\n",
        "positions = []\n",
        "\n",
        "mass = System(1., 1.)\n",
        "state = init_fn(pos, mass=mass)\n",
        "\n",
        "for i in range(100):\n",
        "  positions += [state.position]\n",
        "  state = step_fn(state)"
      ]
    },
    {
      "cell_type": "code",
      "execution_count": null,
      "metadata": {
        "id": "jPY6m3je-fih"
      },
      "outputs": [],
      "source": [
        "from jax import tree_map\n",
        "\n",
        "positions = tree_map(lambda *x: jnp.stack(x, axis=0), *positions)\n",
        "\n",
        "renderer.render(box_size,\n",
        "                {\n",
        "                    'mobile': renderer.Disk(positions.mobile, color=red[0]),\n",
        "                    'immobile': renderer.Disk(positions.immobile, color=blue[0]),\n",
        "                })"
      ]
    },
    {
      "cell_type": "markdown",
      "metadata": {
        "id": "r1CsfMGrAHgx"
      },
      "source": [
        "#### Rigid Bodies"
      ]
    },
    {
      "cell_type": "code",
      "execution_count": null,
      "metadata": {
        "id": "QqRzqv1w-h4Z"
      },
      "outputs": [],
      "source": [
        "from jax_md import rigid_body\n",
        "\n",
        "key = random.PRNGKey(0)\n",
        "\n",
        "body_count = 128\n",
        "dim = 3\n",
        "\n",
        "box_size = quantity.box_size_at_number_density(particle_count    = particle_count, \n",
        "                                               number_density    = 0.1, \n",
        "                                               spatial_dimension = dim)\n",
        "\n",
        "# Create a rigid body composite type.\n",
        "key, pos_key, quat_key = random.split(key, 3)\n",
        "\n",
        "R = random.uniform(pos_key, (body_count, 3)) * box_size\n",
        "Q = rigid_body.random_quaternion(random.split(quat_key, body_count), jnp.float32)\n",
        "\n",
        "body = rigid_body.RigidBody(R, Q)\n",
        "\n",
        "displacement, shift = space.periodic(box_size)\n",
        "\n",
        "# Create an energy function for tetrahedra formed from soft spheres.\n",
        "shape = rigid_body.tetrahedron\n",
        "neighbor_list, energy_fn = energy.soft_sphere_neighbor_list(\n",
        "    displacement, box_size, sigma=1.5)\n",
        "neighbor_list, energy_fn = rigid_body.point_energy_neighbor_list(\n",
        "    energy_fn, neighbor_list, shape)"
      ]
    },
    {
      "cell_type": "code",
      "execution_count": null,
      "metadata": {
        "id": "7Lchy0KYEr4R"
      },
      "outputs": [],
      "source": [
        "# Use the standard minimization algorithm to do FIRE descent.\n",
        "init_fn, step_fn = minimize.fire_descent(energy_fn, shift)\n",
        "\n",
        "nbrs = neighbor_list.allocate(body)\n",
        "state = init_fn(body, mass=shape.mass(), neighbor=nbrs)\n",
        "\n",
        "@jit\n",
        "def sim_step(state, nbrs):\n",
        "  state = step_fn(state, neighbor=nbrs)\n",
        "  nbrs = nbrs.update(state.position)\n",
        "  return state, nbrs\n",
        "\n",
        "trajectory = []\n",
        "for i in range(100):\n",
        "  trajectory += [vmap(rigid_body.transform, (0, None))(state.position, shape)]\n",
        "  state, nbrs = sim_step(state, nbrs)"
      ]
    },
    {
      "cell_type": "code",
      "execution_count": null,
      "metadata": {
        "id": "RBekb6viFIw3"
      },
      "outputs": [],
      "source": [
        "trajectory = jnp.stack(trajectory).reshape((100, -1, 3))\n",
        "\n",
        "colors = random.uniform(key, (128, 1, 3))\n",
        "colors = jnp.broadcast_to(colors, (128, 4, 3))\n",
        "colors = jnp.reshape(colors, (-1, 3))\n",
        "\n",
        "renderer.render(box_size, renderer.Sphere(trajectory, diameter=jnp.array(1.5), color=colors))"
      ]
    },
    {
      "cell_type": "code",
      "execution_count": null,
      "metadata": {
        "id": "mkCbp0goIAlH"
      },
      "outputs": [],
      "source": []
    }
  ],
  "metadata": {
    "accelerator": "GPU",
    "colab": {
      "include_colab_link": true,
      "private_outputs": true,
      "provenance": [],
      "toc_visible": true
    },
    "kernelspec": {
      "display_name": "jax-md",
      "language": "python",
      "name": "python3"
    },
    "language_info": {
      "codemirror_mode": {
        "name": "ipython",
        "version": 3
      },
      "file_extension": ".py",
      "mimetype": "text/x-python",
      "name": "python",
      "nbconvert_exporter": "python",
      "pygments_lexer": "ipython3",
      "version": "3.10.15"
    }
  },
  "nbformat": 4,
  "nbformat_minor": 0
}

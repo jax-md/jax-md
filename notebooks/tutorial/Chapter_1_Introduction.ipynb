{
  "cells": [
    {
      "cell_type": "markdown",
      "metadata": {
        "colab_type": "text",
        "id": "view-in-github"
      },
      "source": [
        "<a href=\"https://colab.research.google.com/github/google/jax-md/blob/main/notebooks/tutorial/Chapter_1_Introduction.ipynb\" target=\"_parent\"><img src=\"https://colab.research.google.com/assets/colab-badge.svg\" alt=\"Open In Colab\"/></a>"
      ]
    },
    {
      "cell_type": "code",
      "execution_count": null,
      "metadata": {
        "cellView": "form",
        "id": "odlcm3Jmuglm"
      },
      "outputs": [],
      "source": [
        "#@title Import & Util\n",
        "\n",
        "%%capture\n",
        "\n",
        "!pip install git+https://github.com/google/jax-md\n",
        "\n",
        "import jax.numpy as np\n",
        "from jax import device_put\n",
        "from jax import config\n",
        "# TODO: Uncomment this and enable warnings when XLA bug is fixed.\n",
        "import warnings; warnings.simplefilter('ignore')\n",
        "config.update('jax_enable_x64', True)\n",
        "from IPython.display import set_matplotlib_formats\n",
        "set_matplotlib_formats('pdf', 'svg')\n",
        "import matplotlib.pyplot as plt\n",
        "import seaborn as sns\n",
        "import pickle\n",
        "\n",
        "import warnings\n",
        "warnings.simplefilter(\"ignore\")\n",
        "\n",
        "sns.set_style(style='white')\n",
        "background_color = [56 / 256] * 3\n",
        "def plot(x, y, *args):\n",
        "  plt.plot(x, y, *args, linewidth=3)\n",
        "  plt.gca().set_facecolor([1, 1, 1])\n",
        "def draw(R, **kwargs):\n",
        "  if 'c' not in kwargs:\n",
        "    kwargs['color'] = [1, 1, 0.9]\n",
        "  ax = plt.axes(xlim=(0, float(jnp.max(R[:, 0]))), \n",
        "                ylim=(0, float(jnp.max(R[:, 1]))))\n",
        "  ax.get_xaxis().set_visible(False)\n",
        "  ax.get_yaxis().set_visible(False)\n",
        "  ax.set_facecolor(background_color)\n",
        "  plt.scatter(R[:, 0], R[:, 1],  marker='o', s=1024, **kwargs)\n",
        "  plt.gcf().patch.set_facecolor(background_color)\n",
        "  plt.gcf().set_size_inches(6, 6)\n",
        "  plt.tight_layout()\n",
        "def draw_big(R, **kwargs):\n",
        "  if 'c' not in kwargs:\n",
        "    kwargs['color'] = [1, 1, 0.9]\n",
        "  fig = plt.figure(dpi=128)\n",
        "  ax = plt.axes(xlim=(0, float(jnp.max(R[:, 0]))),\n",
        "                ylim=(0, float(jnp.max(R[:, 1]))))\n",
        "  ax.get_xaxis().set_visible(False)\n",
        "  ax.get_yaxis().set_visible(False)\n",
        "  ax.set_facecolor(background_color)\n",
        "  s = plt.scatter(R[:, 0], R[:, 1], marker='o', s=0.5, **kwargs)\n",
        "  s.set_rasterized(True)\n",
        "  plt.gcf().patch.set_facecolor(background_color)\n",
        "  plt.gcf().set_size_inches(10, 10)\n",
        "  plt.tight_layout()\n",
        "def draw_displacement(R, dR):\n",
        "  plt.quiver(R[:, 0], R[:, 1], dR[:, 0], dR[:, 1], color=[1, 0.5, 0.5])\n",
        "\n",
        "# Progress Bars\n",
        "\n",
        "from IPython.display import HTML, display\n",
        "import time\n",
        "\n",
        "def ProgressIter(iter_fun, iter_len=0):\n",
        "  if not iter_len:\n",
        "    iter_len = len(iter_fun)\n",
        "  out = display(progress(0, iter_len), display_id=True)\n",
        "  for i, it in enumerate(iter_fun):\n",
        "    yield it\n",
        "    out.update(progress(i + 1, iter_len))\n",
        "\n",
        "def progress(value, max):\n",
        "    return HTML(\"\"\"\n",
        "        <progress\n",
        "            value='{value}'\n",
        "            max='{max}',\n",
        "            style='width: 45%'\n",
        "        >\n",
        "            {value}\n",
        "        </progress>\n",
        "    \"\"\".format(value=value, max=max))"
      ]
    },
    {
      "cell_type": "markdown",
      "metadata": {
        "id": "NutOCjdwpneq"
      },
      "source": [
        "# JAX MD Tutorial ([tutorial.jax-md.org](https://tutorial.jax-md.org))"
      ]
    },
    {
      "cell_type": "markdown",
      "metadata": {
        "id": "mCvUpKcXm7MJ"
      },
      "source": [
        "## Chapter 1: Introduction"
      ]
    },
    {
      "cell_type": "markdown",
      "metadata": {
        "id": "9_FfC_k1DMfB"
      },
      "source": [
        "### Energy and Automatic Differentiation"
      ]
    },
    {
      "cell_type": "markdown",
      "metadata": {
        "id": "ISh1a8bK33QZ"
      },
      "source": [
        "$u(r) = \\begin{cases}\\frac13(1 - r)^3 & \\text{if $r < 1$} \\\\ 0 & \\text{otherwise} \\end{cases}$"
      ]
    },
    {
      "cell_type": "code",
      "execution_count": null,
      "metadata": {
        "id": "uQs4C7ggBxBM"
      },
      "outputs": [],
      "source": [
        "import jax.numpy as jnp\n",
        "\n",
        "def soft_sphere(r):\n",
        "  return jnp.where(r < 1, \n",
        "                   1/3 * (1 - r) ** 3,\n",
        "                   0.)\n",
        "\n",
        "print(soft_sphere(0.5))"
      ]
    },
    {
      "cell_type": "code",
      "execution_count": null,
      "metadata": {
        "id": "gfEim-vuuXKd"
      },
      "outputs": [],
      "source": [
        "r = jnp.linspace(0, 2., 200)\n",
        "plot(r, soft_sphere(r))"
      ]
    },
    {
      "cell_type": "markdown",
      "metadata": {
        "id": "Eqt0U4tArwlE"
      },
      "source": [
        "We can compute its derivative automatically"
      ]
    },
    {
      "cell_type": "code",
      "execution_count": null,
      "metadata": {
        "id": "QrOivTPpCJV7"
      },
      "outputs": [],
      "source": [
        "from jax import grad\n",
        "\n",
        "du_dr = grad(soft_sphere)\n",
        "\n",
        "print(du_dr(0.5))"
      ]
    },
    {
      "cell_type": "markdown",
      "metadata": {
        "id": "ws8igUYu20tK"
      },
      "source": [
        "We can vectorize the derivative computation over many radii"
      ]
    },
    {
      "cell_type": "code",
      "execution_count": null,
      "metadata": {
        "id": "C3sx2gTb23s7"
      },
      "outputs": [],
      "source": [
        "from jax import vmap\n",
        "\n",
        "du_dr_v = vmap(du_dr)\n",
        "\n",
        "plot(r, soft_sphere(r))\n",
        "plot(r, -du_dr_v(r))"
      ]
    },
    {
      "cell_type": "markdown",
      "metadata": {
        "id": "b6uiqzqS04EN"
      },
      "source": [
        "### Randomly Initialize a System"
      ]
    },
    {
      "cell_type": "code",
      "execution_count": null,
      "metadata": {
        "id": "EmDIRcGvBaN6"
      },
      "outputs": [],
      "source": [
        "from jax import random\n",
        "\n",
        "key = random.PRNGKey(1)\n",
        "\n",
        "particle_count = 128\n",
        "dim = 2"
      ]
    },
    {
      "cell_type": "code",
      "execution_count": null,
      "metadata": {
        "id": "BXOafNfpppzn"
      },
      "outputs": [],
      "source": [
        "from jax_md import quantity\n",
        "\n",
        "# number_density = N / V\n",
        "box_size = quantity.box_size_at_number_density(particle_count = particle_count, \n",
        "                                               number_density = 1.2, \n",
        "                                               spatial_dimension = dim)\n",
        "\n",
        "R = random.uniform(key, (particle_count, dim), maxval=box_size)"
      ]
    },
    {
      "cell_type": "code",
      "execution_count": null,
      "metadata": {
        "id": "JkLOwosltvhi"
      },
      "outputs": [],
      "source": [
        "from jax_md.colab_tools import renderer\n",
        "renderer.render(box_size, renderer.Disk(R), resolution=(512, 512))"
      ]
    },
    {
      "cell_type": "markdown",
      "metadata": {
        "id": "APxYUxxo7Dzg"
      },
      "source": [
        "### Displacements and Distances\n"
      ]
    },
    {
      "cell_type": "code",
      "execution_count": null,
      "metadata": {
        "id": "p9fNv_PXCWg3"
      },
      "outputs": [],
      "source": [
        "from jax_md import space\n",
        "\n",
        "displacement, shift = space.periodic(box_size)\n",
        "\n",
        "print(displacement(R[0], R[1]))"
      ]
    },
    {
      "cell_type": "code",
      "execution_count": null,
      "metadata": {
        "id": "ObwSolXq7R6D"
      },
      "outputs": [],
      "source": [
        "metric = space.metric(displacement)\n",
        "\n",
        "print(metric(R[0], R[1]))"
      ]
    },
    {
      "cell_type": "markdown",
      "metadata": {
        "id": "0bmwFmj57HdI"
      },
      "source": [
        "Compute distances between pairs of points"
      ]
    },
    {
      "cell_type": "code",
      "execution_count": null,
      "metadata": {
        "id": "EX--_0MoDV1m"
      },
      "outputs": [],
      "source": [
        "v_displacement = space.map_product(displacement)\n",
        "v_metric = space.map_product(metric)\n",
        "\n",
        "print(v_metric(R[:3], R[:3]))"
      ]
    },
    {
      "cell_type": "markdown",
      "metadata": {
        "id": "MXxXuAja7W3-"
      },
      "source": [
        "### Total Energy of a System"
      ]
    },
    {
      "cell_type": "code",
      "execution_count": null,
      "metadata": {
        "id": "Tl6HLZwfEWcz"
      },
      "outputs": [],
      "source": [
        "def energy_fn(R):\n",
        "  dr = v_metric(R, R)\n",
        "  return 0.5 * jnp.sum(soft_sphere(dr))"
      ]
    },
    {
      "cell_type": "code",
      "execution_count": null,
      "metadata": {
        "id": "wZrWkqQkEs35"
      },
      "outputs": [],
      "source": [
        "print(energy_fn(R))"
      ]
    },
    {
      "cell_type": "code",
      "execution_count": null,
      "metadata": {
        "id": "Hp41YZCmEtb6"
      },
      "outputs": [],
      "source": [
        "print(grad(energy_fn)(R).shape)"
      ]
    },
    {
      "cell_type": "markdown",
      "metadata": {
        "id": "5mVlh-lr5FY0"
      },
      "source": [
        "### Minimization"
      ]
    },
    {
      "cell_type": "code",
      "execution_count": null,
      "metadata": {
        "id": "vs96hWLR5RxV"
      },
      "outputs": [],
      "source": [
        "from jax_md import minimize\n",
        "\n",
        "init_fn, apply_fn = minimize.fire_descent(energy_fn, shift)"
      ]
    },
    {
      "cell_type": "code",
      "execution_count": null,
      "metadata": {
        "id": "vZvnzELrV9aR"
      },
      "outputs": [],
      "source": [
        "state = init_fn(R)\n",
        "\n",
        "trajectory = []\n",
        "\n",
        "while jnp.max(jnp.abs(state.force)) > 1e-4:\n",
        "  state = apply_fn(state)\n",
        "  trajectory += [state.position]"
      ]
    },
    {
      "cell_type": "code",
      "execution_count": null,
      "metadata": {
        "id": "3yEp3cZ0WtMU"
      },
      "outputs": [],
      "source": [
        "trajectory = jnp.stack(trajectory)\n",
        "\n",
        "renderer.render(box_size,\n",
        "                renderer.Disk(trajectory),\n",
        "                resolution=(512, 512))"
      ]
    },
    {
      "cell_type": "code",
      "execution_count": null,
      "metadata": {
        "id": "c1V8ds1fe7oa"
      },
      "outputs": [],
      "source": [
        "cond_fn = lambda state: jnp.max(jnp.abs(state.force)) > 1e-4"
      ]
    },
    {
      "cell_type": "markdown",
      "metadata": {
        "id": "rAqamj4fse3W"
      },
      "source": [
        "### Faster Simulation Through Compilation"
      ]
    },
    {
      "cell_type": "code",
      "execution_count": null,
      "metadata": {
        "id": "9IJL_maT6qUM"
      },
      "outputs": [],
      "source": [
        "def min(R):\n",
        "  init, apply = minimize.fire_descent(energy_fn, shift)\n",
        "\n",
        "  state = init(R)\n",
        "\n",
        "  for _ in range(20):\n",
        "    state = apply(state)\n",
        "\n",
        "  return energy_fn(state.position)"
      ]
    },
    {
      "cell_type": "code",
      "execution_count": null,
      "metadata": {
        "id": "6ohMuvT38XcP"
      },
      "outputs": [],
      "source": [
        "%%timeit\n",
        "min(R).block_until_ready()"
      ]
    },
    {
      "cell_type": "code",
      "execution_count": null,
      "metadata": {
        "id": "ZNMxdujG81-6"
      },
      "outputs": [],
      "source": [
        "from jax import jit\n",
        "\n",
        "# Just-In-Time compile to GPU\n",
        "min = jit(min)"
      ]
    },
    {
      "cell_type": "code",
      "execution_count": null,
      "metadata": {
        "id": "gDGx3UAE9CIn"
      },
      "outputs": [],
      "source": [
        "# The first call incurs a compilation cost\n",
        "min(R)"
      ]
    },
    {
      "cell_type": "code",
      "execution_count": null,
      "metadata": {
        "id": "zOr9jtW48w-s"
      },
      "outputs": [],
      "source": [
        "%%timeit\n",
        "min(R).block_until_ready()"
      ]
    },
    {
      "cell_type": "code",
      "execution_count": null,
      "metadata": {
        "id": "ZFBLKVTDZN_z"
      },
      "outputs": [],
      "source": [
        "from jax import lax\n",
        "\n",
        "@jit\n",
        "def min(R):\n",
        "  init_fn, apply_fn = minimize.fire_descent(energy_fn, shift)\n",
        "\n",
        "  state = init_fn(R)\n",
        "  # Using a JAX loop reduces compilation cost\n",
        "  state = lax.while_loop(cond_fun=cond_fn,\n",
        "                         body_fun=apply_fn,\n",
        "                         init_val=state)\n",
        "\n",
        "  return state.position"
      ]
    },
    {
      "cell_type": "code",
      "execution_count": null,
      "metadata": {
        "id": "FkfvXICRZd3Z"
      },
      "outputs": [],
      "source": [
        "R_is = min(R)"
      ]
    },
    {
      "cell_type": "code",
      "execution_count": null,
      "metadata": {
        "id": "1yHZHshlZeVw"
      },
      "outputs": [],
      "source": [
        "%%timeit\n",
        "min(R).block_until_ready()"
      ]
    },
    {
      "cell_type": "markdown",
      "metadata": {
        "id": "uTQvN6W1pDwU"
      },
      "source": [
        "### Computing Ensemble Averages"
      ]
    },
    {
      "cell_type": "code",
      "execution_count": null,
      "metadata": {
        "id": "cevE_6RspFxI"
      },
      "outputs": [],
      "source": [
        "from jax_md import simulate\n",
        "from jax import lax\n",
        "\n",
        "sim_steps = 10000\n",
        "steps_per_write = 100\n",
        "write_steps = sim_steps // steps_per_write\n",
        "\n",
        "init_fn, step_fn = simulate.nvt_nose_hoover(energy_fn, shift, dt=5e-3, kT=1e-4)\n",
        "\n",
        "@jit\n",
        "def sim(key):\n",
        "  state = init_fn(key, R_is)\n",
        "\n",
        "  def sim_fn(i, state_positions):\n",
        "    state, positions = state_positions\n",
        "    positions = positions.at[i].set(state.position)\n",
        "    state = lax.fori_loop(0, steps_per_write, lambda _, s: step_fn(s), state)\n",
        "    return state, positions\n",
        "\n",
        "  positions = jnp.zeros((write_steps, particle_count, dim))\n",
        "\n",
        "  state, positions = lax.fori_loop(0, write_steps, sim_fn, (state, positions))\n",
        "  return positions"
      ]
    },
    {
      "cell_type": "code",
      "execution_count": null,
      "metadata": {
        "id": "Q5f6jOgfq7zn"
      },
      "outputs": [],
      "source": [
        "key = random.PRNGKey(0)\n",
        "positions = sim(key)"
      ]
    },
    {
      "cell_type": "code",
      "execution_count": null,
      "metadata": {
        "id": "nd6_SDfau6pw"
      },
      "outputs": [],
      "source": [
        "renderer.render(box_size, renderer.Disk(positions))"
      ]
    },
    {
      "cell_type": "code",
      "execution_count": null,
      "metadata": {
        "id": "BD2cSGQvzVR6"
      },
      "outputs": [],
      "source": [
        "v_sim = vmap(sim)\n",
        "\n",
        "keys = random.split(key, 10)\n",
        "positions = v_sim(keys)"
      ]
    },
    {
      "cell_type": "code",
      "execution_count": null,
      "metadata": {
        "id": "oWeBbo5dzZQm"
      },
      "outputs": [],
      "source": [
        "v_displacement = vmap(vmap(displacement))\n",
        "dr = space.distance(v_displacement(positions[:, 0], positions[:, -1]))"
      ]
    },
    {
      "cell_type": "code",
      "execution_count": null,
      "metadata": {
        "id": "Rk2yOUJf0D1C"
      },
      "outputs": [],
      "source": [
        "dr = jnp.mean(dr, axis=0)\n",
        "propensity = dr[:, None] / jnp.max(dr)\n",
        "\n",
        "red = jnp.array([[1.0, 0.2, 0.2]])\n",
        "blue = jnp.array([[0.2, 0.2, 1.0]])\n",
        "\n",
        "color = propensity * red + (1 - propensity) * blue\n",
        "renderer.render(box_size, renderer.Disk(R_is, color=color))"
      ]
    },
    {
      "cell_type": "markdown",
      "metadata": {
        "id": "EeeS0GBb06US"
      },
      "source": [
        "### Going Big with Neighbor Lists"
      ]
    },
    {
      "cell_type": "code",
      "execution_count": null,
      "metadata": {
        "id": "0mqD5mjY08ZC"
      },
      "outputs": [],
      "source": [
        "key = random.PRNGKey(0)\n",
        "\n",
        "particle_count = 128000\n",
        "box_size = quantity.box_size_at_number_density(particle_count    = particle_count, \n",
        "                                               number_density    = 1.0, \n",
        "                                               spatial_dimension = dim)\n",
        "\n",
        "\n",
        "R = random.uniform(key, (particle_count, dim)) * box_size\n",
        "\n",
        "displacement, shift = space.periodic(box_size)\n",
        "\n",
        "renderer.render(box_size,\n",
        "                renderer.Disk(R),\n",
        "                resolution=(512, 512))"
      ]
    },
    {
      "cell_type": "code",
      "execution_count": null,
      "metadata": {
        "id": "7glVkdK31ZqG"
      },
      "outputs": [],
      "source": [
        "from jax_md import energy\n",
        "\n",
        "neighbor_fn, energy_fn = energy.soft_sphere_neighbor_list(displacement, box_size)\n",
        "\n",
        "init_fn, apply_fn = minimize.fire_descent(energy_fn, shift)"
      ]
    },
    {
      "cell_type": "code",
      "execution_count": null,
      "metadata": {
        "id": "HLpaev18txCG"
      },
      "outputs": [],
      "source": [
        "nbrs = neighbor_fn.allocate(R)\n",
        "print(nbrs.idx.shape)"
      ]
    },
    {
      "cell_type": "code",
      "execution_count": null,
      "metadata": {
        "id": "G8cjvj0X2VLG"
      },
      "outputs": [],
      "source": [
        "state = init_fn(R, neighbor=nbrs)\n",
        "\n",
        "def cond_fn(state_and_nbrs):\n",
        "  state, _ = state_and_nbrs\n",
        "  return jnp.any(jnp.abs(state.force) > 1e-4)\n",
        "\n",
        "def step_fn(state_and_nbrs):\n",
        "  state, nbrs = state_and_nbrs\n",
        "  nbrs = nbrs.update(state.position)\n",
        "  state = apply_fn(state, neighbor=nbrs)\n",
        "  return state, nbrs\n",
        "\n",
        "state, nbrs = lax.while_loop(cond_fn,\n",
        "                             step_fn,\n",
        "                             (state, nbrs))\n",
        "\n",
        "renderer.render(box_size,\n",
        "                renderer.Disk(state.position),\n",
        "                resolution=(700, 700))"
      ]
    },
    {
      "cell_type": "code",
      "execution_count": null,
      "metadata": {
        "id": "9lW2Xog9Xjof"
      },
      "outputs": [],
      "source": [
        "nbrs.did_buffer_overflow"
      ]
    },
    {
      "cell_type": "code",
      "execution_count": null,
      "metadata": {
        "id": "Rbd7daL6LM72"
      },
      "outputs": [],
      "source": [
        "nbrs = neighbor_fn.allocate(state.position)"
      ]
    },
    {
      "cell_type": "code",
      "execution_count": null,
      "metadata": {
        "id": "TF5cZhXWLVdd"
      },
      "outputs": [],
      "source": [
        "nbrs.idx.shape"
      ]
    },
    {
      "cell_type": "markdown",
      "metadata": {
        "id": "Cile55odogV_"
      },
      "source": [
        "### Composite Simulations"
      ]
    },
    {
      "cell_type": "code",
      "execution_count": null,
      "metadata": {
        "id": "vanbwHzd4j3n"
      },
      "outputs": [],
      "source": [
        "from jax_md import dataclasses\n",
        "\n",
        "@dataclasses.dataclass\n",
        "class System:\n",
        "  mobile: jnp.ndarray\n",
        "  immobile: jnp.ndarray"
      ]
    },
    {
      "cell_type": "code",
      "execution_count": null,
      "metadata": {
        "id": "h1nytYv-8J_i"
      },
      "outputs": [],
      "source": [
        "key = random.PRNGKey(0)\n",
        "\n",
        "mobile_count = 128\n",
        "immobile_count = 8\n",
        "particle_count = mobile_count + immobile_count\n",
        "\n",
        "box_size = quantity.box_size_at_number_density(particle_count    = particle_count, \n",
        "                                               number_density    = 1.0, \n",
        "                                               spatial_dimension = dim)\n",
        "\n",
        "key, mobile_key, immobile_key = random.split(key, 3)\n",
        "\n",
        "R_mobile = random.uniform(mobile_key, (mobile_count, dim)) * box_size\n",
        "R_immobile = random.uniform(immobile_key, (immobile_count, dim)) * box_size\n",
        "\n",
        "displacement, shift = space.periodic(box_size)\n",
        "\n",
        "renderer.render(box_size,\n",
        "                {\n",
        "                    'mobile': renderer.Disk(R_mobile, color=red[0]),\n",
        "                    'immobile': renderer.Disk(R_immobile, color=blue[0]),\n",
        "                })"
      ]
    },
    {
      "cell_type": "code",
      "execution_count": null,
      "metadata": {
        "id": "uXwWoTgc9cx4"
      },
      "outputs": [],
      "source": [
        "def energy_fn(position):\n",
        "  v_metric = space.metric(space.map_product(displacement))\n",
        "\n",
        "  dr_mobile = v_metric(position.mobile, position.mobile)\n",
        "  E_mobile = jnp.sum(energy.soft_sphere(dr_mobile)) / 2\n",
        "\n",
        "  dr_immobile = v_metric(position.mobile, position.immobile) \n",
        "  E_immobile = jnp.sum(energy.soft_sphere(dr_immobile))\n",
        "\n",
        "  return E_mobile + E_immobile"
      ]
    },
    {
      "cell_type": "code",
      "execution_count": null,
      "metadata": {
        "id": "XGg5nbN1-qxx"
      },
      "outputs": [],
      "source": [
        "pos = System(R_mobile, R_immobile)\n",
        "energy_fn(pos)"
      ]
    },
    {
      "cell_type": "code",
      "execution_count": null,
      "metadata": {
        "id": "IaTbub2u-4do"
      },
      "outputs": [],
      "source": [
        "init_fn, step_fn = minimize.fire_descent(energy_fn, shift)\n",
        "\n",
        "positions = []\n",
        "\n",
        "mass = System(1., 1.)\n",
        "state = init_fn(pos, mass=mass)\n",
        "\n",
        "for i in range(100):\n",
        "  positions += [state.position]\n",
        "  state = step_fn(state)"
      ]
    },
    {
      "cell_type": "code",
      "execution_count": null,
      "metadata": {
        "id": "5X95DFOe7xIN"
      },
      "outputs": [],
      "source": [
        "from jax import tree_map\n",
        "\n",
        "positions = tree_map(lambda *x: jnp.stack(x, axis=0), *positions)\n",
        "\n",
        "renderer.render(box_size,\n",
        "                {\n",
        "                    'mobile': renderer.Disk(positions.mobile, color=red[0]),\n",
        "                    'immobile': renderer.Disk(positions.immobile, color=blue[0]),\n",
        "                })"
      ]
    },
    {
      "cell_type": "markdown",
      "metadata": {
        "id": "sfoTQv1y83rE"
      },
      "source": [
        "#### Immobile particles, two ways:"
      ]
    },
    {
      "cell_type": "code",
      "execution_count": null,
      "metadata": {
        "id": "8A9AZmrc8bXv"
      },
      "outputs": [],
      "source": [
        "system_shift = System(shift, lambda x, dx: x)\n",
        "\n",
        "init_fn, step_fn = minimize.fire_descent(energy_fn, system_shift)\n",
        "\n",
        "positions = []\n",
        "\n",
        "mass = System(1., 1.)\n",
        "state = init_fn(pos, mass=mass)\n",
        "\n",
        "for i in range(100):\n",
        "  positions += [state.position]\n",
        "  state = step_fn(state)"
      ]
    },
    {
      "cell_type": "code",
      "execution_count": null,
      "metadata": {
        "id": "UOtR5pjP8duF"
      },
      "outputs": [],
      "source": [
        "from jax import tree_map\n",
        "\n",
        "positions = tree_map(lambda *x: jnp.stack(x, axis=0), *positions)\n",
        "\n",
        "renderer.render(box_size,\n",
        "                {\n",
        "                    'mobile': renderer.Disk(positions.mobile, color=red[0]),\n",
        "                    'immobile': renderer.Disk(positions.immobile, color=blue[0]),\n",
        "                })"
      ]
    },
    {
      "cell_type": "code",
      "execution_count": null,
      "metadata": {
        "id": "vPNMjyJg9FEp"
      },
      "outputs": [],
      "source": [
        "@simulate.position_step.register(System)\n",
        "def position_step(state, shift_fn, dt, **kwargs):\n",
        "  r = state.position\n",
        "  p = state.momentum\n",
        "  m = state.mass\n",
        "  position = System(\n",
        "      shift_fn(r.mobile, dt * p.mobile / m.mobile), \n",
        "      r.immobile\n",
        "  )\n",
        "  return state.set(position=position)"
      ]
    },
    {
      "cell_type": "code",
      "execution_count": null,
      "metadata": {
        "id": "hVMq_oT--fig"
      },
      "outputs": [],
      "source": [
        "init_fn, step_fn = minimize.fire_descent(energy_fn, shift)\n",
        "\n",
        "positions = []\n",
        "\n",
        "mass = System(1., 1.)\n",
        "state = init_fn(pos, mass=mass)\n",
        "\n",
        "for i in range(100):\n",
        "  positions += [state.position]\n",
        "  state = step_fn(state)"
      ]
    },
    {
      "cell_type": "code",
      "execution_count": null,
      "metadata": {
        "id": "jPY6m3je-fih"
      },
      "outputs": [],
      "source": [
        "from jax import tree_map\n",
        "\n",
        "positions = tree_map(lambda *x: jnp.stack(x, axis=0), *positions)\n",
        "\n",
        "renderer.render(box_size,\n",
        "                {\n",
        "                    'mobile': renderer.Disk(positions.mobile, color=red[0]),\n",
        "                    'immobile': renderer.Disk(positions.immobile, color=blue[0]),\n",
        "                })"
      ]
    },
    {
      "cell_type": "markdown",
      "metadata": {
        "id": "r1CsfMGrAHgx"
      },
      "source": [
        "#### Rigid Bodies"
      ]
    },
    {
      "cell_type": "code",
      "execution_count": null,
      "metadata": {
        "id": "QqRzqv1w-h4Z"
      },
      "outputs": [],
      "source": [
        "from jax_md import rigid_body\n",
        "\n",
        "key = random.PRNGKey(0)\n",
        "\n",
        "body_count = 128\n",
        "dim = 3\n",
        "\n",
        "box_size = quantity.box_size_at_number_density(particle_count    = particle_count, \n",
        "                                               number_density    = 0.1, \n",
        "                                               spatial_dimension = dim)\n",
        "\n",
        "# Create a rigid body composite type.\n",
        "key, pos_key, quat_key = random.split(key, 3)\n",
        "\n",
        "R = random.uniform(pos_key, (body_count, 3)) * box_size\n",
        "Q = rigid_body.random_quaternion(random.split(quat_key, body_count), jnp.float32)\n",
        "\n",
        "body = rigid_body.RigidBody(R, Q)\n",
        "\n",
        "displacement, shift = space.periodic(box_size)\n",
        "\n",
        "# Create an energy function for tetrahedra formed from soft spheres.\n",
        "shape = rigid_body.tetrahedron\n",
        "neighbor_list, energy_fn = energy.soft_sphere_neighbor_list(\n",
        "    displacement, box_size, sigma=1.5)\n",
        "neighbor_list, energy_fn = rigid_body.point_energy_neighbor_list(\n",
        "    energy_fn, neighbor_list, shape)"
      ]
    },
    {
      "cell_type": "code",
      "execution_count": null,
      "metadata": {
        "id": "7Lchy0KYEr4R"
      },
      "outputs": [],
      "source": [
        "# Use the standard minimization algorithm to do FIRE descent.\n",
        "init_fn, step_fn = minimize.fire_descent(energy_fn, shift)\n",
        "\n",
        "nbrs = neighbor_list.allocate(body)\n",
        "state = init_fn(body, mass=shape.mass(), neighbor=nbrs)\n",
        "\n",
        "@jit\n",
        "def sim_step(state, nbrs):\n",
        "  state = step_fn(state, neighbor=nbrs)\n",
        "  nbrs = nbrs.update(state.position)\n",
        "  return state, nbrs\n",
        "\n",
        "trajectory = []\n",
        "for i in range(100):\n",
        "  trajectory += [vmap(rigid_body.transform, (0, None))(state.position, shape)]\n",
        "  state, nbrs = sim_step(state, nbrs)"
      ]
    },
    {
      "cell_type": "code",
      "execution_count": null,
      "metadata": {
        "id": "RBekb6viFIw3"
      },
      "outputs": [],
      "source": [
        "trajectory = jnp.stack(trajectory).reshape((100, -1, 3))\n",
        "\n",
        "colors = random.uniform(key, (128, 1, 3))\n",
        "colors = jnp.broadcast_to(colors, (128, 4, 3))\n",
        "colors = jnp.reshape(colors, (-1, 3))\n",
        "\n",
        "renderer.render(box_size, renderer.Sphere(trajectory, diameter=jnp.array(1.5), color=colors))"
      ]
    },
    {
      "cell_type": "code",
      "execution_count": null,
      "metadata": {
        "id": "mkCbp0goIAlH"
      },
      "outputs": [],
      "source": []
    }
  ],
  "metadata": {
    "accelerator": "GPU",
    "colab": {
      "include_colab_link": true,
      "private_outputs": true,
      "provenance": [],
      "toc_visible": true
    },
    "kernelspec": {
      "display_name": "Python 3",
      "name": "python3"
    }
  },
  "nbformat": 4,
  "nbformat_minor": 0
}

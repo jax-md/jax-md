{
  "nbformat": 4,
  "nbformat_minor": 0,
  "metadata": {
    "colab": {
      "provenance": [],
      "toc_visible": true,
      "authorship_tag": "ABX9TyP9iBcqi1v0sL/2SXppP7+x",
      "include_colab_link": true
    },
    "kernelspec": {
      "name": "python3",
      "display_name": "Python 3"
    },
    "language_info": {
      "name": "python"
    },
    "accelerator": "GPU",
    "gpuClass": "standard"
  },
  "cells": [
    {
      "cell_type": "markdown",
      "metadata": {
        "id": "view-in-github",
        "colab_type": "text"
      },
      "source": [
        "<a href=\"https://colab.research.google.com/github/cpgoodri/jax-md/blob/tutorial/notebooks/tutorial/Chapter_2_Physical_Quantities.ipynb\" target=\"_parent\"><img src=\"https://colab.research.google.com/assets/colab-badge.svg\" alt=\"Open In Colab\"/></a>"
      ]
    },
    {
      "cell_type": "markdown",
      "source": [
        "#Computing physical quantities"
      ],
      "metadata": {
        "id": "3vDv-bgRMPb4"
      }
    },
    {
      "cell_type": "code",
      "execution_count": null,
      "metadata": {
        "id": "ugRhZbMfEyGO",
        "cellView": "form"
      },
      "outputs": [],
      "source": [
        "#@title Imports and Definitions\n",
        "\n",
        "#!pip install jax-md\n",
        "!pip install -q git+https://www.github.com/google/jax-md\n",
        "\n",
        "import numpy as onp\n",
        "\n",
        "import jax.numpy as jnp\n",
        "from jax.config import config\n",
        "config.update('jax_enable_x64', True)\n",
        "\n",
        "from jax import random\n",
        "from jax import jit, lax, grad, vmap, hessian\n",
        "import jax.scipy as jsp\n",
        "\n",
        "from jax_md import space, energy, smap, simulate, minimize, util, elasticity, quantity, partition\n",
        "from jax_md.colab_tools import renderer\n",
        "\n",
        "f32 = jnp.float32\n",
        "f64 = jnp.float64\n",
        "\n",
        "from functools import partial\n",
        "\n",
        "import matplotlib\n",
        "import matplotlib.pyplot as plt\n",
        "plt.rcParams.update({'font.size': 16})\n",
        "\n",
        "def format_plot(x, y):  \n",
        "  plt.grid(True)\n",
        "  plt.xlabel(x, fontsize=20)\n",
        "  plt.ylabel(y, fontsize=20)\n",
        "  \n",
        "def finalize_plot(shape=(1, 0.7)):\n",
        "  plt.gcf().set_size_inches(\n",
        "    shape[0] * 1.5 * plt.gcf().get_size_inches()[1], \n",
        "    shape[1] * 1.5 * plt.gcf().get_size_inches()[1])\n",
        "  \n",
        "def run_minimization_while(energy_fn, R_init, shift, max_grad_thresh = 1e-12, max_num_steps=1000000, **kwargs):\n",
        "  init, apply=minimize.fire_descent(jit(energy_fn), shift, **kwargs)\n",
        "  apply = jit(apply)\n",
        "\n",
        "  @jit\n",
        "  def get_maxgrad(state):\n",
        "    return jnp.amax(jnp.abs(state.force))\n",
        "\n",
        "  @jit\n",
        "  def cond_fn(val):\n",
        "    state, i = val\n",
        "    return jnp.logical_and(get_maxgrad(state) > max_grad_thresh, i < max_num_steps)\n",
        "\n",
        "  @jit\n",
        "  def body_fn(val):\n",
        "    state, i = val\n",
        "    return apply(state), i + 1\n",
        "\n",
        "  state = init(R_init)\n",
        "  state, num_iterations = lax.while_loop(cond_fn, body_fn, (state, 0))\n",
        "\n",
        "  return state.position, get_maxgrad(state), num_iterations\n",
        "\n",
        "def run_minimization_while_neighbor_list(energy_fn, neighbor_fn, R_init, shift,  \n",
        "                                         max_grad_thresh = 1e-12, max_num_steps = 1000000, \n",
        "                                         step_inc = 1000, verbose = False, nbrs = None, **kwargs):\n",
        "  if nbrs is None:\n",
        "    nbrs = neighbor_fn.allocate(R_init)\n",
        "\n",
        "  init,apply=minimize.fire_descent(jit(energy_fn), shift, **kwargs)\n",
        "  apply = jit(apply)\n",
        "\n",
        "  @jit\n",
        "  def get_maxgrad(state):\n",
        "    return jnp.amax(jnp.abs(state.force))\n",
        "\n",
        "  @jit\n",
        "  def body_fn(state_nbrs, t):\n",
        "    state, nbrs = state_nbrs\n",
        "    nbrs = neighbor_fn.update(state.position, nbrs)\n",
        "    state = apply(state, neighbor=nbrs)\n",
        "    return (state, nbrs), 0\n",
        "  \n",
        "  state = init(R_init, neighbor=nbrs)\n",
        "  \n",
        "  step = 0\n",
        "  while step < max_num_steps:\n",
        "    rtn_state, _ = lax.scan(body_fn, (state, nbrs), step + jnp.arange(step_inc))\n",
        "    new_state, nbrs = rtn_state\n",
        "    # If the neighbor list overflowed, rebuild it and repeat part of \n",
        "    # the simulation.\n",
        "    if nbrs.did_buffer_overflow:\n",
        "      print('Buffer overflow. Reallocating...')\n",
        "      nbrs = neighbor_fn.allocate(state.position)\n",
        "    else:\n",
        "      state = new_state\n",
        "      step += step_inc\n",
        "      if get_maxgrad(state) <= max_grad_thresh:\n",
        "        break\n",
        "\n",
        "  if verbose:\n",
        "    print('Minimized the energy in {} minimization loops ({} steps each) and reached a final \\\n",
        "maximum gradient of {}'.format(step//step_inc, step_inc, get_maxgrad(state)))\n",
        "\n",
        "  return state.position, get_maxgrad(state), nbrs, step\n",
        "\n",
        "def hessian2dynamicalmatrix(H, masses, species=None, reshape=False):\n",
        "  \"\"\" Convert a Hessian matrix into a dynamical matrix\n",
        "\n",
        "    A Dynamical matrix math:`D_{ij}^{\\alpha \\beta}` is defined by \n",
        "        math:`D_{ij}^{\\alpha \\beta} = H_{ij}^{\\alpha \\beta} / \\sqrt( m_i m_j )`\n",
        "    where math:`i` and math:`j` run over particles, math:`\\alpha` and\n",
        "    math:`\\beta` run over the spatial dimensions, math:`H_{ij}^{\\alpha \\beta}` \n",
        "    is the Hessian matrix, and math:`m_i` is the mass.\n",
        "  \n",
        "  Args:\n",
        "    H: array of shape (N,dimension,N,dimension) representing the Hessian of an \n",
        "        energy function.\n",
        "    masses: array of shape (N,) or (N_species,) giving the mass of each particle\n",
        "        or species type\n",
        "    species: array of shape (N,) giving species information\n",
        "    reshape: boolean. If true, the output is reshaped to be \n",
        "        (N*dimension,N*dimension)\n",
        "\n",
        "  Return:\n",
        "    The dynamical matrix as an array of shape (N,dimension,N,dimension) or \n",
        "      (N*dimension,N*dimension) if reshape=True\n",
        "  \"\"\"\n",
        "  if species is not None:\n",
        "    masses = masses[species]\n",
        "\n",
        "  m_rescale = 1 / jnp.sqrt(masses)\n",
        "  D = jnp.einsum('iajb,i,j->iajb',H, m_rescale, m_rescale)\n",
        "\n",
        "  if reshape:\n",
        "    D = D.reshape(D.shape[0]*D.shape[1], D.shape[0]*D.shape[1])\n",
        "  return D"
      ]
    },
    {
      "cell_type": "markdown",
      "source": [
        "Define a system"
      ],
      "metadata": {
        "id": "1uaI_NafqOxq"
      }
    },
    {
      "cell_type": "code",
      "source": [
        "N = 1000\n",
        "dimension = 2\n",
        "\n",
        "# Define boundary conditions\n",
        "box_size = quantity.box_size_at_number_density(N, 0.8, dimension)\n",
        "displacement, shift = space.periodic(box_size) \n",
        "\n",
        "# Define initial positions\n",
        "key = random.PRNGKey(0)\n",
        "R_init = box_size * random.uniform(key, (N, dimension), dtype=jnp.float64)\n",
        "\n",
        "# The system ought to be a 50:50 mixture of two types of particles, one\n",
        "# large and one small.\n",
        "sigma = jnp.array([[1.0, 1.2], [1.2, 1.4]])\n",
        "N_2 = int(N / 2)\n",
        "species = jnp.where(jnp.arange(N) < N_2, 0, 1)\n",
        "diameters = sigma.diagonal()[species]\n",
        "masses = sigma.diagonal() ** dimension\n",
        "\n",
        "# Define energy and neighbor functions\n",
        "neighbor_fn, energy_fn = energy.soft_sphere_neighbor_list(\n",
        "    displacement,\n",
        "    box_size,\n",
        "    species,\n",
        "    sigma,\n",
        "    dr_threshold=0.2,\n",
        "    format=partition.Sparse)\n",
        "\n",
        "# Allocate the neighbor list\n",
        "nbrs_init = neighbor_fn.allocate(R_init)"
      ],
      "metadata": {
        "id": "lhT_ASPmpeA6"
      },
      "execution_count": null,
      "outputs": []
    },
    {
      "cell_type": "markdown",
      "source": [
        "## Run an NVT simulation"
      ],
      "metadata": {
        "id": "lSAhKaLOlrXL"
      }
    },
    {
      "cell_type": "code",
      "source": [
        "dt = 5e-3\n",
        "kT = 0.01 \n",
        "\n",
        "init, apply = simulate.nvt_nose_hoover(energy_fn, shift, dt, kT)\n",
        "state = init(key, R_init, neighbor=nbrs_init)\n",
        "\n",
        "steps = 10000\n",
        "write_every = 100\n",
        "def step_fn(i, state_nbrs_log):\n",
        "  state, nbrs, log = state_nbrs_log\n",
        "  nbrs = nbrs.update(state.position)\n",
        "\n",
        "  # Log information about the simulation.\n",
        "  T = quantity.temperature(momentum=state.momentum)\n",
        "  log['kT'] = log['kT'].at[i].set(T)\n",
        "  H = simulate.nvt_nose_hoover_invariant(energy_fn, state, kT, neighbor=nbrs)\n",
        "  log['H'] = log['H'].at[i].set(H)\n",
        "  # Record positions every `write_every` steps.\n",
        "  log['position'] = lax.cond(i % write_every == 0,\n",
        "                             lambda p: \\\n",
        "                             p.at[i // write_every].set(state.position),\n",
        "                             lambda p: p,\n",
        "                             log['position'])\n",
        "\n",
        "  # Take a simulation step.\n",
        "  state = apply(state, kT=kT, neighbor=nbrs)\n",
        "  \n",
        "  return state, nbrs, log\n",
        "  \n",
        "log = {\n",
        "    'kT': jnp.zeros((steps,)),\n",
        "    'H': jnp.zeros((steps,)),\n",
        "    'position': jnp.zeros((steps // write_every,) + R_init.shape) \n",
        "}\n",
        "\n",
        "state, nbrs, log = lax.fori_loop(0, steps, step_fn, (state, nbrs_init, log))"
      ],
      "metadata": {
        "id": "esFfwp2bRKl-"
      },
      "execution_count": null,
      "outputs": []
    },
    {
      "cell_type": "code",
      "source": [
        "from jax_md.colab_tools import renderer\n",
        "\n",
        "clrs = [[0.8, 0.8, 1.0], [0.4, 0.2, 1.0]]\n",
        "colors=jnp.array(clrs[0]*N_2 + clrs[1]*N_2).reshape(-1,3)\n",
        "renderer.render(\n",
        "    box_size,\n",
        "    {'particles': renderer.Disk(log['position'], diameter=diameters, color=colors)},\n",
        "    resolution=(512, 512)\n",
        ")"
      ],
      "metadata": {
        "id": "V6EczqD-eQLN"
      },
      "execution_count": null,
      "outputs": []
    },
    {
      "cell_type": "markdown",
      "source": [
        "### Stress and pressure"
      ],
      "metadata": {
        "id": "AjiSqOf1qFGx"
      }
    },
    {
      "cell_type": "markdown",
      "source": [
        "Calculate the stress tensor"
      ],
      "metadata": {
        "id": "s65BB3Qo0yWw"
      }
    },
    {
      "cell_type": "code",
      "source": [
        "quantity.stress(energy_fn,\n",
        "                state.position, \n",
        "                box_size, \n",
        "                velocity=state.velocity, \n",
        "                neighbor=nbrs)"
      ],
      "metadata": {
        "id": "Mi7W7IPXsQ-7"
      },
      "execution_count": null,
      "outputs": []
    },
    {
      "cell_type": "markdown",
      "source": [
        "Calculate the pressure"
      ],
      "metadata": {
        "id": "lVmOlsGZ00b0"
      }
    },
    {
      "cell_type": "code",
      "source": [
        "quantity.pressure(energy_fn, \n",
        "                  state.position, \n",
        "                  box_size, \n",
        "                  velocity=state.velocity, \n",
        "                  neighbor=nbrs)"
      ],
      "metadata": {
        "id": "h72SeyR9dDeA"
      },
      "execution_count": null,
      "outputs": []
    },
    {
      "cell_type": "markdown",
      "source": [
        "### Pair correlation function\n",
        "\n",
        "The pair correlation function (or radial distribution function) is defined by\n",
        "\n",
        "$$ g(r) = <\\sum_{i \\neq j}\\delta(r - |r_i - r_j|)>$$\n",
        "\n",
        "In practice, it is common to smooth out the $\\delta$ functions:\n",
        "\n",
        "$$\\delta(r) \\approx \\frac 1{\\sqrt{2\\pi\\sigma^2}} e^{-r / (2\\sigma^2)}$$"
      ],
      "metadata": {
        "id": "LualZGMmqHX4"
      }
    },
    {
      "cell_type": "code",
      "source": [
        "# Define where to calculate g(r)\n",
        "r = jnp.linspace(0.5, 6, 100)\n",
        "\n",
        "# Define a neighbor function and a function to calculate g(r)\n",
        "neighbor_fn2, gofr_fn = quantity.pair_correlation_neighbor_list(\n",
        "    displacement, \n",
        "    box_size, \n",
        "    radii = r, # where to measure g(r)\n",
        "    sigma = 0.1, # smoothing parameter\n",
        "    species = species,\n",
        "    compute_average = True)\n",
        "\n",
        "# Note: different neighbor function because we care about longer ranges"
      ],
      "metadata": {
        "id": "iVLyeC4qqSfH"
      },
      "execution_count": null,
      "outputs": []
    },
    {
      "cell_type": "code",
      "source": [
        "nbrs2 = neighbor_fn2.allocate(state.position)\n",
        "gofr = gofr_fn(state.position, neighbor=nbrs2)\n",
        "\n",
        "plt.plot(r, gofr[0][0], label = '$g_{AA}(r)$')\n",
        "plt.plot(r, gofr[0][1], label = '$g_{AB}(r)$')\n",
        "plt.plot(r, gofr[1][0], label = '$g_{BA}(r)$')\n",
        "plt.plot(r, gofr[1][1], label = '$g_{BB}(r)$')\n",
        "plt.legend(loc='center left', bbox_to_anchor=(1, 0.5))\n",
        "format_plot('$r$', '$g(r)$')\n",
        "finalize_plot()"
      ],
      "metadata": {
        "id": "Edi94my7qSfI"
      },
      "execution_count": null,
      "outputs": []
    },
    {
      "cell_type": "markdown",
      "source": [
        "## Minimize the energy of the final state"
      ],
      "metadata": {
        "id": "ZDcYiIhLQyE3"
      }
    },
    {
      "cell_type": "code",
      "source": [
        "R, max_grad, nbrs, niters = run_minimization_while_neighbor_list(\n",
        "    energy_fn, \n",
        "    neighbor_fn, \n",
        "    state.position, \n",
        "    shift, \n",
        "    verbose=True)\n",
        "\n",
        "renderer.render(\n",
        "    box_size,\n",
        "    {'particles': renderer.Disk(R, diameter=diameters, color=colors)},\n",
        "    resolution=(512, 512)\n",
        ")"
      ],
      "metadata": {
        "id": "hJXafa0CGXZk"
      },
      "execution_count": null,
      "outputs": []
    },
    {
      "cell_type": "markdown",
      "source": [
        "### Stress and pressure"
      ],
      "metadata": {
        "id": "VtzqC7GrrqXV"
      }
    },
    {
      "cell_type": "markdown",
      "source": [
        "Notice, we do not pass the velocity now!"
      ],
      "metadata": {
        "id": "vOu1kc8XWxxM"
      }
    },
    {
      "cell_type": "code",
      "source": [
        "quantity.stress(energy_fn, \n",
        "                R, \n",
        "                box_size, \n",
        "                neighbor=nbrs)"
      ],
      "metadata": {
        "id": "vLm-CjXcGvWT"
      },
      "execution_count": null,
      "outputs": []
    },
    {
      "cell_type": "code",
      "source": [
        "quantity.pressure(energy_fn, \n",
        "                  R, \n",
        "                  box_size, \n",
        "                  neighbor=nbrs)"
      ],
      "metadata": {
        "id": "te9UsDTwIbfE"
      },
      "execution_count": null,
      "outputs": []
    },
    {
      "cell_type": "markdown",
      "source": [
        "### Pair correlation function"
      ],
      "metadata": {
        "id": "dFUGvkY_r3qb"
      }
    },
    {
      "cell_type": "code",
      "source": [
        "nbrs2 = nbrs2.update(R)\n",
        "gofr = gofr_fn(R, neighbor=nbrs2)\n",
        "\n",
        "plt.plot(r, gofr[0][0], label = '$g_{AA}(r)$')\n",
        "plt.plot(r, gofr[0][1], label = '$g_{AB}(r)$')\n",
        "plt.plot(r, gofr[1][0], label = '$g_{BA}(r)$')\n",
        "plt.plot(r, gofr[1][1], label = '$g_{BB}(r)$')\n",
        "plt.legend(loc='center left', bbox_to_anchor=(1, 0.5))\n",
        "format_plot('$r$', '$g(r)$')\n",
        "finalize_plot()"
      ],
      "metadata": {
        "id": "_9ncfi0kr033"
      },
      "execution_count": null,
      "outputs": []
    },
    {
      "cell_type": "markdown",
      "source": [
        "### Deformations and linear elasticity"
      ],
      "metadata": {
        "id": "zTx39aVVsUpP"
      }
    },
    {
      "cell_type": "markdown",
      "source": [
        "For speed reasons, lets switch to a smaller system.\n",
        "\n",
        "We start by creating a $T=0$, mechanically stable system."
      ],
      "metadata": {
        "id": "4XYc8vQSHbrz"
      }
    },
    {
      "cell_type": "code",
      "source": [
        "N_small = 64\n",
        "dimension_small = 2\n",
        "\n",
        "box_size_small = quantity.box_size_at_number_density(N_small, 1.2, dimension_small)\n",
        "displacement_small, shift_small = space.periodic(box_size_small)\n",
        "\n",
        "species_small = jnp.where(jnp.arange(N_small) < N // 2, 0, 1)\n",
        "diameters_small = sigma.diagonal()[species_small]\n",
        "\n",
        "energy_fn_small = energy.soft_sphere_pair(displacement_small, species=species_small, sigma=sigma)\n",
        "\n",
        "R_init_small = random.uniform(key, (N_small,dimension_small), minval=0.0, maxval=box_size_small, dtype=f64)\n",
        "\n",
        "R_small, max_grad, niters = run_minimization_while(energy_fn_small, R_init_small, shift_small)\n",
        "print('Minimized the energy in {} minimization steps and reached a final \\\n",
        "maximum gradient of {}'.format(niters, max_grad))"
      ],
      "metadata": {
        "id": "euQdvgEIHfs5"
      },
      "execution_count": null,
      "outputs": []
    },
    {
      "cell_type": "markdown",
      "source": [
        "Global deformations are defined by a strain tensor $\\epsilon$, which transforms any vector $r$ according to\n",
        "\\begin{equation}\n",
        "r \\rightarrow (1 + \\epsilon) \\cdot r. \n",
        "\\end{equation}\n",
        "Such a deformation can induce forces on particles, causing them to relax into a new mechanically stable configuration with a different energy.\n",
        "\n",
        "Consider a shear deformation with magnitude $\\gamma$:\n",
        "$$ \n",
        "\\epsilon = \\gamma \\left( \\begin{matrix} 0&1\\\\1&0 \\end{matrix} \\right)\n",
        "$$\n",
        "\n",
        "First, let's calculate $\\Delta U (\\gamma) = U(\\gamma) - U_0$. \n"
      ],
      "metadata": {
        "id": "F3Rth-P9X2vw"
      }
    },
    {
      "cell_type": "code",
      "source": [
        "# Define a unit strain tensor for shear\n",
        "unit_strain_tensor = jnp.array([[0,1],[1,0]], dtype=jnp.float64)\n",
        "print(unit_strain_tensor)"
      ],
      "metadata": {
        "id": "-TBzVPRBSp0y"
      },
      "execution_count": null,
      "outputs": []
    },
    {
      "cell_type": "code",
      "source": [
        "# Define a function to calculate the energy at a given strain\n",
        "@jit\n",
        "def get_energy_at_strain(gamma):\n",
        "  R_frac_coords = space.transform(space.inverse(box_size_small), R_small)\n",
        "  new_box = jnp.matmul(jnp.eye(unit_strain_tensor.shape[0]) + gamma * unit_strain_tensor, box_size_small * jnp.eye(dimension_small))\n",
        "  displacement_temp, shift_temp = space.periodic_general(new_box, fractional_coordinates=True)\n",
        "  energy_fn_temp = energy.soft_sphere_pair(displacement_temp, species=species_small, sigma=sigma)\n",
        "  R_final_temp, _, _ = run_minimization_while(energy_fn_temp, R_frac_coords, shift_temp)\n",
        "  return energy_fn_temp(R_final_temp)"
      ],
      "metadata": {
        "id": "lIZjpYrNJBf5"
      },
      "execution_count": null,
      "outputs": []
    },
    {
      "cell_type": "code",
      "source": [
        "gammas = jnp.logspace(-7,-2,50)\n",
        "U = jnp.array([get_energy_at_strain(gamma) for gamma in gammas])\n",
        "print(U)"
      ],
      "metadata": {
        "id": "R-c5LlCJJ1yL"
      },
      "execution_count": null,
      "outputs": []
    },
    {
      "cell_type": "code",
      "source": [
        "U = vmap(get_energy_at_strain)(gammas)\n",
        "print(U)"
      ],
      "metadata": {
        "id": "Nh9arpF1Ks-o"
      },
      "execution_count": null,
      "outputs": []
    },
    {
      "cell_type": "markdown",
      "source": [
        "**Use `vmap` to run parameter sweeps simultaneously over a gpu!**"
      ],
      "metadata": {
        "id": "5e9KsrfYK-pa"
      }
    },
    {
      "cell_type": "code",
      "source": [
        "# Plot the change in energy as a functino of gamma\n",
        "U_0 = energy_fn_small(R_small)\n",
        "delta_U = U - U_0\n",
        "plt.plot(gammas,jnp.abs(delta_U))\n",
        "plt.xscale('log')\n",
        "plt.yscale('log')\n",
        "format_plot('$\\gamma$', '$\\Delta U$')\n",
        "finalize_plot()"
      ],
      "metadata": {
        "id": "uBQqXKlrLfHN"
      },
      "execution_count": null,
      "outputs": []
    },
    {
      "cell_type": "markdown",
      "source": [
        "This change in energy can be written to lowest order as\n",
        "\\begin{equation}\n",
        "\\frac{ \\Delta U}{V^0} = -\\sigma^0_{ij}\\epsilon_{ji} + O\\left( \\epsilon^2 \\right)\n",
        "\\end{equation}\n",
        "where $\\sigma^0_{ij}$ is the stress tensor we already calculated.\n",
        "\n",
        "\n",
        "\n"
      ],
      "metadata": {
        "id": "vGtauQg9L03A"
      }
    },
    {
      "cell_type": "code",
      "source": [
        "stress_0 = quantity.stress(energy_fn_small, R_small, box_size_small)\n",
        "V_0 = quantity.volume(dimension_small, box_size_small)\n",
        "\n",
        "y1 = delta_U / V_0\n",
        "y2 = - gammas * jnp.einsum('ij,ji->',stress_0,unit_strain_tensor)\n",
        "plt.plot(gammas, jnp.abs(y1), lw=3, label=r'$\\Delta U/V^0$')\n",
        "plt.plot(gammas, jnp.abs(y2), lw=3, ls='--', label=r'$-\\sigma^0 \\epsilon$')\n",
        "plt.xscale('log')\n",
        "plt.yscale('log')\n",
        "plt.legend()\n",
        "format_plot('$\\gamma$', '')\n",
        "finalize_plot()"
      ],
      "metadata": {
        "id": "Wbhgayd_L03A"
      },
      "execution_count": null,
      "outputs": []
    },
    {
      "cell_type": "markdown",
      "source": [
        "Clearly, the stress tensor is capturing the lowest order behavior correctly. However, these are not exactly the same:"
      ],
      "metadata": {
        "id": "NVpmBiQeMUY3"
      }
    },
    {
      "cell_type": "code",
      "source": [
        "plt.plot(gammas, y1-y2, lw=3, label=r'$\\Delta U/V^0 + \\sigma^0 \\epsilon$')\n",
        "plt.xscale('log')\n",
        "plt.yscale('log')\n",
        "plt.legend()\n",
        "plt.title('difference')\n",
        "format_plot('$\\gamma$', '')\n",
        "finalize_plot()"
      ],
      "metadata": {
        "id": "O7sFECbUMUY3"
      },
      "execution_count": null,
      "outputs": []
    },
    {
      "cell_type": "markdown",
      "source": [
        "The change in energy can be written to *quadratic* order as\n",
        "\\begin{equation}\n",
        "\\frac{ \\Delta U}{V^0} = -\\sigma^0_{ij}\\epsilon_{ji} + \\frac 12 C_{ijkl} \\epsilon_{ij} \\epsilon_{kl} + O\\left( \\epsilon^3 \\right)\n",
        "\\end{equation}\n",
        "where $C_{ijkl}$ is the $d × d × d × d$ elastic modulus tensor, which contains information like the bulk modulus, shear modulus, Youngs modulus, and Poisson's ratio. \n",
        "\n",
        "\n",
        "We can calculate $C_{ijkl}$ using linear response theory, which is built in to JAX-MD. "
      ],
      "metadata": {
        "id": "9qFnZNYXNTl5"
      }
    },
    {
      "cell_type": "code",
      "source": [
        "emt_fn = jit(elasticity.athermal_moduli(energy_fn_small, check_convergence=True))\n",
        "C, converged = emt_fn(R_small, box_size_small)\n",
        "if not converged:\n",
        "  print('WARNING: the internal solver did not converged. This could indicate \\\n",
        "  an error')"
      ],
      "metadata": {
        "id": "RvbbDQqANTl6"
      },
      "execution_count": null,
      "outputs": []
    },
    {
      "cell_type": "code",
      "source": [
        "# Plot \\Delta E/V - sigma*epsilon\n",
        "y1 = delta_U / V_0 + gammas * jnp.einsum('ij,ji->',stress_0,unit_strain_tensor)\n",
        "plt.plot(gammas, jnp.abs(y1), lw=3, label=r'$\\Delta U/V^0 + \\sigma^0 \\epsilon$')\n",
        "\n",
        "# Plot 0.5 * epsilon*C*epsilon\n",
        "y2 = 0.5 * jnp.einsum('ij,ijkl,kl->',unit_strain_tensor, C, unit_strain_tensor) * gammas**2\n",
        "plt.plot(gammas, jnp.abs(y2), ls='--', lw=3, label=r'$(1/2) \\epsilon C \\epsilon$')\n",
        "\n",
        "plt.xscale('log')\n",
        "plt.yscale('log')\n",
        "plt.legend()\n",
        "format_plot('$\\gamma$','')\n",
        "finalize_plot()"
      ],
      "metadata": {
        "id": "WpnbzON6NTl6"
      },
      "execution_count": null,
      "outputs": []
    },
    {
      "cell_type": "code",
      "metadata": {
        "id": "yI5ZheTeNiAA"
      },
      "source": [
        "# Plot the difference, which should scales as gamma**3\n",
        "plt.plot(gammas, jnp.abs(y1-y2))\n",
        "\n",
        "# Plot gamma**3 for reference\n",
        "plt.plot(gammas, 0.1*jnp.abs(gammas**3), 'black', label=r'slope = $\\gamma^3$ (for reference)')\n",
        "\n",
        "plt.xscale('log')\n",
        "plt.yscale('log')\n",
        "plt.legend()\n",
        "plt.title('difference')\n",
        "format_plot('$\\gamma$','')\n",
        "finalize_plot()"
      ],
      "execution_count": null,
      "outputs": []
    },
    {
      "cell_type": "markdown",
      "source": [
        "If we assume the system to be isotropic, we can extract the bulk modulus, shear modulus, etc."
      ],
      "metadata": {
        "id": "sFNBdyaPydPB"
      }
    },
    {
      "cell_type": "code",
      "source": [
        "elasticity.extract_isotropic_moduli(C)"
      ],
      "metadata": {
        "id": "h3RgH9ELyQde"
      },
      "execution_count": null,
      "outputs": []
    },
    {
      "cell_type": "markdown",
      "source": [
        "## Custom Measurements"
      ],
      "metadata": {
        "id": "hjZb3h1Hy2zK"
      }
    },
    {
      "cell_type": "markdown",
      "source": [
        "### Normal modes of vibration"
      ],
      "metadata": {
        "id": "QpHc3wpC98lV"
      }
    },
    {
      "cell_type": "markdown",
      "source": [
        "Small vibrations about a local energy minimum can be calculated as a system of coupled harmonic oscillators, with the solution\n",
        "\n",
        "\\begin{equation}\n",
        "a_m(t) = a_m(0) e^{i \\sqrt{\\lambda_m} t}\n",
        "\\end{equation}\n",
        "\n",
        "where $a_m(t)$ is the projection of the perturbation at time $t$ onto the $m$-th eigenvector of the \"dynamical matrix\" \n",
        "\n",
        "\\begin{equation}\n",
        "D_{ij}^{\\alpha\\beta} = \\frac{1}{M_i M_j} \\frac{d^2 U}{d r_i^\\alpha d r_j^\\beta},\n",
        "\\end{equation}\n",
        "$\\lambda_m$ is the corresponding eigenvalue, and $M_i$ the mass of particle $i$. \n",
        "\n",
        "Therefore, we can calculate the density of vibrational modes by diagonalizing $D$."
      ],
      "metadata": {
        "id": "vLVpoy2IzA6q"
      }
    },
    {
      "cell_type": "code",
      "source": [
        "H = hessian(energy_fn)(R, neighbor=nbrs)\n",
        "D = hessian2dynamicalmatrix(H, masses, species, reshape=True)\n",
        "evals, evecs = jnp.linalg.eigh(D)"
      ],
      "metadata": {
        "id": "eJriCDMnyQtC"
      },
      "execution_count": null,
      "outputs": []
    },
    {
      "cell_type": "code",
      "source": [
        "frequencies = jnp.sqrt(evals)\n",
        "plt.hist(frequencies, 20, log=False, density=True)\n",
        "format_plot('$\\omega = \\sqrt{\\lambda}$','$P(\\omega)$')\n",
        "finalize_plot()"
      ],
      "metadata": {
        "id": "bpsoB5yM0HNk"
      },
      "execution_count": null,
      "outputs": []
    },
    {
      "cell_type": "markdown",
      "source": [
        "### Bond-orientational order parameters"
      ],
      "metadata": {
        "id": "FphkuduY-ALD"
      }
    },
    {
      "cell_type": "markdown",
      "source": [
        "The most common 2-dimensional bond-orientational order parameter is $\\psi_6$:\n",
        "\\begin{equation}\n",
        "\\psi_6(i) = \\frac 1{N_\\mathrm{neighbors}} \\sum_{j \\in \\mathrm{neighbors}} e^{i6\\theta_{ij}}\n",
        "\\end{equation}\n",
        "\n",
        "This complex number tells you the magnitude of (6-fold) order around particle $i$ and the orientation of that order. "
      ],
      "metadata": {
        "id": "duiB7hbyU20X"
      }
    },
    {
      "cell_type": "markdown",
      "source": [
        "We can rewrite this to not depend on knowledge of neighbors:\n",
        "\\begin{equation}\n",
        "\\psi_6(i) = \\frac {\\sum_{j \\neq i} e^{i6\\theta_{ij}} \\; \\Theta(r_\\mathrm{threshold} - |r_{ij}|)}{\\sum_{j \\neq i} \\Theta(r_\\mathrm{threshold} - |r_{ij}|)} \n",
        "\\end{equation}\n",
        "\n",
        "First, lets write a function that calculates $e^{i6\\theta_{ij}} \\; \\Theta(r_\\mathrm{threshold} - |r_{ij}|) $ given $|r_{ij}|$ and $\\theta_{ij}$."
      ],
      "metadata": {
        "id": "JMBSC1onWrta"
      }
    },
    {
      "cell_type": "code",
      "source": [
        "def psil_full_fn(dR, l=6, neighbor_threshold=1):\n",
        "  \"\"\" Calculate the term in the sum\n",
        "\n",
        "  Args:\n",
        "    dR: array of shape (...,2) giving the vector displacement between\n",
        "      particle pairs\n",
        "    l:  integer giving the symmetry of the order parameter (usually 6)\n",
        "    neighbor_threshold: cutoff for determining neighbors\n",
        "\n",
        "  Return: complex array of shape (...) giving the order parameter for the \n",
        "    particle pair\n",
        "  \"\"\"\n",
        "  return jnp.where(\n",
        "      jnp.linalg.norm(dR, axis=-1) < neighbor_threshold, \n",
        "      jnp.exp(1j * l * jnp.apply_along_axis(lambda a: jnp.arctan2(a[1], a[0]), \n",
        "                                            axis=-1, \n",
        "                                            arr=dR)),\n",
        "      0)"
      ],
      "metadata": {
        "id": "w9BFPBTWYi8F"
      },
      "execution_count": null,
      "outputs": []
    },
    {
      "cell_type": "code",
      "source": [
        "# 1. Calculate dR matrix\n",
        "dR = space.map_product(displacement)(R,R)\n",
        "\n",
        "# 2. Set a neighbor threshold matrix from the diameters\n",
        "sigma_full = (jnp.vstack(diameters) + diameters)/2\n",
        "\n",
        "# 3. Calculate psi6 for particle pairs\n",
        "psi6_full = psil_full_fn(dR, l=6, neighbor_threshold=sigma_full)"
      ],
      "metadata": {
        "id": "c2sg69cEYpwT"
      },
      "execution_count": null,
      "outputs": []
    },
    {
      "cell_type": "code",
      "source": [
        "psi6_full"
      ],
      "metadata": {
        "id": "j3qKaPJuk7ap"
      },
      "execution_count": null,
      "outputs": []
    },
    {
      "cell_type": "code",
      "source": [
        "# NOTE: diagonal elements are 1 (not right)!\n",
        "psi6_full.diagonal()"
      ],
      "metadata": {
        "id": "pYQatAxqbc1P"
      },
      "execution_count": null,
      "outputs": []
    },
    {
      "cell_type": "code",
      "source": [
        "# 4. Mask the diagonal elements\n",
        "psi6_full = smap._diagonal_mask(psi6_full)\n",
        "psi6_full.diagonal()"
      ],
      "metadata": {
        "id": "4g0mPN_mblqX"
      },
      "execution_count": null,
      "outputs": []
    },
    {
      "cell_type": "code",
      "source": [
        "# 5. Sum over every particle\n",
        "psi6 = jnp.sum(psi6_full, axis=1)\n",
        "\n",
        "# 6. Calculate number of neighbors for each particle\n",
        "n_neighbors = jnp.sum(jnp.abs(psi6_full) > 1e-6, axis=1)\n",
        "\n",
        "# 7. Divide\n",
        "psi6 = psi6 / n_neighbors\n",
        "\n",
        "psi6_version1 = psi6 #save for later comparison"
      ],
      "metadata": {
        "id": "q_DHqIyOb5-B"
      },
      "execution_count": null,
      "outputs": []
    },
    {
      "cell_type": "code",
      "source": [
        "def visualize_psi6(R, box_size, diameter, psi6, style):\n",
        "  if style == 'magnitude':\n",
        "    cm = plt.get_cmap('Greens') \n",
        "    cNorm  = matplotlib.colors.Normalize(vmin=0, vmax=1)\n",
        "    data = jnp.abs(psi6)\n",
        "  elif style == 'angle':\n",
        "    cm = plt.get_cmap('hsv') \n",
        "    cNorm  = matplotlib.colors.Normalize(vmin=-jnp.pi, vmax=jnp.pi)\n",
        "    data = jnp.angle(psi6)\n",
        "  else:\n",
        "    assert False\n",
        "\n",
        "  scalarMap = matplotlib.cm.ScalarMappable(norm=cNorm, cmap=cm)\n",
        "  colors = scalarMap.to_rgba(data)\n",
        "  renderer.render(\n",
        "      box_size,\n",
        "      {'particles': renderer.Disk(R, diameter=diameter, color=colors[:,:3])},\n",
        "      resolution=(512, 512)\n",
        "  ) "
      ],
      "metadata": {
        "id": "XFN6xp5AILOl"
      },
      "execution_count": null,
      "outputs": []
    },
    {
      "cell_type": "code",
      "source": [
        "visualize_psi6(R, box_size, diameters, psi6, 'angle')"
      ],
      "metadata": {
        "id": "6aN8dywaIM1z"
      },
      "execution_count": null,
      "outputs": []
    },
    {
      "cell_type": "code",
      "source": [
        "visualize_psi6(R, box_size, diameters, psi6, 'magnitude')"
      ],
      "metadata": {
        "id": "PZC7b9s-IlCN"
      },
      "execution_count": null,
      "outputs": []
    },
    {
      "cell_type": "markdown",
      "source": [
        "Redo for a polycrystal"
      ],
      "metadata": {
        "id": "IBJZfiwkGBwZ"
      }
    },
    {
      "cell_type": "code",
      "source": [
        "#@title Run code to create and analyze polycrystal\n",
        "def get_polycrystal(N = 1000):\n",
        "  dimension = 2\n",
        "  key = random.PRNGKey(0)\n",
        "\n",
        "  box_size = quantity.box_size_at_number_density(N, 1.15, 2)\n",
        "  displacement, shift = space.periodic(box_size) \n",
        "\n",
        "  key, split = random.split(key)\n",
        "  R_init = box_size * random.uniform(split, (N, dimension), dtype=jnp.float64)\n",
        "\n",
        "  # The system ought to be a 50:50 mixture of two types of particles, one\n",
        "  # large and one small.\n",
        "  sigma = 1 #jnp.array([[1.0, 1.0], [1.01, 1.4]])\n",
        "  diameters = jnp.full((N,), sigma)\n",
        "\n",
        "  #energy_fn = energy.soft_sphere_pair(displacement, species=species, sigma=sigma)\n",
        "  neighbor_fn, energy_fn = energy.soft_sphere_neighbor_list(\n",
        "      displacement,\n",
        "      box_size,\n",
        "      sigma,\n",
        "      dr_threshold=0.2,\n",
        "      format=partition.Sparse)\n",
        "\n",
        "  neighbor_fn = partition.neighbor_list(\n",
        "    displacement,\n",
        "    box_size,\n",
        "    sigma,\n",
        "    dr_threshold=0.4,\n",
        "    capacity_multiplier = 2.2,\n",
        "    format=partition.Sparse)\n",
        "\n",
        "  nbrs_init = neighbor_fn.allocate(R_init)\n",
        "\n",
        "  R, max_grad, nbrs, niters = run_minimization_while_neighbor_list(energy_fn, neighbor_fn, R_init, shift, verbose=True)\n",
        "\n",
        "  def theta_function(dr, threshold):\n",
        "    return jnp.where(dr < threshold, 1, 0)\n",
        "\n",
        "  contact_nbr_list = smap.pair_neighbor_list(theta_function, \n",
        "                                            space.canonicalize_displacement_or_metric(displacement), \n",
        "                                            reduce_axis=(1,), \n",
        "                                            threshold=sigma,\n",
        "                                            )\n",
        "  \n",
        "  contact_nbr_list = jit(contact_nbr_list)\n",
        "\n",
        "  n_neighbors = jnp.array(2*\n",
        "                          contact_nbr_list(R, neighbor=nbrs)\n",
        "                          , dtype=jnp.int16)\n",
        "  \n",
        "  psil_fn = smap.pair_neighbor_list(psil_full_fn, \n",
        "                                    displacement, \n",
        "                                    reduce_axis=(1,), \n",
        "                                    l=6,\n",
        "                                    neighbor_threshold=sigma)\n",
        "\n",
        "  psil_fn = jit(psil_fn)\n",
        "\n",
        "  psi6 = 2 * psil_fn(R, neighbor=nbrs) / n_neighbors\n",
        "\n",
        "  return R, box_size, psi6\n",
        "\n",
        "R_poly, box_size_poly, psi6_poly = get_polycrystal(N = 10000)"
      ],
      "metadata": {
        "cellView": "form",
        "id": "HT_3IlpMGHOX"
      },
      "execution_count": null,
      "outputs": []
    },
    {
      "cell_type": "code",
      "source": [
        "visualize_psi6(R_poly, box_size_poly, 1, psi6_poly, 'angle')"
      ],
      "metadata": {
        "id": "KGIXxTRDHVpw"
      },
      "execution_count": null,
      "outputs": []
    },
    {
      "cell_type": "code",
      "source": [
        "visualize_psi6(R_poly, box_size_poly, 1, psi6_poly, 'magnitude')"
      ],
      "metadata": {
        "id": "4zSmzmExI04u"
      },
      "execution_count": null,
      "outputs": []
    },
    {
      "cell_type": "markdown",
      "source": [],
      "metadata": {
        "id": "eIB--DEWmU3D"
      }
    },
    {
      "cell_type": "markdown",
      "source": [
        "### There is a better way!"
      ],
      "metadata": {
        "id": "ouUXTeLrdDAT"
      }
    },
    {
      "cell_type": "markdown",
      "source": [
        "`smap.pair` and `smap.pair_neighbor_list` give a powerful interface for summing functions over neighbors. Let $F$ be a function that takes $r_{ij}$, which is either the distance between two particles or the vector displacement between two particles, and an optional set of parameters $\\{p_{ij}\\}$ that can depend on the particles. Common use cases are 1) to sum over all pairs of neighbors, i.e. \n",
        "\n",
        "\\begin{equation}f = w \\sum_i \\sum_{j \\; nn.\\; i} F(r_{ij}, \\{p_{ij}\\}) \\end{equation}\n",
        "\n",
        "with the weight $w=1/2$ to compensate for double-counting the $ij$ and $ji$ terms (which are often equal), and 2) for a given particle $i$, to sum over all of its neighbors, i.e. \n",
        "\\begin{equation}f_i = w_i \\sum_{j \\; nn.\\; i} F(r_{ij}, \\{p_{ij}\\}). \\end{equation}\n",
        "\n",
        "The notation $j \\; nn. \\; i$ means all particles $j$ that are neighbors of $i$. The definition of neighbors is assumed to be incorporated into the definition of $F$, except that neighbor lists require a maximum threshold for determining neighbors. \n",
        "\n",
        "\n",
        "**species**\n",
        "\n",
        "**neighbor lists**\n",
        "\n",
        "**masking diagonal elements**\n",
        "*   maybe have the option of turning off `_diagonal_mask`\n",
        "\n",
        "**summing**\n",
        "*   `reduce_axis`\n",
        "*   `keepdims`\n",
        "*   the use of `high_precision_sum` (it would be nice if it cast to the highest precision but kept ints or complex numbers as ints/complexs. \n",
        "\n",
        "**normalizations**\n",
        "*   right now, sums are all divided by 2 to compensate for calculating both the $ij$ and the $ji$ terms. This is the right default behavior, but it would be nice if it could be adjusted manually. This would be useful for many per-particle quantities like order parameters, contact information, etc."
      ],
      "metadata": {
        "id": "Z4Z7rAoHryGi"
      }
    },
    {
      "cell_type": "markdown",
      "source": [
        "First, calculate the number of neighbors\n",
        "\n",
        "\\begin{equation}\n",
        "N_\\mathrm{neighbors}(i) = \\sum_{j\\neq i} \\Theta(r_\\mathrm{threshold} - |r_{ij}|)\n",
        "\\end{equation}"
      ],
      "metadata": {
        "id": "ZO7t1YHJdamk"
      }
    },
    {
      "cell_type": "code",
      "source": [
        "def theta_function(dr, threshold):\n",
        "  return jnp.where(dr < threshold, 1, 0)\n",
        "\n",
        "contact_pair = smap.pair(theta_function, \n",
        "                         space.canonicalize_displacement_or_metric(displacement), \n",
        "                         reduce_axis=(1,), \n",
        "                         species=2)\n",
        "\n",
        "n_neighbors = jnp.array(2*\n",
        "                        contact_pair(R, species=species, threshold=sigma)\n",
        "                        , dtype=jnp.int16)\n",
        "\n",
        "print(n_neighbors[:20])"
      ],
      "metadata": {
        "id": "4j8yQqvVlfaV"
      },
      "execution_count": null,
      "outputs": []
    },
    {
      "cell_type": "markdown",
      "source": [
        "Now calculate $\\psi_6(i)$"
      ],
      "metadata": {
        "id": "7M90qaBQyBGu"
      }
    },
    {
      "cell_type": "code",
      "source": [
        "psil_fn = smap.pair(psil_full_fn, \n",
        "                    displacement, \n",
        "                    reduce_axis=(1,), \n",
        "                    species=2)\n",
        "\n",
        "psi6 = psil_fn(R, species=species, l=6, neighbor_threshold=sigma)\n",
        "psi6 = 2 * psi6 / n_neighbors"
      ],
      "metadata": {
        "id": "ZikLtOMkfVUW"
      },
      "execution_count": null,
      "outputs": []
    },
    {
      "cell_type": "code",
      "source": [
        "print(jnp.allclose(psi6_version1, psi6))"
      ],
      "metadata": {
        "id": "gF4SH09qgfmr"
      },
      "execution_count": null,
      "outputs": []
    },
    {
      "cell_type": "markdown",
      "source": [
        "Redo using neighbor lists"
      ],
      "metadata": {
        "id": "682GgDTNg88B"
      }
    },
    {
      "cell_type": "code",
      "source": [
        "contact_nbr_list = smap.pair_neighbor_list(theta_function, \n",
        "                                           space.canonicalize_displacement_or_metric(displacement), \n",
        "                                           reduce_axis=(1,), \n",
        "                                           species=species,\n",
        "                                           threshold=sigma,\n",
        "                                           )\n",
        "\n",
        "n_neighbors = jnp.array(2*\n",
        "                        contact_nbr_list(R, neighbor=nbrs)\n",
        "                        , dtype=jnp.int16)\n",
        "\n",
        "print(n_neighbors[:20])"
      ],
      "metadata": {
        "id": "r4ZtlPkPg8k_"
      },
      "execution_count": null,
      "outputs": []
    },
    {
      "cell_type": "code",
      "source": [
        "psil_fn = smap.pair_neighbor_list(psil_full_fn, \n",
        "                                  displacement, \n",
        "                                  reduce_axis=(1,), \n",
        "                                  species=species,\n",
        "                                  l=6,\n",
        "                                  neighbor_threshold=sigma)\n",
        "\n",
        "psil_fn = jit(psil_fn)\n",
        "\n",
        "psi6 = 2 * psil_fn(R, neighbor=nbrs) / n_neighbors"
      ],
      "metadata": {
        "id": "DnIRFwnUkhhX"
      },
      "execution_count": null,
      "outputs": []
    },
    {
      "cell_type": "code",
      "source": [
        "print(jnp.allclose(psi6_version1, psi6))"
      ],
      "metadata": {
        "id": "v3rEKv0jySqN"
      },
      "execution_count": null,
      "outputs": []
    },
    {
      "cell_type": "code",
      "source": [],
      "metadata": {
        "id": "FR1ljVVkm6bP"
      },
      "execution_count": null,
      "outputs": []
    }
  ]
}
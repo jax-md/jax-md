{
  "nbformat": 4,
  "nbformat_minor": 0,
  "metadata": {
    "colab": {
      "name": "Talk Demo.ipynb",
      "private_outputs": true,
      "provenance": [],
      "collapsed_sections": [],
      "include_colab_link": true
    },
    "kernelspec": {
      "name": "python3",
      "display_name": "Python 3"
    },
    "accelerator": "GPU"
  },
  "cells": [
    {
      "cell_type": "markdown",
      "metadata": {
        "id": "view-in-github",
        "colab_type": "text"
      },
      "source": [
        "<a href=\"https://colab.research.google.com/github/google/jax-md/blob/main/notebooks/talk_demo.ipynb\" target=\"_parent\"><img src=\"https://colab.research.google.com/assets/colab-badge.svg\" alt=\"Open In Colab\"/></a>"
      ]
    },
    {
      "cell_type": "code",
      "metadata": {
        "id": "odlcm3Jmuglm",
        "cellView": "form"
      },
      "source": [
        "#@title Import & Util\n",
        "\n",
        "!pip install git+https://github.com/google/jax-md.git\n",
        "!pip install dm-haiku\n",
        "!pip install optax\n",
        "\n",
        "import jax.numpy as np\n",
        "from jax import device_put\n",
        "from jax.config import config\n",
        "# TODO: Uncomment this and enable warnings when XLA bug is fixed.\n",
        "import warnings; warnings.simplefilter('ignore')\n",
        "config.update('jax_enable_x64', True)\n",
        "from IPython.display import set_matplotlib_formats\n",
        "set_matplotlib_formats('pdf', 'svg')\n",
        "import matplotlib.pyplot as plt\n",
        "import seaborn as sns\n",
        "import pickle\n",
        "\n",
        "import warnings\n",
        "warnings.simplefilter(\"ignore\")\n",
        "\n",
        "sns.set_style(style='white')\n",
        "background_color = [56 / 256] * 3\n",
        "def plot(x, y, *args):\n",
        "  plt.plot(x, y, *args, linewidth=3)\n",
        "  plt.gca().set_facecolor([1, 1, 1])\n",
        "def draw(R, **kwargs):\n",
        "  if 'c' not in kwargs:\n",
        "    kwargs['color'] = [1, 1, 0.9]\n",
        "  ax = plt.axes(xlim=(0, float(np.max(R[:, 0]))), \n",
        "                ylim=(0, float(np.max(R[:, 1]))))\n",
        "  ax.get_xaxis().set_visible(False)\n",
        "  ax.get_yaxis().set_visible(False)\n",
        "  ax.set_facecolor(background_color)\n",
        "  plt.scatter(R[:, 0], R[:, 1],  marker='o', s=1024, **kwargs)\n",
        "  plt.gcf().patch.set_facecolor(background_color)\n",
        "  plt.gcf().set_size_inches(6, 6)\n",
        "  plt.tight_layout()\n",
        "def draw_big(R, **kwargs):\n",
        "  if 'c' not in kwargs:\n",
        "    kwargs['color'] = [1, 1, 0.9]\n",
        "  fig = plt.figure(dpi=128)\n",
        "  ax = plt.axes(xlim=(0, float(np.max(R[:, 0]))),\n",
        "                ylim=(0, float(np.max(R[:, 1]))))\n",
        "  ax.get_xaxis().set_visible(False)\n",
        "  ax.get_yaxis().set_visible(False)\n",
        "  ax.set_facecolor(background_color)\n",
        "  s = plt.scatter(R[:, 0], R[:, 1], marker='o', s=0.5, **kwargs)\n",
        "  s.set_rasterized(True)\n",
        "  plt.gcf().patch.set_facecolor(background_color)\n",
        "  plt.gcf().set_size_inches(10, 10)\n",
        "  plt.tight_layout()\n",
        "def draw_displacement(R, dR):\n",
        "  plt.quiver(R[:, 0], R[:, 1], dR[:, 0], dR[:, 1], color=[1, 0.5, 0.5])\n",
        "\n",
        "# Progress Bars\n",
        "\n",
        "from IPython.display import HTML, display\n",
        "import time\n",
        "\n",
        "def ProgressIter(iter_fun, iter_len=0):\n",
        "  if not iter_len:\n",
        "    iter_len = len(iter_fun)\n",
        "  out = display(progress(0, iter_len), display_id=True)\n",
        "  for i, it in enumerate(iter_fun):\n",
        "    yield it\n",
        "    out.update(progress(i + 1, iter_len))\n",
        "\n",
        "def progress(value, max):\n",
        "    return HTML(\"\"\"\n",
        "        <progress\n",
        "            value='{value}'\n",
        "            max='{max}',\n",
        "            style='width: 45%'\n",
        "        >\n",
        "            {value}\n",
        "        </progress>\n",
        "    \"\"\".format(value=value, max=max))\n",
        "\n",
        "# Data Loading\n",
        "\n",
        "!wget -O silica_train.npz https://www.dropbox.com/s/3dojk4u4di774ve/silica_train.npz?dl=0\n",
        "!wget https://raw.githubusercontent.com/google/jax-md/main/examples/models/si_gnn.pickle\n",
        "\n",
        "import numpy as onp\n",
        "\n",
        "with open('silica_train.npz', 'rb') as f:\n",
        "  files = onp.load(f)\n",
        "  Rs, Es, Fs = [device_put(x) for x in (files['arr_0'], files['arr_1'], files['arr_2'])]\n",
        "  Rs = Rs[:10]\n",
        "  Es = Es[:10]\n",
        "  Fs = Fs[:10]\n",
        "  test_Rs, test_Es, test_Fs = [device_put(x) for x in (files['arr_3'], files['arr_4'], files['arr_5'])]\n",
        "  test_Rs = test_Rs[:200]\n",
        "  test_Es = test_Es[:200]\n",
        "  test_Fs = test_Fs[:200]\n",
        "\n",
        "def tile(box_size, positions, tiles):\n",
        "  pos = positions\n",
        "  for dx in range(tiles):\n",
        "    for dy in range(tiles):\n",
        "      for dz in range(tiles):\n",
        "        if dx == 0 and dy == 0 and dz == 0:\n",
        "          continue\n",
        "        pos = np.concatenate((pos, positions + box_size * np.array([[dx, dy, dz]])))\n",
        "  box_size = box_size * tiles\n",
        "  pos /= box_size\n",
        "  return box_size, pos"
      ],
      "execution_count": null,
      "outputs": []
    },
    {
      "cell_type": "markdown",
      "metadata": {
        "id": "NutOCjdwpneq"
      },
      "source": [
        "## Demo\n",
        "\n",
        "www.github.com/google/jax-md -> notebooks -> talk_demo.ipynb"
      ]
    },
    {
      "cell_type": "markdown",
      "metadata": {
        "id": "9_FfC_k1DMfB"
      },
      "source": [
        "### Energy and Automatic Differentiation"
      ]
    },
    {
      "cell_type": "markdown",
      "metadata": {
        "id": "ISh1a8bK33QZ"
      },
      "source": [
        "$u(r) = \\begin{cases}\\frac13(1 - r)^3 & \\text{if $r < 1$} \\\\ 0 & \\text{otherwise} \\end{cases}$"
      ]
    },
    {
      "cell_type": "code",
      "metadata": {
        "id": "uQs4C7ggBxBM"
      },
      "source": [
        "import jax.numpy as np\n",
        "\n",
        "def soft_sphere(r):\n",
        "  return np.where(r < 1, \n",
        "                  1/3 * (1 - r) ** 3,\n",
        "                  0.)\n",
        "\n",
        "print(soft_sphere(0.5))"
      ],
      "execution_count": null,
      "outputs": []
    },
    {
      "cell_type": "code",
      "metadata": {
        "id": "gfEim-vuuXKd"
      },
      "source": [
        "r = np.linspace(0, 2., 200)\n",
        "plot(r, soft_sphere(r))"
      ],
      "execution_count": null,
      "outputs": []
    },
    {
      "cell_type": "markdown",
      "metadata": {
        "id": "Eqt0U4tArwlE"
      },
      "source": [
        "We can compute its derivative automatically"
      ]
    },
    {
      "cell_type": "code",
      "metadata": {
        "id": "QrOivTPpCJV7"
      },
      "source": [
        "from jax import grad\n",
        "\n",
        "du_dr = grad(soft_sphere)\n",
        "\n",
        "print(du_dr(0.5))"
      ],
      "execution_count": null,
      "outputs": []
    },
    {
      "cell_type": "markdown",
      "metadata": {
        "id": "ws8igUYu20tK"
      },
      "source": [
        "We can vectorize the derivative computation over many radii"
      ]
    },
    {
      "cell_type": "code",
      "metadata": {
        "id": "C3sx2gTb23s7"
      },
      "source": [
        "from jax import vmap\n",
        "\n",
        "du_dr_v = vmap(du_dr)\n",
        "\n",
        "plot(r, soft_sphere(r))\n",
        "plot(r, -du_dr_v(r))"
      ],
      "execution_count": null,
      "outputs": []
    },
    {
      "cell_type": "markdown",
      "metadata": {
        "id": "b6uiqzqS04EN"
      },
      "source": [
        "### Randomly Initialize a System"
      ]
    },
    {
      "cell_type": "code",
      "metadata": {
        "id": "EmDIRcGvBaN6"
      },
      "source": [
        "from jax import random\n",
        "\n",
        "key = random.PRNGKey(0)\n",
        "\n",
        "particle_count = 128\n",
        "dim = 2"
      ],
      "execution_count": null,
      "outputs": []
    },
    {
      "cell_type": "code",
      "metadata": {
        "id": "BXOafNfpppzn"
      },
      "source": [
        "from jax_md.quantity import box_size_at_number_density\n",
        "\n",
        "# number_density = N / V\n",
        "box_size = box_size_at_number_density(particle_count = particle_count, \n",
        "                                      number_density = 1.2, \n",
        "                                      spatial_dimension = dim)\n",
        "\n",
        "R = random.uniform(key, (particle_count, dim), maxval=box_size)"
      ],
      "execution_count": null,
      "outputs": []
    },
    {
      "cell_type": "code",
      "source": [
        "from jax_md.colab_tools import renderer\n",
        "renderer.render(box_size, renderer.Disk(R), resolution=(512, 512))"
      ],
      "metadata": {
        "id": "JkLOwosltvhi"
      },
      "execution_count": null,
      "outputs": []
    },
    {
      "cell_type": "markdown",
      "metadata": {
        "id": "APxYUxxo7Dzg"
      },
      "source": [
        "### Displacements and Distances\n"
      ]
    },
    {
      "cell_type": "code",
      "metadata": {
        "id": "p9fNv_PXCWg3"
      },
      "source": [
        "from jax_md import space\n",
        "\n",
        "displacement, shift = space.periodic(box_size)\n",
        "\n",
        "print(displacement(R[0], R[1]))"
      ],
      "execution_count": null,
      "outputs": []
    },
    {
      "cell_type": "code",
      "metadata": {
        "id": "ObwSolXq7R6D"
      },
      "source": [
        "metric = space.metric(displacement)\n",
        "\n",
        "print(metric(R[0], R[1]))"
      ],
      "execution_count": null,
      "outputs": []
    },
    {
      "cell_type": "markdown",
      "metadata": {
        "id": "0bmwFmj57HdI"
      },
      "source": [
        "Compute distances between pairs of points"
      ]
    },
    {
      "cell_type": "code",
      "metadata": {
        "id": "EX--_0MoDV1m"
      },
      "source": [
        "displacement = space.map_product(displacement)\n",
        "metric = space.map_product(metric)\n",
        "\n",
        "print(metric(R[:3], R[:3]))"
      ],
      "execution_count": null,
      "outputs": []
    },
    {
      "cell_type": "markdown",
      "metadata": {
        "id": "MXxXuAja7W3-"
      },
      "source": [
        "### Total energy of a system"
      ]
    },
    {
      "cell_type": "code",
      "metadata": {
        "id": "Tl6HLZwfEWcz"
      },
      "source": [
        "def energy(R):\n",
        "  dr = metric(R, R)\n",
        "  return 0.5 * np.sum(soft_sphere(dr))"
      ],
      "execution_count": null,
      "outputs": []
    },
    {
      "cell_type": "code",
      "metadata": {
        "id": "wZrWkqQkEs35"
      },
      "source": [
        "print(energy(R))"
      ],
      "execution_count": null,
      "outputs": []
    },
    {
      "cell_type": "code",
      "metadata": {
        "id": "Hp41YZCmEtb6"
      },
      "source": [
        "print(grad(energy)(R).shape)"
      ],
      "execution_count": null,
      "outputs": []
    },
    {
      "cell_type": "markdown",
      "metadata": {
        "id": "5mVlh-lr5FY0"
      },
      "source": [
        "### Minimization"
      ]
    },
    {
      "cell_type": "code",
      "metadata": {
        "id": "vs96hWLR5RxV"
      },
      "source": [
        "from jax_md.minimize import fire_descent\n",
        "\n",
        "init_fn, apply_fn = fire_descent(energy, shift)"
      ],
      "execution_count": null,
      "outputs": []
    },
    {
      "cell_type": "code",
      "metadata": {
        "id": "vZvnzELrV9aR"
      },
      "source": [
        "state = init_fn(R)\n",
        "\n",
        "trajectory = []\n",
        "\n",
        "while np.max(np.abs(state.force)) > 1e-4:\n",
        "  state = apply_fn(state)\n",
        "  trajectory += [state.position]"
      ],
      "execution_count": null,
      "outputs": []
    },
    {
      "cell_type": "code",
      "metadata": {
        "id": "3yEp3cZ0WtMU"
      },
      "source": [
        "trajectory = np.stack(trajectory)\n",
        "\n",
        "renderer.render(box_size,\n",
        "                renderer.Disk(trajectory),\n",
        "                resolution=(512, 512))"
      ],
      "execution_count": null,
      "outputs": []
    },
    {
      "cell_type": "code",
      "metadata": {
        "id": "c1V8ds1fe7oa"
      },
      "source": [
        "cond_fn = lambda state: np.max(np.abs(state.force)) > 1e-4"
      ],
      "execution_count": null,
      "outputs": []
    },
    {
      "cell_type": "markdown",
      "metadata": {
        "id": "rAqamj4fse3W"
      },
      "source": [
        "### Making it Fast"
      ]
    },
    {
      "cell_type": "code",
      "metadata": {
        "id": "9IJL_maT6qUM"
      },
      "source": [
        "def minimize(R):\n",
        "  init, apply = fire_descent(energy, shift)\n",
        "\n",
        "  state = init(R)\n",
        "\n",
        "  for _ in range(20):\n",
        "    state = apply(state)\n",
        "\n",
        "  return energy(state.position)"
      ],
      "execution_count": null,
      "outputs": []
    },
    {
      "cell_type": "code",
      "metadata": {
        "id": "6ohMuvT38XcP"
      },
      "source": [
        "%%timeit\n",
        "minimize(R).block_until_ready()"
      ],
      "execution_count": null,
      "outputs": []
    },
    {
      "cell_type": "code",
      "metadata": {
        "id": "ZNMxdujG81-6"
      },
      "source": [
        "from jax import jit\n",
        "\n",
        "# Just-In-Time compile to GPU\n",
        "minimize = jit(minimize)"
      ],
      "execution_count": null,
      "outputs": []
    },
    {
      "cell_type": "code",
      "metadata": {
        "id": "gDGx3UAE9CIn"
      },
      "source": [
        "# The first call incurs a compilation cost\n",
        "minimize(R)"
      ],
      "execution_count": null,
      "outputs": []
    },
    {
      "cell_type": "code",
      "metadata": {
        "id": "zOr9jtW48w-s"
      },
      "source": [
        "%%timeit\n",
        "minimize(R).block_until_ready()"
      ],
      "execution_count": null,
      "outputs": []
    },
    {
      "cell_type": "code",
      "metadata": {
        "id": "ZFBLKVTDZN_z"
      },
      "source": [
        "from jax.lax import while_loop\n",
        "\n",
        "def minimize(R):\n",
        "  init_fn, apply_fn = fire_descent(energy, shift)\n",
        "\n",
        "  state = init_fn(R)\n",
        "  # Using a JAX loop reduces compilation cost\n",
        "  state = while_loop(cond_fun=cond_fn,\n",
        "                     body_fun=apply_fn,\n",
        "                     init_val=state)\n",
        "\n",
        "  return state.position"
      ],
      "execution_count": null,
      "outputs": []
    },
    {
      "cell_type": "code",
      "metadata": {
        "id": "9Jesy9PRZc62"
      },
      "source": [
        "from jax import jit\n",
        "\n",
        "minimize = jit(minimize)"
      ],
      "execution_count": null,
      "outputs": []
    },
    {
      "cell_type": "code",
      "metadata": {
        "id": "FkfvXICRZd3Z"
      },
      "source": [
        "R_is = minimize(R)"
      ],
      "execution_count": null,
      "outputs": []
    },
    {
      "cell_type": "code",
      "metadata": {
        "id": "1yHZHshlZeVw"
      },
      "source": [
        "%%timeit\n",
        "minimize(R).block_until_ready()"
      ],
      "execution_count": null,
      "outputs": []
    },
    {
      "cell_type": "markdown",
      "metadata": {
        "id": "6DUSO3go4b41"
      },
      "source": [
        "### Physical Properties"
      ]
    },
    {
      "cell_type": "code",
      "source": [
        "displacement, shift = space.periodic(box_size)"
      ],
      "metadata": {
        "id": "ykfoPeZwvqPo"
      },
      "execution_count": null,
      "outputs": []
    },
    {
      "cell_type": "code",
      "source": [
        "from jax_md import energy\n",
        "\n",
        "soft_sphere = energy.soft_sphere_pair(displacement, alpha=3)"
      ],
      "metadata": {
        "id": "MIVsp1Cxucbp"
      },
      "execution_count": null,
      "outputs": []
    },
    {
      "cell_type": "code",
      "source": [
        "from jax_md import quantity\n",
        "\n",
        "quantity.pressure(soft_sphere, R_is, box_size)"
      ],
      "metadata": {
        "id": "89ltzx3_uQFZ"
      },
      "execution_count": null,
      "outputs": []
    },
    {
      "cell_type": "code",
      "source": [
        "quantity.stress(soft_sphere, R_is, box_size)"
      ],
      "metadata": {
        "id": "6UlpM9gJunmU"
      },
      "execution_count": null,
      "outputs": []
    },
    {
      "cell_type": "code",
      "source": [
        "from jax_md import elasticity\n",
        "moduli_fn = elasticity.athermal_moduli(soft_sphere, tether_strength=1e-4)"
      ],
      "metadata": {
        "id": "pRwgY6owvy5j"
      },
      "execution_count": null,
      "outputs": []
    },
    {
      "cell_type": "code",
      "source": [
        "elastic_constants = moduli_fn(R_is, box_size)"
      ],
      "metadata": {
        "id": "qqPxgR4nv93H"
      },
      "execution_count": null,
      "outputs": []
    },
    {
      "cell_type": "code",
      "source": [
        "quantity.bulk_modulus(elastic_constants)"
      ],
      "metadata": {
        "id": "momwSewewSrO"
      },
      "execution_count": null,
      "outputs": []
    },
    {
      "cell_type": "code",
      "metadata": {
        "id": "1Ae0oeOdp-FV"
      },
      "source": [
        "from functools import partial\n",
        "\n",
        "@jit\n",
        "def elastic_moduli(number_density, key):\n",
        "  # Randomly initialize particles.\n",
        "  box_size = box_size_at_number_density(particle_count    = particle_count, \n",
        "                                        number_density    = number_density, \n",
        "                                        spatial_dimension = dim)\n",
        "  R = random.uniform(key, (particle_count, dim), maxval=box_size)\n",
        "\n",
        "  # Create the space and energy function.\n",
        "  displacement, shift = space.periodic_general(box_size, \n",
        "                                               fractional_coordinates=False)\n",
        "  soft_sphere = energy.soft_sphere_pair(displacement, alpha=3)\n",
        "\n",
        "  # Minimize at no strain.\n",
        "  init_fn, apply_fn = fire_descent(soft_sphere, shift)\n",
        "\n",
        "  state = init_fn(R)\n",
        "  state = while_loop(cond_fn, apply_fn, state)\n",
        "\n",
        "  # Compute the bulk modulus.\n",
        "  elastic_constants = moduli_fn(state.position, box_size)\n",
        "  return quantity.bulk_modulus(elastic_constants)"
      ],
      "execution_count": null,
      "outputs": []
    },
    {
      "cell_type": "code",
      "metadata": {
        "id": "-0zODBrXq-jd"
      },
      "source": [
        "number_densities = np.linspace(1.25, 1.6, 20)\n",
        "\n",
        "elastic_moduli = vmap(elastic_moduli, in_axes=(0, None))\n",
        "B = elastic_moduli(number_densities, key)\n",
        "\n",
        "plot(number_densities, B)"
      ],
      "execution_count": null,
      "outputs": []
    },
    {
      "cell_type": "code",
      "metadata": {
        "id": "XZUNCbosLlf3"
      },
      "source": [
        "keys = random.split(key, 10)\n",
        "\n",
        "elastic_moduli = vmap(elastic_moduli, in_axes=(None, 0))\n",
        "B_ensemble = elastic_moduli(number_densities, keys)\n",
        "\n",
        "for B in B_ensemble:\n",
        "  plt.plot(number_densities, B)\n",
        "\n",
        "plot(number_densities, np.mean(B_ensemble, axis=0), 'k')"
      ],
      "execution_count": null,
      "outputs": []
    },
    {
      "cell_type": "markdown",
      "metadata": {
        "id": "EeeS0GBb06US"
      },
      "source": [
        "### Going Big"
      ]
    },
    {
      "cell_type": "code",
      "metadata": {
        "id": "0mqD5mjY08ZC"
      },
      "source": [
        "key = random.PRNGKey(0)\n",
        "\n",
        "particle_count = 128000\n",
        "box_size = box_size_at_number_density(particle_count    = particle_count, \n",
        "                                      number_density    = 1.0, \n",
        "                                      spatial_dimension = dim)\n",
        "\n",
        "\n",
        "R = random.uniform(key, (particle_count, dim)) * box_size\n",
        "\n",
        "displacement, shift = space.periodic(box_size)\n",
        "\n",
        "renderer.render(box_size,\n",
        "                renderer.Disk(R),\n",
        "                resolution=(512, 512))"
      ],
      "execution_count": null,
      "outputs": []
    },
    {
      "cell_type": "code",
      "metadata": {
        "id": "7glVkdK31ZqG"
      },
      "source": [
        "from jax_md.energy import soft_sphere_neighbor_list\n",
        "\n",
        "neighbor_fn, energy_fn = soft_sphere_neighbor_list(displacement, box_size)\n",
        "\n",
        "init_fn, apply_fn = fire_descent(energy_fn, shift)"
      ],
      "execution_count": null,
      "outputs": []
    },
    {
      "cell_type": "code",
      "metadata": {
        "id": "HLpaev18txCG"
      },
      "source": [
        "nbrs = neighbor_fn.allocate(R)\n",
        "print(nbrs.idx.shape)"
      ],
      "execution_count": null,
      "outputs": []
    },
    {
      "cell_type": "code",
      "metadata": {
        "id": "G8cjvj0X2VLG"
      },
      "source": [
        "state = init_fn(R, neighbor=nbrs)\n",
        "\n",
        "def cond_fn(state_and_nbrs):\n",
        "  state, _ = state_and_nbrs\n",
        "  return np.any(np.abs(state.force) > 1e-4)\n",
        "\n",
        "def step_fn(state_and_nbrs):\n",
        "  state, nbrs = state_and_nbrs\n",
        "  nbrs = nbrs.update(state.position)\n",
        "  state = apply_fn(state, neighbor=nbrs)\n",
        "  return state, nbrs\n",
        "\n",
        "state, nbrs = while_loop(cond_fn,\n",
        "                         step_fn,\n",
        "                         (state, nbrs))\n",
        "\n",
        "renderer.render(box_size,\n",
        "                renderer.Disk(state.position),\n",
        "                resolution=(700, 700))"
      ],
      "execution_count": null,
      "outputs": []
    },
    {
      "cell_type": "code",
      "source": [
        "nbrs.did_buffer_overflow"
      ],
      "metadata": {
        "id": "9lW2Xog9Xjof"
      },
      "execution_count": null,
      "outputs": []
    },
    {
      "cell_type": "code",
      "metadata": {
        "id": "Rbd7daL6LM72"
      },
      "source": [
        "nbrs = neighbor_fn.allocate(state.position)"
      ],
      "execution_count": null,
      "outputs": []
    },
    {
      "cell_type": "code",
      "metadata": {
        "id": "TF5cZhXWLVdd"
      },
      "source": [
        "nbrs.idx.shape"
      ],
      "execution_count": null,
      "outputs": []
    },
    {
      "cell_type": "markdown",
      "metadata": {
        "id": "89DHZ6cMu3zd"
      },
      "source": [
        "## Neural Network Potentials"
      ]
    },
    {
      "cell_type": "markdown",
      "metadata": {
        "id": "x6rF6EEJc3P1"
      },
      "source": [
        "Here is some data we loaded of a 64-atom Silicon system computed using DFT."
      ]
    },
    {
      "cell_type": "code",
      "metadata": {
        "id": "B9Ylk3d3c26h"
      },
      "source": [
        "print(Rs.shape)  # Positions\n",
        "print(Es.shape)  # Energies\n",
        "print(Fs.shape)  # Forces"
      ],
      "execution_count": null,
      "outputs": []
    },
    {
      "cell_type": "code",
      "metadata": {
        "id": "H27hVVxO3foZ"
      },
      "source": [
        "E_mean = np.mean(Es)\n",
        "E_std = np.std(Es)\n",
        "\n",
        "print(f'E_mean = {E_mean}, E_std = {E_std}')"
      ],
      "execution_count": null,
      "outputs": []
    },
    {
      "cell_type": "code",
      "metadata": {
        "id": "PEP6AHHExork"
      },
      "source": [
        "plt.hist(Es)"
      ],
      "execution_count": null,
      "outputs": []
    },
    {
      "cell_type": "markdown",
      "metadata": {
        "id": "XJOnNJ0Sxx-F"
      },
      "source": [
        "Setup the system and a Graph Neural Network energy function"
      ]
    },
    {
      "cell_type": "code",
      "metadata": {
        "id": "naOzXLguq7Ya"
      },
      "source": [
        "box_size = 10.862\n",
        "displacement, shift = space.periodic(box_size)"
      ],
      "execution_count": null,
      "outputs": []
    },
    {
      "cell_type": "code",
      "metadata": {
        "id": "thfUg3VjcNxY"
      },
      "source": [
        "init_fn, energy_fn = energy.graph_network(displacement, r_cutoff=3.0)"
      ],
      "execution_count": null,
      "outputs": []
    },
    {
      "cell_type": "code",
      "metadata": {
        "id": "NCmw_Ub_cOyG"
      },
      "source": [
        "params = init_fn(key, test_Rs[0])\n",
        "energy_fn(params, test_Rs[0])"
      ],
      "execution_count": null,
      "outputs": []
    },
    {
      "cell_type": "code",
      "metadata": {
        "id": "mWUmCjMbQAW4"
      },
      "source": [
        "vectorized_energy_fn = vmap(energy_fn, (None, 0))\n",
        "predicted_Es = vectorized_energy_fn(params, test_Rs)\n",
        "plt.plot(test_Es, predicted_Es, 'o')"
      ],
      "execution_count": null,
      "outputs": []
    },
    {
      "cell_type": "markdown",
      "metadata": {
        "id": "EyzwxFL8TmBc"
      },
      "source": [
        "Define a loss function."
      ]
    },
    {
      "cell_type": "code",
      "metadata": {
        "id": "4cBZ84l9RM-7"
      },
      "source": [
        "def energy_loss_fn(params):\n",
        "  return np.mean((vectorized_energy_fn(params, Rs) - Es) ** 2)\n",
        "\n",
        "def force_loss_fn(params):\n",
        "  # We want the gradient with respect to the position, not the parameters.\n",
        "  grad_fn = vmap(grad(energy_fn, argnums=1), (None, 0))\n",
        "  return np.mean((grad_fn(params, Rs) + Fs) ** 2)\n",
        "\n",
        "@jit\n",
        "def loss_fn(params):\n",
        "  return energy_loss_fn(params) + force_loss_fn(params)"
      ],
      "execution_count": null,
      "outputs": []
    },
    {
      "cell_type": "markdown",
      "metadata": {
        "id": "bHg6mrzRToCe"
      },
      "source": [
        "Take a few steps of gradient descent."
      ]
    },
    {
      "cell_type": "code",
      "metadata": {
        "id": "SlV0KD1xS8Cc"
      },
      "source": [
        "import optax\n",
        "\n",
        "opt = optax.chain(optax.clip_by_global_norm(0.01),\n",
        "                  optax.adam(1e-4))\n",
        "\n",
        "opt_state = opt.init(params)\n",
        "\n",
        "@jit\n",
        "def update(params, opt_state):\n",
        "  updates, opt_state = opt.update(grad(loss_fn)(params), opt_state)\n",
        "  return optax.apply_updates(params, updates), opt_state\n",
        "\n",
        "for i in ProgressIter(range(100)):\n",
        "  params, opt_state = update(params, opt_state)\n",
        "  if i % 10 == 0:\n",
        "    print(f'Loss at step {i} is {loss_fn(params)}')"
      ],
      "execution_count": null,
      "outputs": []
    },
    {
      "cell_type": "code",
      "metadata": {
        "id": "QqV_qAiz7d00"
      },
      "source": [
        "predicted_Es = vectorized_energy_fn(params, test_Rs)\n",
        "plt.plot(test_Es, predicted_Es, 'o')"
      ],
      "execution_count": null,
      "outputs": []
    },
    {
      "cell_type": "markdown",
      "metadata": {
        "id": "x6P-2dEaXUMN"
      },
      "source": [
        "Now load a pretrained model."
      ]
    },
    {
      "cell_type": "code",
      "metadata": {
        "id": "jw0NgwusP_Cn"
      },
      "source": [
        "with open('si_gnn.pickle', 'rb') as f:\n",
        "  params = pickle.load(f)"
      ],
      "execution_count": null,
      "outputs": []
    },
    {
      "cell_type": "code",
      "metadata": {
        "id": "tHsB8LYTYCvl"
      },
      "source": [
        "from functools import partial\n",
        "energy_fn = partial(energy_fn, params)"
      ],
      "execution_count": null,
      "outputs": []
    },
    {
      "cell_type": "code",
      "metadata": {
        "id": "iviFjfXjXiGb"
      },
      "source": [
        "predicted_Es = vmap(energy_fn)(test_Rs)\n",
        "plt.plot(test_Es, predicted_Es, 'o')"
      ],
      "execution_count": null,
      "outputs": []
    },
    {
      "cell_type": "code",
      "metadata": {
        "id": "6FVkIOSI3p0N"
      },
      "source": [
        "from jax_md.quantity import force\n",
        "\n",
        "force_fn = force(energy_fn)\n",
        "predicted_Fs = force_fn(test_Rs[1])\n",
        "\n",
        "plt.plot(test_Fs[1].reshape((-1,)), predicted_Fs.reshape((-1,)), 'o')"
      ],
      "execution_count": null,
      "outputs": []
    },
    {
      "cell_type": "markdown",
      "metadata": {
        "id": "qnsJn7AljvRY"
      },
      "source": [
        "This energy can be used in a simulation"
      ]
    },
    {
      "cell_type": "code",
      "metadata": {
        "id": "SnT7hj_w4CmB"
      },
      "source": [
        "from jax_md.simulate import nvt_nose_hoover\n",
        "from jax_md.quantity import temperature\n",
        "\n",
        "K_B = 8.617e-5\n",
        "dt = 1e-3\n",
        "kT = K_B * 300 \n",
        "Si_mass = 2.91086E-3\n",
        "\n",
        "init_fn, apply_fn = nvt_nose_hoover(energy_fn, shift, dt, kT)\n",
        "\n",
        "apply_fn = jit(apply_fn)"
      ],
      "execution_count": null,
      "outputs": []
    },
    {
      "cell_type": "code",
      "metadata": {
        "id": "Z3nbOc6ikkNq"
      },
      "source": [
        "from jax.lax import fori_loop\n",
        "\n",
        "state = init_fn(key, Rs[0], Si_mass, T_initial=300 * K_B)\n",
        "\n",
        "@jit\n",
        "def take_steps(state):\n",
        "  return fori_loop(0, 100, lambda i, state: apply_fn(state), state)\n",
        "\n",
        "times = np.arange(100) * dt\n",
        "temperatures = []\n",
        "trajectory = []\n",
        "\n",
        "for _ in ProgressIter(times):\n",
        "  state = take_steps(state)\n",
        "\n",
        "  temperatures += [temperature(state.velocity, Si_mass) / K_B]\n",
        "  trajectory += [state.position]"
      ],
      "execution_count": null,
      "outputs": []
    },
    {
      "cell_type": "code",
      "metadata": {
        "id": "n8eMPGjW7mh_"
      },
      "source": [
        "plot(times, temperatures)"
      ],
      "execution_count": null,
      "outputs": []
    },
    {
      "cell_type": "code",
      "metadata": {
        "id": "Z7y9Cpvk-js9"
      },
      "source": [
        "trajectory = np.stack(trajectory)\n",
        "\n",
        "renderer.render(box_size,\n",
        "                renderer.Sphere(trajectory),\n",
        "                resolution=(512,512))"
      ],
      "execution_count": null,
      "outputs": []
    },
    {
      "cell_type": "markdown",
      "source": [
        "Or, we can use neighbor lists to simulate a larger system."
      ],
      "metadata": {
        "id": "owDHXtQtliNL"
      }
    },
    {
      "cell_type": "code",
      "source": [
        "box_size, R = tile(box_size, Rs[0], 4)"
      ],
      "metadata": {
        "id": "mn9nRRpJBswr"
      },
      "execution_count": null,
      "outputs": []
    },
    {
      "cell_type": "code",
      "source": [
        "len(R)"
      ],
      "metadata": {
        "id": "ml80oR4vsz89"
      },
      "execution_count": null,
      "outputs": []
    },
    {
      "cell_type": "code",
      "source": [
        "from jax_md.space import periodic_general\n",
        "from jax_md.energy import graph_network_neighbor_list\n",
        "\n",
        "displacement, shift = space.periodic_general(box_size)\n",
        "\n",
        "neighbor_fn, _, energy_fn = graph_network_neighbor_list(displacement, \n",
        "                                                        box_size,\n",
        "                                                        r_cutoff=3.0,\n",
        "                                                        dr_threshold=0.5,\n",
        "                                                        fractional_coordinates=True)\n",
        "energy_fn = partial(energy_fn, params)"
      ],
      "metadata": {
        "id": "_vUJRz8dBiyB"
      },
      "execution_count": null,
      "outputs": []
    },
    {
      "cell_type": "code",
      "source": [
        "nbrs = neighbor_fn.allocate(R)\n",
        "nbrs.idx.shape"
      ],
      "metadata": {
        "id": "KdGWrisyGUb2"
      },
      "execution_count": null,
      "outputs": []
    },
    {
      "cell_type": "markdown",
      "metadata": {
        "id": "PsWMP8TklgBQ"
      },
      "source": [
        "This time we'll run an NPT simulation."
      ]
    },
    {
      "cell_type": "code",
      "metadata": {
        "id": "tTG3TQlblgBQ"
      },
      "source": [
        "from jax_md.simulate import npt_nose_hoover\n",
        "\n",
        "K_B = 8.617e-5\n",
        "dt = 1e-3\n",
        "P_start = 0.0  \n",
        "P_end = 0.05\n",
        "kT = K_B * 300\n",
        "Si_mass = 2.81086E-3\n",
        "\n",
        "init_fn, step_fn = npt_nose_hoover(energy_fn, shift, dt, P_start, kT)"
      ],
      "execution_count": null,
      "outputs": []
    },
    {
      "cell_type": "code",
      "source": [
        "inner_steps = 20\n",
        "\n",
        "@jit\n",
        "def take_steps(state, nbrs, pressure):\n",
        "  def sim_fn(i, state_nbrs):\n",
        "    state, nbrs = state_nbrs\n",
        "    state = step_fn(state, pressure=pressure, neighbor=nbrs)\n",
        "    nbrs = nbrs.update(state.position, box=state.box)\n",
        "    return state, nbrs  \n",
        "  return fori_loop(0, inner_steps, sim_fn, (state, nbrs))"
      ],
      "metadata": {
        "id": "Hxk_MCSHeiaB"
      },
      "execution_count": null,
      "outputs": []
    },
    {
      "cell_type": "code",
      "source": [
        "@jit\n",
        "def compute_diagnostics(state, nbrs):\n",
        "  temperature = quantity.temperature(momentum=state.momentum, mass=Si_mass) / K_B\n",
        "  kinetic_energy = quantity.kinetic_energy(momentum=state.momentum, mass=Si_mass)\n",
        "  pressure = quantity.pressure(energy_fn, state.position, state.box, kinetic_energy, neighbor=nbrs)\n",
        "  position = space.transform(state.box, state.position)\n",
        "  return temperature, pressure, position"
      ],
      "metadata": {
        "id": "CdiPe_Qbe28M"
      },
      "execution_count": null,
      "outputs": []
    },
    {
      "cell_type": "code",
      "metadata": {
        "id": "1CiitBytlgBR"
      },
      "source": [
        "total_steps = 2000\n",
        "times = np.arange(0, total_steps, inner_steps) * dt\n",
        "temperatures = []\n",
        "pressures = []\n",
        "trajectory = []\n",
        "\n",
        "state = init_fn(key, R, box_size, Si_mass, neighbor=nbrs)\n",
        "\n",
        "for t in ProgressIter(times):\n",
        "  P_target = P_start if t < times[-1] / 2 else P_end\n",
        "  state, nbrs = take_steps(state, nbrs, P_target)\n",
        "  temperature, pressure, position = compute_diagnostics(state, nbrs)\n",
        "\n",
        "  temperatures += [temperature]\n",
        "  pressures += [pressure]\n",
        "  trajectory += [position]"
      ],
      "execution_count": null,
      "outputs": []
    },
    {
      "cell_type": "code",
      "source": [
        "nbrs.did_buffer_overflow"
      ],
      "metadata": {
        "id": "RUq0R4MpPuCj"
      },
      "execution_count": null,
      "outputs": []
    },
    {
      "cell_type": "code",
      "source": [
        "plot(times, pressures)"
      ],
      "metadata": {
        "id": "RMUc4ZZTPrTu"
      },
      "execution_count": null,
      "outputs": []
    },
    {
      "cell_type": "code",
      "metadata": {
        "id": "ERFl5i2AlgBR"
      },
      "source": [
        "plot(times, temperatures)"
      ],
      "execution_count": null,
      "outputs": []
    },
    {
      "cell_type": "code",
      "metadata": {
        "id": "ut8YLN1zFnsF"
      },
      "source": [
        "from jax_md import partition\n",
        "trajectory = np.stack(trajectory)\n",
        "\n",
        "blue = [0.2, 0.2, 1.0]\n",
        "red = [1.0, 0.2, 0.2]\n",
        "\n",
        "renderer.render(box_size,\n",
        "                {\n",
        "                    'atoms': renderer.Sphere(trajectory, color=blue),\n",
        "                    'bonds': renderer.Bond('atoms', nbrs, color=red)\n",
        "                },\n",
        "                resolution=(512,512))"
      ],
      "execution_count": null,
      "outputs": []
    },
    {
      "cell_type": "code",
      "source": [
        ""
      ],
      "metadata": {
        "id": "rk2RbxizNVYa"
      },
      "execution_count": null,
      "outputs": []
    }
  ]
}

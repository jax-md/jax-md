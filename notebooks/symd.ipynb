{
  "nbformat": 4,
  "nbformat_minor": 0,
  "metadata": {
    "colab": {
      "name": "Sy(JAX)MD.ipynb",
      "provenance": [],
      "collapsed_sections": [],
      "authorship_tag": "ABX9TyPknG/4sMWT/p0RaIY7gcE8",
      "include_colab_link": true
    },
    "kernelspec": {
      "name": "python3",
      "display_name": "Python 3"
    },
    "language_info": {
      "name": "python"
    },
    "accelerator": "GPU"
  },
  "cells": [
    {
      "cell_type": "markdown",
      "metadata": {
        "id": "view-in-github",
        "colab_type": "text"
      },
      "source": [
        "<a href=\"https://colab.research.google.com/github/google/jax-md/blob/main/notebooks/symd.ipynb\" target=\"_parent\"><img src=\"https://colab.research.google.com/assets/colab-badge.svg\" alt=\"Open In Colab\"/></a>"
      ]
    },
    {
      "cell_type": "markdown",
      "source": [
        "# Sy(JAX)MD"
      ],
      "metadata": {
        "id": "igonLcvydEEB"
      }
    },
    {
      "cell_type": "code",
      "execution_count": 166,
      "metadata": {
        "id": "thQTdlL_QCkQ"
      },
      "outputs": [],
      "source": [
        "%%capture\n",
        "\n",
        "!pip install jax-md\n",
        "!pip install symd"
      ]
    },
    {
      "cell_type": "code",
      "source": [
        "from symd import symd, groups \n",
        "\n",
        "import jax.numpy as jnp\n",
        "from jax import random\n",
        "from jax import config; config.update('jax_enable_x64', True)"
      ],
      "metadata": {
        "id": "ZwC8FV13SgCG"
      },
      "execution_count": null,
      "outputs": []
    },
    {
      "cell_type": "markdown",
      "source": [
        "## Setup a symmetric system using SyMD"
      ],
      "metadata": {
        "id": "suQdpb3AP3aL"
      }
    },
    {
      "cell_type": "markdown",
      "source": [
        "Setup some simulation parameters, initialize the spatial group, and the constraint function."
      ],
      "metadata": {
        "id": "tav6kFQyQbx5"
      }
    },
    {
      "cell_type": "code",
      "source": [
        "group = 11\n",
        "N = 1000\n",
        "dim = 2\n",
        "\n",
        "\n",
        "group = groups.load_group(group, dim)\n",
        "in_unit = symd.asymm_constraints(group.asymm_unit)"
      ],
      "metadata": {
        "id": "w05XoBP0QcRY"
      },
      "execution_count": null,
      "outputs": []
    },
    {
      "cell_type": "markdown",
      "source": [
        "Randomly initialize positions and velocities."
      ],
      "metadata": {
        "id": "8aqLrPMOQm71"
      }
    },
    {
      "cell_type": "code",
      "source": [
        "\n",
        "key = random.PRNGKey(0)\n",
        "key, pos_key, vel_key = random.split(key, 3)\n",
        "pos_key, vel_key = random.split(random.PRNGKey(0))\n",
        "positions = random.uniform(pos_key, (N, dim))\n",
        "positions = positions[jnp.array([in_unit(*p) for p in positions])]\n",
        "N = positions.shape[0]\n",
        "\n",
        "velocities = random.normal(vel_key, (N, dim))"
      ],
      "metadata": {
        "id": "WGTVvE_2Et-i"
      },
      "execution_count": null,
      "outputs": []
    },
    {
      "cell_type": "markdown",
      "source": [
        "Transform the positions and velocities using homogeneous coordinates to get all of the images."
      ],
      "metadata": {
        "id": "BaVqbH7AQouf"
      }
    },
    {
      "cell_type": "code",
      "source": [
        "homo_positions = jnp.concatenate((positions, jnp.ones((N, 1))), axis=-1)\n",
        "homo_velocities = jnp.concatenate((velocities, jnp.zeros((N, 1))), axis=-1)\n",
        "positions = []\n",
        "velocities = []\n",
        "colors = []\n",
        "\n",
        "for s in group.genpos:\n",
        "  g = symd.str2mat(s)\n",
        "  xp = homo_positions @ g\n",
        "  xp = jnp.fmod(xp, 1.0)\n",
        "  positions += [xp[:, :2]]\n",
        "  xv = homo_velocities @ g\n",
        "  velocities += [xv[:, :2]]\n",
        "  key, split = random.split(key)\n",
        "  colors += [random.uniform(split, (1, 3)) * jnp.ones((N, 1))]\n",
        "\n",
        "positions = jnp.concatenate(positions, axis=0) + 0.5\n",
        "velocities = jnp.concatenate(velocities, axis=0)\n",
        "colors = jnp.concatenate(colors, axis=0)"
      ],
      "metadata": {
        "id": "R1_0PIt1FlNv"
      },
      "execution_count": null,
      "outputs": []
    },
    {
      "cell_type": "markdown",
      "source": [
        "Transform the positions from fractional coordinates to real space (not necessary)."
      ],
      "metadata": {
        "id": "R4tEJIIrQxq2"
      }
    },
    {
      "cell_type": "code",
      "source": [
        "from jax_md import quantity\n",
        "box = quantity.box_size_at_number_density(len(positions), 0.1, 2)\n",
        "positions = positions * box"
      ],
      "metadata": {
        "id": "H7_SSOwxQQVM"
      },
      "execution_count": null,
      "outputs": []
    },
    {
      "cell_type": "markdown",
      "source": [
        "### Visualize the initial system using JAX MD"
      ],
      "metadata": {
        "id": "0mwpJKsAP8HY"
      }
    },
    {
      "cell_type": "code",
      "source": [
        "from jax_md import space\n",
        "from jax_md.colab_tools import renderer\n",
        "\n",
        "renderer.render(box, \n",
        "                renderer.Disk(positions, color=colors),\n",
        "                resolution=(512, 512),\n",
        "                background_color=[1, 1, 1])"
      ],
      "metadata": {
        "id": "S3xSNfEWF_cs"
      },
      "execution_count": null,
      "outputs": []
    },
    {
      "cell_type": "markdown",
      "source": [
        "## Simulate the system using JAX MD"
      ],
      "metadata": {
        "id": "bVInaDXWQB3X"
      }
    },
    {
      "cell_type": "markdown",
      "source": [
        "First setup the space and a Lennard-Jones potential."
      ],
      "metadata": {
        "id": "eiYwqm-cQE5G"
      }
    },
    {
      "cell_type": "code",
      "source": [
        "from jax import jit\n",
        "from jax_md import space\n",
        "from jax_md import energy\n",
        "from jax_md import simulate   \n",
        "from jax_md import minimize   \n",
        "from jax_md import dataclasses"
      ],
      "metadata": {
        "id": "YeWNL7UfUMTt"
      },
      "execution_count": null,
      "outputs": []
    },
    {
      "cell_type": "code",
      "source": [
        "displacement, shift = space.periodic(box)\n",
        "neighbor_fn, energy_fn = energy.lennard_jones_neighbor_list(displacement, box)"
      ],
      "metadata": {
        "id": "Pm0IGqACc-tN"
      },
      "execution_count": null,
      "outputs": []
    },
    {
      "cell_type": "markdown",
      "source": [
        "Perform a few steps of minimization so that the Lennard-Jones particles don't become unstable.\n"
      ],
      "metadata": {
        "id": "RgVtBT0rRDZQ"
      }
    },
    {
      "cell_type": "code",
      "source": [
        "init_fn, step_fn = minimize.fire_descent(energy_fn, shift, dt_start=1e-7, dt_max=4e-7)\n",
        "step_fn = jit(step_fn)"
      ],
      "metadata": {
        "id": "8DP60JJKM6Xz"
      },
      "execution_count": null,
      "outputs": []
    },
    {
      "cell_type": "code",
      "source": [
        "@jit\n",
        "def sim_fn(state, nbrs):\n",
        "  state = step_fn(state, neighbor=nbrs)\n",
        "  nbrs = nbrs.update(state.position)\n",
        "  return state, nbrs"
      ],
      "metadata": {
        "id": "uZqjfNFTRQPZ"
      },
      "execution_count": null,
      "outputs": []
    },
    {
      "cell_type": "code",
      "source": [
        "# Setup the neighbor list (we have to allocate extra capacity so it doesn't\n",
        "# overflow during the simulation).\n",
        "nbrs = neighbor_fn.allocate(positions, extra_capacity=6)\n",
        "\n",
        "# Initialize the minimizer.\n",
        "state = init_fn(positions, neighbor=nbrs)\n",
        "\n",
        "# Run 100 steps of minimization.\n",
        "for i in range(100):\n",
        "  state, nbrs = sim_fn(state, nbrs)\n",
        "print(f'Did neighborlist overflow: {nbrs.did_buffer_overflow}')"
      ],
      "metadata": {
        "id": "VpAIgJLENCOZ"
      },
      "execution_count": null,
      "outputs": []
    },
    {
      "cell_type": "markdown",
      "source": [
        "Now do a simulation at constant temperature. First initialize the simulation environment."
      ],
      "metadata": {
        "id": "k-a3qkLfTahI"
      }
    },
    {
      "cell_type": "code",
      "source": [
        "init_fn, step_fn = simulate.nvt_nose_hoover(energy_fn, shift, dt=1e-3, kT=0.8)\n",
        "step_fn = jit(step_fn)"
      ],
      "metadata": {
        "id": "ST5wyWyNJ1bh"
      },
      "execution_count": null,
      "outputs": []
    },
    {
      "cell_type": "markdown",
      "source": [
        "Define a helper function to re-fold the particles after each step."
      ],
      "metadata": {
        "id": "vITCcyydcEsx"
      }
    },
    {
      "cell_type": "code",
      "source": [
        "def fold_particles(group, box, n):\n",
        "  def fold_fn(state):\n",
        "    R, V = state.position, state.velocity\n",
        "    R = R / box - 0.5\n",
        "    R_homo = jnp.concatenate((R[:n], jnp.ones((n, 1))), axis=-1)\n",
        "    V_homo = jnp.concatenate((V[:n], jnp.zeros((n, 1))), axis=-1)\n",
        "    for i, s in enumerate(group.genpos):\n",
        "      g = symd.str2mat(s)\n",
        "      R = R.at[i * n:(i + 1) * n].set(jnp.fmod(R_homo @ g, 1.0)[:, :2])\n",
        "      V = V.at[i * n:(i + 1) * n].set((V_homo @g)[:, :2])\n",
        "    R = box * (R + 0.5)\n",
        "    return dataclasses.replace(state, position=R, velocity=V)\n",
        "  return fold_fn"
      ],
      "metadata": {
        "id": "k_fvGOF_cHc6"
      },
      "execution_count": null,
      "outputs": []
    },
    {
      "cell_type": "markdown",
      "source": [
        "Create the folding function and initialize the simulation."
      ],
      "metadata": {
        "id": "TqzzCgWOc5sx"
      }
    },
    {
      "cell_type": "code",
      "source": [
        "fold_fn = fold_particles(group, box, N)"
      ],
      "metadata": {
        "id": "DVpLia3jbPeB"
      },
      "execution_count": null,
      "outputs": []
    },
    {
      "cell_type": "code",
      "source": [
        "state = init_fn(key, state.position, neighbor=nbrs)\n",
        "# We need to replace the velocities that JAX MD generates with the symmetric \n",
        "# velocities.\n",
        "state = dataclasses.replace(state, velocity=velocities)"
      ],
      "metadata": {
        "id": "gG3h4fmtKIYi"
      },
      "execution_count": null,
      "outputs": []
    },
    {
      "cell_type": "markdown",
      "source": [
        "Run the simulation for 20000 steps, recording every 100 steps."
      ],
      "metadata": {
        "id": "gwhYnxAqc9ML"
      }
    },
    {
      "cell_type": "code",
      "source": [
        "from jax import lax\n",
        "\n",
        "def sim_fn(i, state_nbrs):\n",
        "  state, nbrs = state_nbrs\n",
        "  state = step_fn(state, neighbor=nbrs)\n",
        "  state = fold_fn(state)\n",
        "  nbrs = nbrs.update(state.position)\n",
        "  return state, nbrs\n",
        "\n",
        "trajectory = []\n",
        "for i in range(200):\n",
        "  trajectory += [state.position]\n",
        "  state, nbrs = lax.fori_loop(0, 100, sim_fn, (state, nbrs))\n",
        "trajectory = jnp.stack(trajectory)\n",
        "print(f'Did neighborlist overflow: {nbrs.did_buffer_overflow}')"
      ],
      "metadata": {
        "id": "NrmMRJH4KXTW"
      },
      "execution_count": null,
      "outputs": []
    },
    {
      "cell_type": "code",
      "source": [
        "renderer.render(box, \n",
        "                renderer.Disk(trajectory, color=colors),\n",
        "                resolution=(512, 512),\n",
        "                background_color=[1, 1, 1])"
      ],
      "metadata": {
        "id": "xc3hjATcWOii"
      },
      "execution_count": null,
      "outputs": []
    },
    {
      "cell_type": "code",
      "source": [
        ""
      ],
      "metadata": {
        "id": "RM6BfRXRejx-"
      },
      "execution_count": null,
      "outputs": []
    }
  ]
}


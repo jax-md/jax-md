{
  "cells": [
    {
      "cell_type": "markdown",
      "metadata": {
        "colab_type": "text",
        "id": "view-in-github"
      },
      "source": [
        "<a href=\"https://colab.research.google.com/github/routhleck/jax-md/blob/main/examples-with-unit/2-Faster_Simulation.ipynb\" target=\"_parent\"><img src=\"https://colab.research.google.com/assets/colab-badge.svg\" alt=\"Open In Colab\"/></a>"
      ]
    },
    {
      "cell_type": "code",
      "execution_count": 8,
      "metadata": {
        "cellView": "form",
        "id": "odlcm3Jmuglm"
      },
      "outputs": [],
      "source": [
        "#@title Import & Util\n",
        "\n",
        "# %%capture\n",
        "\n",
        "# !pip install git+https://github.com/google/jax-md\n",
        "!pip install git+https://github.com/routhleck/jax-md.git\n",
        "!pip install brainunit\n",
        "!pip install brainstate\n",
        "\n",
        "import jax.numpy as np\n",
        "from jax import device_put\n",
        "from jax import config\n",
        "# TODO: Uncomment this and enable warnings when XLA bug is fixed.\n",
        "import warnings; warnings.simplefilter('ignore')\n",
        "config.update('jax_enable_x64', True)\n",
        "from IPython.display import set_matplotlib_formats\n",
        "set_matplotlib_formats('pdf', 'svg')\n",
        "import matplotlib.pyplot as plt\n",
        "import seaborn as sns\n",
        "import pickle\n",
        "\n",
        "import warnings\n",
        "warnings.simplefilter(\"ignore\")\n",
        "\n",
        "sns.set_style(style='white')\n",
        "background_color = [56 / 256] * 3\n",
        "def plot(x, y, *args):\n",
        "  plt.plot(x, y, *args, linewidth=3)\n",
        "  plt.gca().set_facecolor([1, 1, 1])\n",
        "def draw(R, **kwargs):\n",
        "  if 'c' not in kwargs:\n",
        "    kwargs['color'] = [1, 1, 0.9]\n",
        "  ax = plt.axes(xlim=(0, float(jnp.max(R[:, 0]))), \n",
        "                ylim=(0, float(jnp.max(R[:, 1]))))\n",
        "  ax.get_xaxis().set_visible(False)\n",
        "  ax.get_yaxis().set_visible(False)\n",
        "  ax.set_facecolor(background_color)\n",
        "  plt.scatter(R[:, 0], R[:, 1],  marker='o', s=1024, **kwargs)\n",
        "  plt.gcf().patch.set_facecolor(background_color)\n",
        "  plt.gcf().set_size_inches(6, 6)\n",
        "  plt.tight_layout()\n",
        "def draw_big(R, **kwargs):\n",
        "  if 'c' not in kwargs:\n",
        "    kwargs['color'] = [1, 1, 0.9]\n",
        "  fig = plt.figure(dpi=128)\n",
        "  ax = plt.axes(xlim=(0, float(jnp.max(R[:, 0]))),\n",
        "                ylim=(0, float(jnp.max(R[:, 1]))))\n",
        "  ax.get_xaxis().set_visible(False)\n",
        "  ax.get_yaxis().set_visible(False)\n",
        "  ax.set_facecolor(background_color)\n",
        "  s = plt.scatter(R[:, 0], R[:, 1], marker='o', s=0.5, **kwargs)\n",
        "  s.set_rasterized(True)\n",
        "  plt.gcf().patch.set_facecolor(background_color)\n",
        "  plt.gcf().set_size_inches(10, 10)\n",
        "  plt.tight_layout()\n",
        "def draw_displacement(R, dR):\n",
        "  plt.quiver(R[:, 0], R[:, 1], dR[:, 0], dR[:, 1], color=[1, 0.5, 0.5])\n",
        "\n",
        "# Progress Bars\n",
        "\n",
        "from IPython.display import HTML, display\n",
        "import time\n",
        "\n",
        "def ProgressIter(iter_fun, iter_len=0):\n",
        "  if not iter_len:\n",
        "    iter_len = len(iter_fun)\n",
        "  out = display(progress(0, iter_len), display_id=True)\n",
        "  for i, it in enumerate(iter_fun):\n",
        "    yield it\n",
        "    out.update(progress(i + 1, iter_len))\n",
        "\n",
        "def progress(value, max):\n",
        "    return HTML(\"\"\"\n",
        "        <progress\n",
        "            value='{value}'\n",
        "            max='{max}',\n",
        "            style='width: 45%'\n",
        "        >\n",
        "            {value}\n",
        "        </progress>\n",
        "    \"\"\".format(value=value, max=max))"
      ]
    },
    {
      "cell_type": "markdown",
      "metadata": {
        "id": "mCvUpKcXm7MJ"
      },
      "source": [
        "# 2-Faster Simulation"
      ]
    },
    {
      "cell_type": "markdown",
      "metadata": {
        "id": "9_FfC_k1DMfB"
      },
      "source": [
        "### Energy and Automatic Differentiation"
      ]
    },
    {
      "cell_type": "markdown",
      "metadata": {
        "id": "ISh1a8bK33QZ"
      },
      "source": [
        "$$\n",
        "u(r) = \\begin{cases}\\frac13(1 - r)^3 & \\text{if $r < 1$} \\\\ 0 & \\text{otherwise} \\end{cases}\n",
        "$$"
      ]
    },
    {
      "cell_type": "code",
      "execution_count": 2,
      "metadata": {
        "id": "uQs4C7ggBxBM"
      },
      "outputs": [
        {
          "name": "stdout",
          "output_type": "stream",
          "text": [
            "0.04166667 * electronvolt\n"
          ]
        }
      ],
      "source": [
        "import jax.numpy as jnp\n",
        "import brainunit as u\n",
        "import brainstate as bst\n",
        "\n",
        "@u.assign_units(r=u.angstrom, result=u.eV)\n",
        "def soft_sphere(r):\n",
        "  return jnp.where(r < 1, \n",
        "                   1/3 * (1 - r) ** 3,\n",
        "                   0.)\n",
        "\n",
        "print(soft_sphere(0.5 * u.angstrom))"
      ]
    },
    {
      "cell_type": "markdown",
      "metadata": {
        "id": "b6uiqzqS04EN"
      },
      "source": [
        "### Randomly Initialize a System"
      ]
    },
    {
      "cell_type": "code",
      "execution_count": 3,
      "metadata": {
        "id": "EmDIRcGvBaN6"
      },
      "outputs": [],
      "source": [
        "from jax import random\n",
        "\n",
        "key = random.PRNGKey(1)\n",
        "\n",
        "particle_count = 128\n",
        "number_density = 1.2 / u.angstrom ** 2\n",
        "dim = 2"
      ]
    },
    {
      "cell_type": "code",
      "execution_count": 4,
      "metadata": {
        "id": "BXOafNfpppzn"
      },
      "outputs": [],
      "source": [
        "from jax_md import quantity\n",
        "\n",
        "# number_density = N / V\n",
        "box_size = quantity.box_size_at_number_density(particle_count = particle_count, \n",
        "                                               number_density = number_density, \n",
        "                                               spatial_dimension = dim)\n",
        "\n",
        "R = bst.random._random_for_unit.uniform_for_unit(key, (particle_count, dim), minval=0*u.angstrom, maxval=box_size)"
      ]
    },
    {
      "cell_type": "markdown",
      "metadata": {
        "id": "APxYUxxo7Dzg"
      },
      "source": [
        "### Displacements and Distances\n"
      ]
    },
    {
      "cell_type": "code",
      "execution_count": 15,
      "metadata": {
        "id": "p9fNv_PXCWg3"
      },
      "outputs": [
        {
          "name": "stdout",
          "output_type": "stream",
          "text": [
            "ArrayImpl([ 2.6709671, -4.09407854], dtype=float32) * angstrom\n"
          ]
        }
      ],
      "source": [
        "from jax_md import space\n",
        "\n",
        "displacement, shift = space.periodic(box_size)\n",
        "\n",
        "print(displacement(R[0], R[1]))"
      ]
    },
    {
      "cell_type": "code",
      "execution_count": 17,
      "metadata": {
        "id": "ObwSolXq7R6D"
      },
      "outputs": [
        {
          "name": "stdout",
          "output_type": "stream",
          "text": [
            "4.888307 * angstrom\n"
          ]
        }
      ],
      "source": [
        "metric = space.metric(displacement)\n",
        "\n",
        "print(metric(R[0], R[1]))"
      ]
    },
    {
      "cell_type": "markdown",
      "metadata": {
        "id": "0bmwFmj57HdI"
      },
      "source": [
        "Compute distances between pairs of points"
      ]
    },
    {
      "cell_type": "code",
      "execution_count": 18,
      "metadata": {
        "id": "EX--_0MoDV1m"
      },
      "outputs": [
        {
          "name": "stdout",
          "output_type": "stream",
          "text": [
            "ArrayImpl([[0.       , 4.88830709, 4.64909458],\n",
            "           [4.88830709, 0.       , 4.22363997],\n",
            "           [4.64909458, 4.22363997, 0.       ]], dtype=float32) * angstrom\n"
          ]
        }
      ],
      "source": [
        "v_displacement = space.map_product(displacement)\n",
        "v_metric = space.map_product(metric)\n",
        "\n",
        "print(v_metric(R[:3], R[:3]))"
      ]
    },
    {
      "cell_type": "markdown",
      "metadata": {
        "id": "MXxXuAja7W3-"
      },
      "source": [
        "### Total Energy of a System"
      ]
    },
    {
      "cell_type": "code",
      "execution_count": 13,
      "metadata": {
        "id": "Tl6HLZwfEWcz"
      },
      "outputs": [],
      "source": [
        "def energy_fn(R):\n",
        "  dr = v_metric(R, R)\n",
        "  return 0.5 * u.math.sum(soft_sphere(dr))"
      ]
    },
    {
      "cell_type": "markdown",
      "metadata": {
        "id": "5mVlh-lr5FY0"
      },
      "source": [
        "### Minimization"
      ]
    },
    {
      "cell_type": "markdown",
      "metadata": {
        "id": "rAqamj4fse3W"
      },
      "source": [
        "### Faster Simulation Through Compilation"
      ]
    },
    {
      "cell_type": "code",
      "execution_count": 5,
      "metadata": {
        "id": "c1V8ds1fe7oa"
      },
      "outputs": [],
      "source": [
        "import jax\n",
        "\n",
        "cond_fn = lambda state: u.math.max(u.math.abs(state.force)) > 1e-4 * u.IMF"
      ]
    },
    {
      "cell_type": "code",
      "execution_count": 11,
      "metadata": {
        "id": "9IJL_maT6qUM"
      },
      "outputs": [],
      "source": [
        "from jax_md import minimize\n",
        "def min(R):\n",
        "  init, apply = minimize.fire_descent(energy_fn, shift)\n",
        "\n",
        "  state = init(R)\n",
        "\n",
        "  for _ in range(20):\n",
        "    state = apply(state)\n",
        "\n",
        "  return energy_fn(state.position)"
      ]
    },
    {
      "cell_type": "code",
      "execution_count": 19,
      "metadata": {
        "id": "6ohMuvT38XcP"
      },
      "outputs": [
        {
          "name": "stdout",
          "output_type": "stream",
          "text": [
            "96.6 ms ± 7.49 ms per loop (mean ± std. dev. of 7 runs, 1 loop each)\n"
          ]
        }
      ],
      "source": [
        "%%timeit\n",
        "jax.block_until_ready(min(R))"
      ]
    },
    {
      "cell_type": "code",
      "execution_count": 20,
      "metadata": {
        "id": "ZNMxdujG81-6"
      },
      "outputs": [],
      "source": [
        "from jax import jit\n",
        "\n",
        "# Just-In-Time compile to GPU\n",
        "min = jit(min)"
      ]
    },
    {
      "cell_type": "code",
      "execution_count": 21,
      "metadata": {
        "id": "gDGx3UAE9CIn"
      },
      "outputs": [
        {
          "data": {
            "text/plain": [
              "22.277498 * electronvolt"
            ]
          },
          "execution_count": 21,
          "metadata": {},
          "output_type": "execute_result"
        }
      ],
      "source": [
        "# The first call incurs a compilation cost\n",
        "min(R)"
      ]
    },
    {
      "cell_type": "code",
      "execution_count": 22,
      "metadata": {
        "id": "zOr9jtW48w-s"
      },
      "outputs": [
        {
          "name": "stdout",
          "output_type": "stream",
          "text": [
            "6.15 ms ± 101 μs per loop (mean ± std. dev. of 7 runs, 100 loops each)\n"
          ]
        }
      ],
      "source": [
        "%%timeit\n",
        "jax.block_until_ready(min(R))"
      ]
    },
    {
      "cell_type": "code",
      "execution_count": 23,
      "metadata": {
        "id": "ZFBLKVTDZN_z"
      },
      "outputs": [],
      "source": [
        "from jax import lax\n",
        "\n",
        "@jit\n",
        "def min(R):\n",
        "  init_fn, apply_fn = minimize.fire_descent(energy_fn, shift)\n",
        "\n",
        "  state = init_fn(R)\n",
        "  # Using a JAX loop reduces compilation cost\n",
        "  state = lax.while_loop(cond_fun=cond_fn,\n",
        "                         body_fun=apply_fn,\n",
        "                         init_val=state)\n",
        "\n",
        "  return state.position"
      ]
    },
    {
      "cell_type": "code",
      "execution_count": 24,
      "metadata": {
        "id": "FkfvXICRZd3Z"
      },
      "outputs": [],
      "source": [
        "R_is = min(R)"
      ]
    },
    {
      "cell_type": "code",
      "execution_count": 25,
      "metadata": {
        "id": "1yHZHshlZeVw"
      },
      "outputs": [
        {
          "name": "stdout",
          "output_type": "stream",
          "text": [
            "128 ms ± 2.72 ms per loop (mean ± std. dev. of 7 runs, 10 loops each)\n"
          ]
        }
      ],
      "source": [
        "%%timeit\n",
        "jax.block_until_ready(min(R))"
      ]
    }
  ],
  "metadata": {
    "accelerator": "GPU",
    "colab": {
      "include_colab_link": true,
      "private_outputs": true,
      "provenance": [],
      "toc_visible": true
    },
    "kernelspec": {
      "display_name": "jax-md",
      "language": "python",
      "name": "python3"
    },
    "language_info": {
      "codemirror_mode": {
        "name": "ipython",
        "version": 3
      },
      "file_extension": ".py",
      "mimetype": "text/x-python",
      "name": "python",
      "nbconvert_exporter": "python",
      "pygments_lexer": "ipython3",
      "version": "3.10.15"
    }
  },
  "nbformat": 4,
  "nbformat_minor": 0
}
